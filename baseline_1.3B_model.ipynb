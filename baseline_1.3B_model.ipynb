{
 "cells": [
  {
   "cell_type": "code",
   "execution_count": 1,
   "metadata": {},
   "outputs": [
    {
     "name": "stderr",
     "output_type": "stream",
     "text": [
      "/opt/miniconda3/envs/nlp-project/lib/python3.12/site-packages/tqdm/auto.py:21: TqdmWarning: IProgress not found. Please update jupyter and ipywidgets. See https://ipywidgets.readthedocs.io/en/stable/user_install.html\n",
      "  from .autonotebook import tqdm as notebook_tqdm\n"
     ]
    }
   ],
   "source": [
    "import torch\n",
    "from datasets import load_dataset\n",
    "from transformers import AutoTokenizer, AutoModelForSequenceClassification\n",
    "import numpy as np\n",
    "import evaluate"
   ]
  },
  {
   "cell_type": "markdown",
   "metadata": {},
   "source": [
    "## Select Device (CPU, CUDA, or MPS if on Apple Silicon)"
   ]
  },
  {
   "cell_type": "code",
   "execution_count": 2,
   "metadata": {},
   "outputs": [
    {
     "name": "stdout",
     "output_type": "stream",
     "text": [
      "Using device: mps\n"
     ]
    }
   ],
   "source": [
    "\n",
    "if torch.cuda.is_available():\n",
    "    device = torch.device(\"cuda\")\n",
    "elif hasattr(torch.backends, \"mps\") and torch.backends.mps.is_available():\n",
    "    device = torch.device(\"mps\")\n",
    "else:\n",
    "    device = torch.device(\"cpu\")\n",
    "\n",
    "print(f\"Using device: {device}\")\n"
   ]
  },
  {
   "cell_type": "markdown",
   "metadata": {},
   "source": [
    "## Load the SST2 Dataset"
   ]
  },
  {
   "cell_type": "code",
   "execution_count": 3,
   "metadata": {},
   "outputs": [],
   "source": [
    "# The SST2 dataset is part of the GLUE benchmark. \n",
    "# We use the \"validation\" split for demonstration.\n",
    "dataset_sst2 = load_dataset(\"glue\", \"sst2\")\n",
    "dataset = dataset_sst2[\"validation\"]"
   ]
  },
  {
   "cell_type": "markdown",
   "metadata": {},
   "source": [
    "## Load Model and Tokenizer"
   ]
  },
  {
   "cell_type": "code",
   "execution_count": 4,
   "metadata": {},
   "outputs": [
    {
     "name": "stderr",
     "output_type": "stream",
     "text": [
      "Some weights of LlamaForSequenceClassification were not initialized from the model checkpoint at HuggingFaceTB/SmolLM-1.7B-Instruct and are newly initialized: ['score.weight']\n",
      "You should probably TRAIN this model on a down-stream task to be able to use it for predictions and inference.\n"
     ]
    },
    {
     "data": {
      "text/plain": [
       "LlamaForSequenceClassification(\n",
       "  (model): LlamaModel(\n",
       "    (embed_tokens): Embedding(49152, 2048, padding_idx=2)\n",
       "    (layers): ModuleList(\n",
       "      (0-23): 24 x LlamaDecoderLayer(\n",
       "        (self_attn): LlamaAttention(\n",
       "          (q_proj): Linear(in_features=2048, out_features=2048, bias=False)\n",
       "          (k_proj): Linear(in_features=2048, out_features=2048, bias=False)\n",
       "          (v_proj): Linear(in_features=2048, out_features=2048, bias=False)\n",
       "          (o_proj): Linear(in_features=2048, out_features=2048, bias=False)\n",
       "        )\n",
       "        (mlp): LlamaMLP(\n",
       "          (gate_proj): Linear(in_features=2048, out_features=8192, bias=False)\n",
       "          (up_proj): Linear(in_features=2048, out_features=8192, bias=False)\n",
       "          (down_proj): Linear(in_features=8192, out_features=2048, bias=False)\n",
       "          (act_fn): SiLU()\n",
       "        )\n",
       "        (input_layernorm): LlamaRMSNorm((2048,), eps=1e-05)\n",
       "        (post_attention_layernorm): LlamaRMSNorm((2048,), eps=1e-05)\n",
       "      )\n",
       "    )\n",
       "    (norm): LlamaRMSNorm((2048,), eps=1e-05)\n",
       "    (rotary_emb): LlamaRotaryEmbedding()\n",
       "  )\n",
       "  (score): Linear(in_features=2048, out_features=2, bias=False)\n",
       ")"
      ]
     },
     "execution_count": 4,
     "metadata": {},
     "output_type": "execute_result"
    }
   ],
   "source": [
    "model_name = \"HuggingFaceTB/SmolLM-1.7B-Instruct\"\n",
    "tokenizer = AutoTokenizer.from_pretrained(model_name)\n",
    "model = AutoModelForSequenceClassification.from_pretrained(model_name)\n",
    "model.to(device)\n",
    "model.eval()"
   ]
  },
  {
   "cell_type": "markdown",
   "metadata": {},
   "source": [
    "## Preprocessing Function"
   ]
  },
  {
   "cell_type": "code",
   "execution_count": 5,
   "metadata": {},
   "outputs": [],
   "source": [
    "def preprocess(examples):\n",
    "    \"\"\"\n",
    "    Tokenize the text from the SST2 dataset.\n",
    "    SST2 has a \"sentence\" key. The label is in \"label\".\n",
    "    \"\"\"\n",
    "    return tokenizer(\n",
    "        examples[\"sentence\"],\n",
    "        truncation=True,\n",
    "        padding=\"max_length\",\n",
    "        max_length=128\n",
    "    )"
   ]
  },
  {
   "cell_type": "markdown",
   "metadata": {},
   "source": [
    "## Preprocess Dataset"
   ]
  },
  {
   "cell_type": "code",
   "execution_count": 6,
   "metadata": {},
   "outputs": [],
   "source": [
    "encoded_dataset = dataset.map(preprocess, batched=True)\n",
    "encoded_dataset.set_format(type=\"torch\", columns=[\"input_ids\", \"attention_mask\", \"label\"])"
   ]
  },
  {
   "cell_type": "markdown",
   "metadata": {},
   "source": [
    "## Perform Inference to Obtain Model Outputs"
   ]
  },
  {
   "cell_type": "code",
   "execution_count": 7,
   "metadata": {},
   "outputs": [],
   "source": [
    "all_logits = []\n",
    "all_labels = []\n",
    "\n",
    "with torch.no_grad():\n",
    "    for i in range(len(encoded_dataset)):\n",
    "        batch = {\n",
    "            \"input_ids\": encoded_dataset[i][\"input_ids\"].unsqueeze(0).to(device),\n",
    "            \"attention_mask\": encoded_dataset[i][\"attention_mask\"].unsqueeze(0).to(device),\n",
    "        }\n",
    "        outputs = model(**batch)\n",
    "        logits = outputs.logits\n",
    "        all_logits.append(logits.cpu().numpy()[0])  # move logits back to CPU for processing\n",
    "        all_labels.append(encoded_dataset[i][\"label\"].item())\n",
    "\n",
    "all_logits = np.array(all_logits)\n",
    "all_labels = np.array(all_labels)"
   ]
  },
  {
   "cell_type": "markdown",
   "metadata": {},
   "source": [
    "## Convert Logits to Probabilities and Predictions"
   ]
  },
  {
   "cell_type": "code",
   "execution_count": 8,
   "metadata": {},
   "outputs": [],
   "source": [
    "probabilities = torch.nn.functional.softmax(torch.tensor(all_logits), dim=-1).numpy()\n",
    "pred_labels = np.argmax(probabilities, axis=-1)"
   ]
  },
  {
   "cell_type": "markdown",
   "metadata": {},
   "source": [
    "## Compute Accuracy"
   ]
  },
  {
   "cell_type": "code",
   "execution_count": 10,
   "metadata": {},
   "outputs": [],
   "source": [
    "accuracy_score = np.mean(pred_labels == all_labels)"
   ]
  },
  {
   "cell_type": "markdown",
   "metadata": {},
   "source": [
    "## Compute Negative Log-Likelihood (NLL)"
   ]
  },
  {
   "cell_type": "code",
   "execution_count": 11,
   "metadata": {},
   "outputs": [],
   "source": [
    "def compute_nll(probs, labels):\n",
    "    \"\"\"\n",
    "    NLL is defined as -log(p(correct_label)).\n",
    "    We'll compute the average NLL over the dataset.\n",
    "    \"\"\"\n",
    "    p_correct = probs[np.arange(len(labels)), labels]\n",
    "    # clip to avoid numerical instability\n",
    "    p_correct = np.clip(p_correct, 1e-12, 1.0)\n",
    "    return -np.mean(np.log(p_correct))\n",
    "\n",
    "nll_score = compute_nll(probabilities, all_labels)"
   ]
  },
  {
   "cell_type": "markdown",
   "metadata": {},
   "source": [
    "## Compute Expected Calibration Error (ECE)"
   ]
  },
  {
   "cell_type": "code",
   "execution_count": 12,
   "metadata": {},
   "outputs": [
    {
     "name": "stdout",
     "output_type": "stream",
     "text": [
      "Number of examples: 872\n",
      "Accuracy: 0.5103\n",
      "NLL: 0.7362\n",
      "ECE: 0.1326\n"
     ]
    }
   ],
   "source": [
    "# A simple ECE implementation using equally spaced bins.\n",
    "def compute_ece(probs, labels, num_bins=10):\n",
    "    \"\"\"\n",
    "    :param probs: Array of shape (N, num_classes) with predicted probabilities\n",
    "    :param labels: 1D array of shape (N,) with ground-truth labels\n",
    "    :param num_bins: Number of confidence bins\n",
    "    :return: ECE value (float)\n",
    "    \"\"\"\n",
    "    confidences = np.max(probs, axis=-1)\n",
    "    predictions = np.argmax(probs, axis=-1)\n",
    "    \n",
    "    bin_boundaries = np.linspace(0.0, 1.0, num_bins + 1)\n",
    "    ece = 0.0\n",
    "    \n",
    "    for i in range(num_bins):\n",
    "        start = bin_boundaries[i]\n",
    "        end = bin_boundaries[i+1]\n",
    "        mask = (confidences >= start) & (confidences < end)\n",
    "        if np.sum(mask) == 0:\n",
    "            continue\n",
    "        \n",
    "        bin_accuracy = np.mean(predictions[mask] == labels[mask])\n",
    "        bin_confidence = np.mean(confidences[mask])\n",
    "        bin_proportion = np.mean(mask)\n",
    "        \n",
    "        ece += abs(bin_confidence - bin_accuracy) * bin_proportion\n",
    "    \n",
    "    return ece\n",
    "\n",
    "ece_score = compute_ece(probabilities, all_labels, num_bins=10)\n",
    "\n",
    "print(f\"Number of examples: {len(dataset)}\")\n",
    "print(f\"Accuracy: {accuracy_score:.4f}\")\n",
    "print(f\"NLL: {nll_score:.4f}\")\n",
    "print(f\"ECE: {ece_score:.4f}\")\n"
   ]
  }
 ],
 "metadata": {
  "kernelspec": {
   "display_name": "nlp-project",
   "language": "python",
   "name": "python3"
  },
  "language_info": {
   "codemirror_mode": {
    "name": "ipython",
    "version": 3
   },
   "file_extension": ".py",
   "mimetype": "text/x-python",
   "name": "python",
   "nbconvert_exporter": "python",
   "pygments_lexer": "ipython3",
   "version": "3.12.2"
  }
 },
 "nbformat": 4,
 "nbformat_minor": 2
}
