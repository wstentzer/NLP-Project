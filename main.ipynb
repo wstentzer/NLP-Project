{
 "cells": [
  {
   "cell_type": "markdown",
   "metadata": {},
   "source": [
    "# Embed dataset:"
   ]
  },
  {
   "cell_type": "code",
   "execution_count": 1,
   "metadata": {},
   "outputs": [
    {
     "name": "stdout",
     "output_type": "stream",
     "text": [
      "Using device: privateuseone:0\n"
     ]
    },
    {
     "data": {
      "application/vnd.jupyter.widget-view+json": {
       "model_id": "0b099cf694ff40baa5dc6d84de41aa02",
       "version_major": 2,
       "version_minor": 0
      },
      "text/plain": [
       "tokenizer_config.json:   0%|          | 0.00/3.59k [00:00<?, ?B/s]"
      ]
     },
     "metadata": {},
     "output_type": "display_data"
    },
    {
     "name": "stderr",
     "output_type": "stream",
     "text": [
      "c:\\Users\\mbvxd_PC\\miniconda3\\envs\\pytdml\\Lib\\site-packages\\huggingface_hub\\file_download.py:147: UserWarning: `huggingface_hub` cache-system uses symlinks by default to efficiently store duplicated files but your machine does not support them in C:\\Users\\mbvxd_PC\\.cache\\huggingface\\hub\\models--HuggingFaceTB--SmolLM-1.7B-Instruct. Caching files will still work but in a degraded version that might require more space on your disk. This warning can be disabled by setting the `HF_HUB_DISABLE_SYMLINKS_WARNING` environment variable. For more details, see https://huggingface.co/docs/huggingface_hub/how-to-cache#limitations.\n",
      "To support symlinks on Windows, you either need to activate Developer Mode or to run Python as an administrator. In order to activate developer mode, see this article: https://docs.microsoft.com/en-us/windows/apps/get-started/enable-your-device-for-development\n",
      "  warnings.warn(message)\n"
     ]
    },
    {
     "data": {
      "application/vnd.jupyter.widget-view+json": {
       "model_id": "f034b43b03424d77b4860bc79af4cd42",
       "version_major": 2,
       "version_minor": 0
      },
      "text/plain": [
       "vocab.json:   0%|          | 0.00/801k [00:00<?, ?B/s]"
      ]
     },
     "metadata": {},
     "output_type": "display_data"
    },
    {
     "data": {
      "application/vnd.jupyter.widget-view+json": {
       "model_id": "5848385101414b1a90fec7f3a48421f0",
       "version_major": 2,
       "version_minor": 0
      },
      "text/plain": [
       "merges.txt:   0%|          | 0.00/466k [00:00<?, ?B/s]"
      ]
     },
     "metadata": {},
     "output_type": "display_data"
    },
    {
     "data": {
      "application/vnd.jupyter.widget-view+json": {
       "model_id": "ad4d6cbab1e247328f5a2a896dedd838",
       "version_major": 2,
       "version_minor": 0
      },
      "text/plain": [
       "tokenizer.json:   0%|          | 0.00/2.10M [00:00<?, ?B/s]"
      ]
     },
     "metadata": {},
     "output_type": "display_data"
    },
    {
     "data": {
      "application/vnd.jupyter.widget-view+json": {
       "model_id": "01792b25a7234e38a86dd6f1b799b207",
       "version_major": 2,
       "version_minor": 0
      },
      "text/plain": [
       "special_tokens_map.json:   0%|          | 0.00/655 [00:00<?, ?B/s]"
      ]
     },
     "metadata": {},
     "output_type": "display_data"
    },
    {
     "data": {
      "application/vnd.jupyter.widget-view+json": {
       "model_id": "2fd85930503241b4900a02d0cb666bd9",
       "version_major": 2,
       "version_minor": 0
      },
      "text/plain": [
       "config.json:   0%|          | 0.00/738 [00:00<?, ?B/s]"
      ]
     },
     "metadata": {},
     "output_type": "display_data"
    },
    {
     "data": {
      "application/vnd.jupyter.widget-view+json": {
       "model_id": "5571e88978124581a3a6a90aa55c6568",
       "version_major": 2,
       "version_minor": 0
      },
      "text/plain": [
       "model.safetensors:   0%|          | 0.00/3.42G [00:00<?, ?B/s]"
      ]
     },
     "metadata": {},
     "output_type": "display_data"
    },
    {
     "data": {
      "application/vnd.jupyter.widget-view+json": {
       "model_id": "de13fe657e04481d9cb2faabeaeb8eb0",
       "version_major": 2,
       "version_minor": 0
      },
      "text/plain": [
       "generation_config.json:   0%|          | 0.00/156 [00:00<?, ?B/s]"
      ]
     },
     "metadata": {},
     "output_type": "display_data"
    }
   ],
   "source": [
    "import torch\n",
    "import torch.nn as nn\n",
    "import torch.optim as optim\n",
    "import torch_directml\n",
    "from transformers import AutoTokenizer, AutoModelForCausalLM, AutoModel\n",
    "from datasets import load_dataset\n",
    "import numpy as np\n",
    "\n",
    "# Check for GPU\n",
    "# device = torch.device('cuda' if torch.cuda.is_available() else 'cpu')\n",
    "device = torch_directml.device()\n",
    "print(f'Using device: {device}')\n",
    "\n",
    "# Load model directly\n",
    "tokenizer = AutoTokenizer.from_pretrained(\"HuggingFaceTB/SmolLM-1.7B-Instruct\")\n",
    "model = AutoModelForCausalLM.from_pretrained(\"HuggingFaceTB/SmolLM-1.7B-Instruct\")\n",
    "\n",
    "# Move the model to GPU\n",
    "model = model.to(device)\n",
    "\n",
    "# Load the SST-2 dataset from the GLUE benchmark\n",
    "dataset = load_dataset('glue', 'sst2')"
   ]
  },
  {
   "cell_type": "code",
   "execution_count": null,
   "metadata": {},
   "outputs": [
    {
     "data": {
      "application/vnd.jupyter.widget-view+json": {
       "model_id": "22cd8c9abb5745888781ecd758f630bb",
       "version_major": 2,
       "version_minor": 0
      },
      "text/plain": [
       "Map:   0%|          | 0/100 [00:00<?, ? examples/s]"
      ]
     },
     "metadata": {},
     "output_type": "display_data"
    }
   ],
   "source": [
    "# Define the number of examples to use\n",
    "N_train = 70  # Adjust this number as needed\n",
    "N_val = 30\n",
    "N_total = N_train + N_val\n",
    "\n",
    "# Select a subset of the dataset\n",
    "total_dataset = dataset['train'].select(range(N_total))\n",
    "\n",
    "# Tokenization function\n",
    "def tokenize_function(example):\n",
    "    return tokenizer(example['sentence'], padding='max_length', truncation=True, max_length=128)\n",
    "\n",
    "# Tokenize the subset\n",
    "tokenized_total_dataset = total_dataset.map(tokenize_function, batched=True)\n",
    "\n",
    "# Embedding function with explicit data types\n",
    "def embed_sentences(batch):\n",
    "    with torch.no_grad():\n",
    "        input_ids = torch.tensor(batch['input_ids'], dtype=torch.long).to(device)\n",
    "        attention_mask = torch.tensor(batch['attention_mask'], dtype=torch.bool).to(device)\n",
    "\n",
    "        outputs = model(input_ids=input_ids, attention_mask=attention_mask, output_hidden_states=True)\n",
    "        last_hidden_state = outputs.hidden_states[-1]\n",
    "\n",
    "        # Mean pooling with attention masking\n",
    "        expanded_attention_mask = attention_mask.unsqueeze(-1).expand(last_hidden_state.size()).float()\n",
    "        sum_embeddings = torch.sum(last_hidden_state * expanded_attention_mask, dim=1)\n",
    "        sum_mask = torch.clamp(expanded_attention_mask.sum(dim=1), min=1e-9)\n",
    "        embeddings = sum_embeddings / sum_mask\n",
    "\n",
    "    return {'embeddings': embeddings.cpu().numpy()}\n",
    "\n",
    "\n",
    "# Embed the tokenized subset\n",
    "embedded_total_dataset = tokenized_total_dataset.map(embed_sentences, batched=True)\n",
    "\n",
    "# Extract embeddings and labels\n",
    "embeddings = np.array(embedded_total_dataset['embeddings'])\n",
    "labels = np.array(embedded_total_dataset['label'])\n",
    "\n",
    "# Split embeddings and labels into train and validation sets\n",
    "train_embeddings = embeddings[:N_train]\n",
    "train_labels = labels[:N_train]\n",
    "\n",
    "validation_embeddings = embeddings[N_train:N_train+N_val]\n",
    "validation_labels = labels[N_train:N_train+N_val]\n",
    "\n",
    "# Convert data to tensors\n",
    "train_embeddings_tensor = torch.tensor(train_embeddings, dtype=torch.float32).to(device)\n",
    "train_labels_tensor = torch.tensor(train_labels, dtype=torch.long).to(device)\n",
    "\n",
    "validation_embeddings_tensor = torch.tensor(validation_embeddings, dtype=torch.float32).to(device)\n",
    "validation_labels_tensor = torch.tensor(validation_labels, dtype=torch.long).to(device)\n",
    "\n"
   ]
  },
  {
   "cell_type": "markdown",
   "metadata": {},
   "source": [
    "# Ensemble training"
   ]
  },
  {
   "cell_type": "code",
   "execution_count": null,
   "metadata": {},
   "outputs": [],
   "source": [
    "# Define the MLP architecture\n",
    "class MLPClassifier(nn.Module):\n",
    "    def __init__(self, input_size, hidden_size, output_size):\n",
    "        super(MLPClassifier, self).__init__()\n",
    "        self.layer1 = nn.Linear(input_size, hidden_size)\n",
    "        self.relu = nn.ReLU()\n",
    "        self.layer2 = nn.Linear(hidden_size, output_size)\n",
    "        self.softmax = nn.Softmax(dim=1)\n",
    "    \n",
    "    def forward(self, x):\n",
    "        x = self.layer1(x)\n",
    "        x = self.relu(x)\n",
    "        x = self.layer2(x)\n",
    "        return self.softmax(x)\n",
    "\n",
    "# Create an ensemble of MLPs\n",
    "ensemble_size = 5\n",
    "input_size = train_embeddings.shape[1]\n",
    "hidden_size = 128\n",
    "output_size = 2  # For binary classification\n",
    "\n",
    "ensemble = [MLPClassifier(input_size, hidden_size, output_size).to(device) for _ in range(ensemble_size)]\n",
    "\n",
    "# Training loop\n",
    "def train_mlp(model, train_embeddings, train_labels, epochs=10, learning_rate=0.001):\n",
    "    criterion = nn.CrossEntropyLoss()\n",
    "    optimizer = optim.Adam(model.parameters(), lr=learning_rate)\n",
    "    \n",
    "    for epoch in range(epochs):\n",
    "        model.train()\n",
    "        outputs = model(train_embeddings)\n",
    "        loss = criterion(outputs, train_labels)\n",
    "        \n",
    "        optimizer.zero_grad()\n",
    "        loss.backward()\n",
    "        optimizer.step()\n",
    "        \n",
    "        print(f'Epoch [{epoch+1}/{epochs}], Loss: {loss.item():.4f}')\n",
    "\n",
    "# Train each MLP in the ensemble\n",
    "for i, model in enumerate(ensemble):\n",
    "    print(f'Training MLP {i+1}/{ensemble_size}')\n",
    "    train_mlp(model, train_embeddings_tensor, train_labels_tensor)\n",
    "\n",
    "# Function for ensemble prediction\n",
    "def ensemble_predict(ensemble, embeddings):\n",
    "    ensemble_predictions = []\n",
    "    embeddings_tensor = torch.tensor(embeddings, dtype=torch.float32).to(device)\n",
    "\n",
    "    for model in ensemble:\n",
    "        model.eval()\n",
    "        with torch.no_grad():\n",
    "            outputs = model(embeddings_tensor)\n",
    "            ensemble_predictions.append(outputs.cpu().numpy())\n",
    "\n",
    "    averaged_predictions = np.mean(ensemble_predictions, axis=0)\n",
    "    return np.argmax(averaged_predictions, axis=1)\n",
    "\n",
    "# Get ensemble predictions on the validation set\n",
    "ensemble_predictions = ensemble_predict(ensemble, validation_embeddings)\n",
    "\n",
    "# Calculate accuracy\n",
    "accuracy = np.mean(ensemble_predictions == validation_labels)\n",
    "print(f'Ensemble Accuracy: {accuracy * 100:.2f}%')"
   ]
  }
 ],
 "metadata": {
  "kernelspec": {
   "display_name": "pytdml",
   "language": "python",
   "name": "python3"
  },
  "language_info": {
   "codemirror_mode": {
    "name": "ipython",
    "version": 3
   },
   "file_extension": ".py",
   "mimetype": "text/x-python",
   "name": "python",
   "nbconvert_exporter": "python",
   "pygments_lexer": "ipython3",
   "version": "3.12.4"
  }
 },
 "nbformat": 4,
 "nbformat_minor": 2
}
