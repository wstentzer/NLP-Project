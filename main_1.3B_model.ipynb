{
 "cells": [
  {
   "cell_type": "markdown",
   "metadata": {},
   "source": [
    "- plot ensemble accuracy scaling med størrelse \n",
    "- find ud af om der er leak af data for test/validation under træning\n",
    "- få accuracy af de enkle modeller\n",
    "- kig på om der er noget preproccesing af datasettet\n",
    "- start med student har samme arkitæktur som ensemble\n",
    "- Modellen overfitter da vi mangler test labels"
   ]
  },
  {
   "cell_type": "markdown",
   "metadata": {},
   "source": [
    "# Embed dataset:"
   ]
  },
  {
   "cell_type": "code",
   "execution_count": 42,
   "metadata": {},
   "outputs": [],
   "source": [
    "import os\n",
    "import torch\n",
    "import torch.nn as nn\n",
    "import torch.optim as optim\n",
    "from torch.utils.data import DataLoader, TensorDataset\n",
    "from transformers import AutoTokenizer, AutoModelForCausalLM\n",
    "from datasets import load_dataset\n",
    "import numpy as np\n",
    "from tqdm import tqdm\n",
    "import matplotlib.pyplot as plt\n",
    "from sklearn.preprocessing import StandardScaler\n",
    "from sklearn.model_selection import train_test_split\n",
    "from sklearn.linear_model import LogisticRegression\n",
    "from sklearn.metrics import classification_report, confusion_matrix, roc_curve, auc, accuracy_score, ConfusionMatrixDisplay\n",
    "from sklearn.calibration import calibration_curve, CalibratedClassifierCV\n",
    "import lightgbm as lgb\n"
   ]
  },
  {
   "cell_type": "code",
   "execution_count": 3,
   "metadata": {},
   "outputs": [
    {
     "name": "stdout",
     "output_type": "stream",
     "text": [
      "Using device: cuda\n",
      "Loaded train, validation, and test embeddings and labels from disk.\n",
      "Train embeddings shape: (67349, 2048)\n",
      "Train labels shape: (67349,)\n",
      "Validation embeddings shape: (872, 2048)\n",
      "Validation labels shape: (872,)\n",
      "Test embeddings shape: (1821, 2048)\n",
      "Test labels shape: (1821,)\n"
     ]
    }
   ],
   "source": [
    "# Check for GPU\n",
    "device = torch.device('cuda' if torch.cuda.is_available() else 'cpu')\n",
    "print(f'Using device: {device}')\n",
    "\n",
    "# Paths to save/load embeddings and labels\n",
    "train_embeddings_file = 'train_embeddings.npy'\n",
    "train_labels_file = 'train_labels.npy'\n",
    "validation_embeddings_file = 'validation_embeddings.npy'\n",
    "validation_labels_file = 'validation_labels.npy'\n",
    "test_embeddings_file = 'test_embeddings.npy'\n",
    "test_labels_file = 'test_labels.npy'\n",
    "\n",
    "# Check if embeddings and labels are already saved\n",
    "if (os.path.exists(train_embeddings_file) and os.path.exists(train_labels_file) and\n",
    "    os.path.exists(validation_embeddings_file) and os.path.exists(validation_labels_file) and\n",
    "    os.path.exists(test_embeddings_file) and os.path.exists(test_labels_file)):\n",
    "    # Load embeddings and labels\n",
    "    train_embeddings = np.load(train_embeddings_file)\n",
    "    train_labels = np.load(train_labels_file)\n",
    "    validation_embeddings = np.load(validation_embeddings_file)\n",
    "    validation_labels = np.load(validation_labels_file)\n",
    "    test_embeddings = np.load(test_embeddings_file)\n",
    "    test_labels = np.load(test_labels_file)\n",
    "    print(\"Loaded train, validation, and test embeddings and labels from disk.\")\n",
    "else:\n",
    "    # Load model directly\n",
    "    tokenizer = AutoTokenizer.from_pretrained(\"HuggingFaceTB/SmolLM-1.7B-Instruct\")\n",
    "    model = AutoModelForCausalLM.from_pretrained(\"HuggingFaceTB/SmolLM-1.7B-Instruct\")\n",
    "\n",
    "    # Move the model to GPU\n",
    "    model = model.to(device)\n",
    "\n",
    "    # Load the SST-2 dataset from the GLUE benchmark with streaming\n",
    "    dataset = load_dataset('glue', 'sst2', streaming=True)\n",
    "\n",
    "    # Initialize lists to store embeddings and labels for each set\n",
    "    train_embeddings_list = []\n",
    "    train_labels_list = []\n",
    "    validation_embeddings_list = []\n",
    "    validation_labels_list = []\n",
    "    test_embeddings_list = []\n",
    "    test_labels_list = []\n",
    "\n",
    "    # Function to extract embeddings\n",
    "    def extract_embeddings(streamed_dataset, embeddings_list, labels_list):\n",
    "        for example in tqdm(streamed_dataset):\n",
    "            inputs = tokenizer(\n",
    "                example['sentence'],\n",
    "                return_tensors='pt',\n",
    "                padding=True,\n",
    "                truncation=True,\n",
    "                max_length=128\n",
    "            ).to(device)\n",
    "            with torch.no_grad():\n",
    "                outputs = model(**inputs, output_hidden_states=True)\n",
    "            hidden_states = outputs.hidden_states[-1]  # last layer hidden states\n",
    "            embeddings = hidden_states.mean(dim=1).cpu().numpy()  # average over sequence length\n",
    "            embeddings_list.append(embeddings.squeeze())  # shape (hidden_size,)\n",
    "            labels_list.append(example['label'])\n",
    "\n",
    "    # Extract embeddings for train, validation, and test sets\n",
    "    extract_embeddings(dataset['train'], train_embeddings_list, train_labels_list)\n",
    "    extract_embeddings(dataset['validation'], validation_embeddings_list, validation_labels_list)\n",
    "    extract_embeddings(dataset['test'], test_embeddings_list, test_labels_list)\n",
    "\n",
    "    # Convert lists to numpy arrays\n",
    "    train_embeddings = np.vstack(train_embeddings_list)\n",
    "    train_labels = np.array(train_labels_list)\n",
    "    validation_embeddings = np.vstack(validation_embeddings_list)\n",
    "    validation_labels = np.array(validation_labels_list)\n",
    "    test_embeddings = np.vstack(test_embeddings_list)\n",
    "    test_labels = np.array(test_labels_list)\n",
    "\n",
    "    # Standardize the embeddings\n",
    "    scaler = StandardScaler()\n",
    "    train_embeddings = scaler.fit_transform(train_embeddings)\n",
    "    validation_embeddings = scaler.transform(validation_embeddings)\n",
    "    test_embeddings = scaler.transform(test_embeddings)\n",
    "\n",
    "    # Save embeddings, labels, and scaler to disk\n",
    "    np.save(train_embeddings_file, train_embeddings)\n",
    "    np.save(train_labels_file, train_labels)\n",
    "    np.save(validation_embeddings_file, validation_embeddings)\n",
    "    np.save(validation_labels_file, validation_labels)\n",
    "    np.save(test_embeddings_file, test_embeddings)\n",
    "    np.save(test_labels_file, test_labels)\n",
    "\n",
    "    print(\"Saved train, validation, and test embeddings and labels to disk.\")\n",
    "\n",
    "# Print shapes of embeddings and labels\n",
    "print(f\"Train embeddings shape: {train_embeddings.shape}\")\n",
    "print(f\"Train labels shape: {train_labels.shape}\")\n",
    "print(f\"Validation embeddings shape: {validation_embeddings.shape}\")\n",
    "print(f\"Validation labels shape: {validation_labels.shape}\")\n",
    "print(f\"Test embeddings shape: {test_embeddings.shape}\")\n",
    "print(f\"Test labels shape: {test_labels.shape}\")"
   ]
  },
  {
   "cell_type": "markdown",
   "metadata": {},
   "source": [
    "# Ensemble training"
   ]
  },
  {
   "cell_type": "code",
   "execution_count": 68,
   "metadata": {},
   "outputs": [
    {
     "name": "stdout",
     "output_type": "stream",
     "text": [
      "\n",
      "Epoch 1/100\n",
      "Model 1, Validation Loss: 0.3012, Validation Accuracy: 87.16%\n",
      "Model 2, Validation Loss: 0.3006, Validation Accuracy: 87.22%\n",
      "Model 3, Validation Loss: 0.3013, Validation Accuracy: 87.10%\n",
      "Model 4, Validation Loss: 0.3020, Validation Accuracy: 87.21%\n",
      "Model 5, Validation Loss: 0.3002, Validation Accuracy: 87.33%\n",
      "Model 6, Validation Loss: 0.3024, Validation Accuracy: 87.22%\n",
      "Model 7, Validation Loss: 0.2996, Validation Accuracy: 87.28%\n",
      "Model 8, Validation Loss: 0.3036, Validation Accuracy: 87.20%\n",
      "Model 9, Validation Loss: 0.3016, Validation Accuracy: 87.29%\n",
      "Model 10, Validation Loss: 0.3006, Validation Accuracy: 87.37%\n",
      "\n",
      "Epoch 2/100\n",
      "Model 1, Validation Loss: 0.2747, Validation Accuracy: 88.52%\n",
      "Model 2, Validation Loss: 0.2741, Validation Accuracy: 88.63%\n",
      "Model 3, Validation Loss: 0.2749, Validation Accuracy: 88.51%\n",
      "Model 4, Validation Loss: 0.2752, Validation Accuracy: 88.53%\n",
      "Model 5, Validation Loss: 0.2743, Validation Accuracy: 88.59%\n",
      "Model 6, Validation Loss: 0.2753, Validation Accuracy: 88.55%\n",
      "Model 7, Validation Loss: 0.2732, Validation Accuracy: 88.69%\n",
      "Model 8, Validation Loss: 0.2759, Validation Accuracy: 88.70%\n",
      "Model 9, Validation Loss: 0.2749, Validation Accuracy: 88.57%\n",
      "Model 10, Validation Loss: 0.2740, Validation Accuracy: 88.72%\n",
      "\n",
      "Epoch 3/100\n",
      "Model 1, Validation Loss: 0.2587, Validation Accuracy: 89.38%\n",
      "Model 2, Validation Loss: 0.2586, Validation Accuracy: 89.41%\n",
      "Model 3, Validation Loss: 0.2591, Validation Accuracy: 89.34%\n",
      "Model 4, Validation Loss: 0.2593, Validation Accuracy: 89.32%\n",
      "Model 5, Validation Loss: 0.2583, Validation Accuracy: 89.39%\n",
      "Model 6, Validation Loss: 0.2590, Validation Accuracy: 89.31%\n",
      "Model 7, Validation Loss: 0.2574, Validation Accuracy: 89.63%\n",
      "Model 8, Validation Loss: 0.2597, Validation Accuracy: 89.35%\n",
      "Model 9, Validation Loss: 0.2592, Validation Accuracy: 89.39%\n",
      "Model 10, Validation Loss: 0.2583, Validation Accuracy: 89.56%\n",
      "\n",
      "Epoch 4/100\n",
      "Model 1, Validation Loss: 0.2487, Validation Accuracy: 90.01%\n",
      "Model 2, Validation Loss: 0.2479, Validation Accuracy: 89.99%\n",
      "Model 3, Validation Loss: 0.2488, Validation Accuracy: 90.08%\n",
      "Model 4, Validation Loss: 0.2494, Validation Accuracy: 90.04%\n",
      "Model 5, Validation Loss: 0.2484, Validation Accuracy: 89.95%\n",
      "Model 6, Validation Loss: 0.2491, Validation Accuracy: 89.84%\n",
      "Model 7, Validation Loss: 0.2474, Validation Accuracy: 90.04%\n",
      "Model 8, Validation Loss: 0.2494, Validation Accuracy: 89.95%\n",
      "Model 9, Validation Loss: 0.2489, Validation Accuracy: 90.06%\n",
      "Model 10, Validation Loss: 0.2483, Validation Accuracy: 90.00%\n",
      "\n",
      "Epoch 5/100\n",
      "Model 1, Validation Loss: 0.2387, Validation Accuracy: 90.68%\n",
      "Model 2, Validation Loss: 0.2385, Validation Accuracy: 90.66%\n",
      "Model 3, Validation Loss: 0.2387, Validation Accuracy: 90.40%\n",
      "Model 4, Validation Loss: 0.2392, Validation Accuracy: 90.48%\n",
      "Model 5, Validation Loss: 0.2384, Validation Accuracy: 90.56%\n",
      "Model 6, Validation Loss: 0.2395, Validation Accuracy: 90.39%\n",
      "Model 7, Validation Loss: 0.2377, Validation Accuracy: 90.68%\n",
      "Model 8, Validation Loss: 0.2392, Validation Accuracy: 90.52%\n",
      "Model 9, Validation Loss: 0.2389, Validation Accuracy: 90.60%\n",
      "Model 10, Validation Loss: 0.2384, Validation Accuracy: 90.45%\n",
      "\n",
      "Epoch 6/100\n",
      "Model 1, Validation Loss: 0.2326, Validation Accuracy: 90.78%\n",
      "Model 2, Validation Loss: 0.2326, Validation Accuracy: 90.71%\n",
      "Model 3, Validation Loss: 0.2330, Validation Accuracy: 90.73%\n",
      "Model 4, Validation Loss: 0.2332, Validation Accuracy: 90.94%\n",
      "Model 5, Validation Loss: 0.2322, Validation Accuracy: 90.94%\n",
      "Model 6, Validation Loss: 0.2334, Validation Accuracy: 90.72%\n",
      "Model 7, Validation Loss: 0.2321, Validation Accuracy: 90.88%\n",
      "Model 8, Validation Loss: 0.2332, Validation Accuracy: 90.79%\n",
      "Model 9, Validation Loss: 0.2326, Validation Accuracy: 90.88%\n",
      "Model 10, Validation Loss: 0.2324, Validation Accuracy: 90.77%\n",
      "\n",
      "Epoch 7/100\n",
      "Model 1, Validation Loss: 0.2283, Validation Accuracy: 91.11%\n",
      "Model 2, Validation Loss: 0.2282, Validation Accuracy: 90.99%\n",
      "Model 3, Validation Loss: 0.2282, Validation Accuracy: 90.95%\n",
      "Model 4, Validation Loss: 0.2289, Validation Accuracy: 91.08%\n",
      "Model 5, Validation Loss: 0.2278, Validation Accuracy: 91.06%\n",
      "Model 6, Validation Loss: 0.2285, Validation Accuracy: 91.02%\n",
      "Model 7, Validation Loss: 0.2272, Validation Accuracy: 91.25%\n",
      "Model 8, Validation Loss: 0.2291, Validation Accuracy: 91.05%\n",
      "Model 9, Validation Loss: 0.2286, Validation Accuracy: 91.08%\n",
      "Model 10, Validation Loss: 0.2282, Validation Accuracy: 91.03%\n",
      "\n",
      "Epoch 8/100\n",
      "Model 1, Validation Loss: 0.2255, Validation Accuracy: 91.57%\n",
      "Model 2, Validation Loss: 0.2258, Validation Accuracy: 91.35%\n",
      "Model 3, Validation Loss: 0.2257, Validation Accuracy: 91.45%\n",
      "Model 4, Validation Loss: 0.2259, Validation Accuracy: 91.44%\n",
      "Model 5, Validation Loss: 0.2246, Validation Accuracy: 91.43%\n",
      "Model 6, Validation Loss: 0.2261, Validation Accuracy: 91.40%\n",
      "Model 7, Validation Loss: 0.2247, Validation Accuracy: 91.48%\n",
      "Model 8, Validation Loss: 0.2257, Validation Accuracy: 91.39%\n",
      "Model 9, Validation Loss: 0.2254, Validation Accuracy: 91.51%\n",
      "Model 10, Validation Loss: 0.2252, Validation Accuracy: 91.36%\n",
      "\n",
      "Epoch 9/100\n",
      "Model 1, Validation Loss: 0.2251, Validation Accuracy: 91.40%\n",
      "Model 2, Validation Loss: 0.2261, Validation Accuracy: 91.34%\n",
      "Model 3, Validation Loss: 0.2251, Validation Accuracy: 91.41%\n",
      "Model 4, Validation Loss: 0.2255, Validation Accuracy: 91.46%\n",
      "Model 5, Validation Loss: 0.2242, Validation Accuracy: 91.33%\n",
      "Model 6, Validation Loss: 0.2253, Validation Accuracy: 91.26%\n",
      "Model 7, Validation Loss: 0.2245, Validation Accuracy: 91.37%\n",
      "Model 8, Validation Loss: 0.2247, Validation Accuracy: 91.43%\n",
      "Model 9, Validation Loss: 0.2253, Validation Accuracy: 91.30%\n",
      "Model 10, Validation Loss: 0.2252, Validation Accuracy: 91.35%\n",
      "\n",
      "Epoch 10/100\n",
      "Model 1, Validation Loss: 0.2245, Validation Accuracy: 91.71%\n",
      "Model 2, Validation Loss: 0.2255, Validation Accuracy: 91.59%\n",
      "Model 3, Validation Loss: 0.2252, Validation Accuracy: 91.55%\n",
      "Model 4, Validation Loss: 0.2252, Validation Accuracy: 91.60%\n",
      "Model 5, Validation Loss: 0.2244, Validation Accuracy: 91.60%\n",
      "Model 6, Validation Loss: 0.2253, Validation Accuracy: 91.55%\n",
      "Model 7, Validation Loss: 0.2247, Validation Accuracy: 91.63%\n",
      "Model 8, Validation Loss: 0.2246, Validation Accuracy: 91.46%\n",
      "Model 9, Validation Loss: 0.2250, Validation Accuracy: 91.59%\n",
      "Model 10, Validation Loss: 0.2255, Validation Accuracy: 91.60%\n",
      "\n",
      "Epoch 11/100\n",
      "Model 1, Validation Loss: 0.2237, Validation Accuracy: 91.97%\n",
      "Model 2, Validation Loss: 0.2245, Validation Accuracy: 91.92%\n",
      "Model 3, Validation Loss: 0.2238, Validation Accuracy: 91.78%\n",
      "Model 4, Validation Loss: 0.2238, Validation Accuracy: 91.90%\n",
      "Model 5, Validation Loss: 0.2229, Validation Accuracy: 91.96%\n",
      "Model 6, Validation Loss: 0.2242, Validation Accuracy: 91.97%\n",
      "Model 7, Validation Loss: 0.2234, Validation Accuracy: 91.95%\n",
      "Model 8, Validation Loss: 0.2231, Validation Accuracy: 91.86%\n",
      "Model 9, Validation Loss: 0.2239, Validation Accuracy: 91.98%\n",
      "Model 10, Validation Loss: 0.2239, Validation Accuracy: 91.88%\n",
      "\n",
      "Epoch 12/100\n",
      "Model 1, Validation Loss: 0.2276, Validation Accuracy: 91.83%\n",
      "Model 2, Validation Loss: 0.2288, Validation Accuracy: 91.74%\n",
      "Model 3, Validation Loss: 0.2279, Validation Accuracy: 91.77%\n",
      "Model 4, Validation Loss: 0.2277, Validation Accuracy: 91.92%\n",
      "Model 5, Validation Loss: 0.2269, Validation Accuracy: 91.71%\n",
      "Model 6, Validation Loss: 0.2287, Validation Accuracy: 91.88%\n",
      "Model 7, Validation Loss: 0.2275, Validation Accuracy: 91.78%\n",
      "Model 8, Validation Loss: 0.2271, Validation Accuracy: 91.70%\n",
      "Model 9, Validation Loss: 0.2282, Validation Accuracy: 91.68%\n",
      "Model 10, Validation Loss: 0.2278, Validation Accuracy: 91.81%\n",
      "\n",
      "Epoch 13/100\n",
      "Model 1, Validation Loss: 0.2276, Validation Accuracy: 92.05%\n",
      "Model 2, Validation Loss: 0.2286, Validation Accuracy: 91.74%\n",
      "Model 3, Validation Loss: 0.2275, Validation Accuracy: 92.02%\n",
      "Model 4, Validation Loss: 0.2279, Validation Accuracy: 91.86%\n",
      "Model 5, Validation Loss: 0.2269, Validation Accuracy: 91.86%\n",
      "Model 6, Validation Loss: 0.2282, Validation Accuracy: 91.78%\n",
      "Model 7, Validation Loss: 0.2273, Validation Accuracy: 91.83%\n",
      "Model 8, Validation Loss: 0.2269, Validation Accuracy: 91.78%\n",
      "Model 9, Validation Loss: 0.2281, Validation Accuracy: 91.84%\n",
      "Model 10, Validation Loss: 0.2280, Validation Accuracy: 91.88%\n",
      "\n",
      "Epoch 14/100\n",
      "Model 1, Validation Loss: 0.2339, Validation Accuracy: 91.74%\n",
      "Model 2, Validation Loss: 0.2346, Validation Accuracy: 91.83%\n",
      "Model 3, Validation Loss: 0.2336, Validation Accuracy: 91.72%\n",
      "Model 4, Validation Loss: 0.2338, Validation Accuracy: 91.80%\n",
      "Model 5, Validation Loss: 0.2328, Validation Accuracy: 91.86%\n",
      "Model 6, Validation Loss: 0.2344, Validation Accuracy: 91.73%\n",
      "Model 7, Validation Loss: 0.2334, Validation Accuracy: 91.81%\n",
      "Model 8, Validation Loss: 0.2328, Validation Accuracy: 91.78%\n",
      "Model 9, Validation Loss: 0.2344, Validation Accuracy: 91.81%\n",
      "Model 10, Validation Loss: 0.2348, Validation Accuracy: 91.71%\n",
      "\n",
      "Epoch 15/100\n",
      "Model 1, Validation Loss: 0.2331, Validation Accuracy: 91.90%\n",
      "Model 2, Validation Loss: 0.2337, Validation Accuracy: 91.84%\n",
      "Model 3, Validation Loss: 0.2329, Validation Accuracy: 91.95%\n",
      "Model 4, Validation Loss: 0.2330, Validation Accuracy: 91.98%\n",
      "Model 5, Validation Loss: 0.2321, Validation Accuracy: 91.80%\n",
      "Model 6, Validation Loss: 0.2337, Validation Accuracy: 91.84%\n",
      "Model 7, Validation Loss: 0.2324, Validation Accuracy: 91.83%\n",
      "Model 8, Validation Loss: 0.2313, Validation Accuracy: 91.95%\n",
      "Model 9, Validation Loss: 0.2334, Validation Accuracy: 91.87%\n",
      "Model 10, Validation Loss: 0.2334, Validation Accuracy: 91.86%\n",
      "\n",
      "Epoch 16/100\n",
      "Model 1, Validation Loss: 0.2347, Validation Accuracy: 91.97%\n",
      "Model 2, Validation Loss: 0.2361, Validation Accuracy: 91.89%\n",
      "Model 3, Validation Loss: 0.2348, Validation Accuracy: 91.92%\n",
      "Model 4, Validation Loss: 0.2350, Validation Accuracy: 92.03%\n",
      "Model 5, Validation Loss: 0.2339, Validation Accuracy: 91.94%\n",
      "Model 6, Validation Loss: 0.2357, Validation Accuracy: 91.76%\n",
      "Model 7, Validation Loss: 0.2346, Validation Accuracy: 92.01%\n",
      "Model 8, Validation Loss: 0.2337, Validation Accuracy: 92.02%\n",
      "Model 9, Validation Loss: 0.2351, Validation Accuracy: 91.99%\n",
      "Model 10, Validation Loss: 0.2352, Validation Accuracy: 92.12%\n",
      "\n",
      "Epoch 17/100\n",
      "Model 1, Validation Loss: 0.2408, Validation Accuracy: 92.08%\n",
      "Model 2, Validation Loss: 0.2419, Validation Accuracy: 91.96%\n",
      "Model 3, Validation Loss: 0.2406, Validation Accuracy: 91.97%\n",
      "Model 4, Validation Loss: 0.2411, Validation Accuracy: 92.06%\n",
      "Model 5, Validation Loss: 0.2403, Validation Accuracy: 92.01%\n",
      "Model 6, Validation Loss: 0.2415, Validation Accuracy: 91.88%\n",
      "Model 7, Validation Loss: 0.2411, Validation Accuracy: 91.96%\n",
      "Model 8, Validation Loss: 0.2394, Validation Accuracy: 92.02%\n",
      "Model 9, Validation Loss: 0.2413, Validation Accuracy: 92.06%\n",
      "Model 10, Validation Loss: 0.2417, Validation Accuracy: 92.07%\n",
      "\n",
      "Epoch 18/100\n",
      "Model 1, Validation Loss: 0.2383, Validation Accuracy: 92.00%\n",
      "Model 2, Validation Loss: 0.2395, Validation Accuracy: 91.92%\n",
      "Model 3, Validation Loss: 0.2384, Validation Accuracy: 92.03%\n",
      "Model 4, Validation Loss: 0.2384, Validation Accuracy: 92.01%\n",
      "Model 5, Validation Loss: 0.2374, Validation Accuracy: 91.89%\n",
      "Model 6, Validation Loss: 0.2392, Validation Accuracy: 91.88%\n",
      "Model 7, Validation Loss: 0.2383, Validation Accuracy: 92.06%\n",
      "Model 8, Validation Loss: 0.2371, Validation Accuracy: 91.99%\n",
      "Model 9, Validation Loss: 0.2390, Validation Accuracy: 91.95%\n",
      "Model 10, Validation Loss: 0.2390, Validation Accuracy: 92.00%\n",
      "\n",
      "Epoch 19/100\n",
      "Model 1, Validation Loss: 0.2414, Validation Accuracy: 92.17%\n",
      "Model 2, Validation Loss: 0.2427, Validation Accuracy: 91.95%\n",
      "Model 3, Validation Loss: 0.2413, Validation Accuracy: 92.18%\n",
      "Model 4, Validation Loss: 0.2415, Validation Accuracy: 92.10%\n",
      "Model 5, Validation Loss: 0.2408, Validation Accuracy: 92.03%\n",
      "Model 6, Validation Loss: 0.2423, Validation Accuracy: 91.95%\n",
      "Model 7, Validation Loss: 0.2416, Validation Accuracy: 92.05%\n",
      "Model 8, Validation Loss: 0.2401, Validation Accuracy: 92.00%\n",
      "Model 9, Validation Loss: 0.2421, Validation Accuracy: 92.07%\n",
      "Model 10, Validation Loss: 0.2421, Validation Accuracy: 92.05%\n",
      "\n",
      "Epoch 20/100\n",
      "Model 1, Validation Loss: 0.2438, Validation Accuracy: 92.00%\n",
      "Model 2, Validation Loss: 0.2453, Validation Accuracy: 91.95%\n",
      "Model 3, Validation Loss: 0.2440, Validation Accuracy: 91.95%\n",
      "Model 4, Validation Loss: 0.2442, Validation Accuracy: 92.08%\n",
      "Model 5, Validation Loss: 0.2434, Validation Accuracy: 91.86%\n",
      "Model 6, Validation Loss: 0.2451, Validation Accuracy: 91.86%\n",
      "Model 7, Validation Loss: 0.2440, Validation Accuracy: 92.00%\n",
      "Model 8, Validation Loss: 0.2426, Validation Accuracy: 91.97%\n",
      "Model 9, Validation Loss: 0.2449, Validation Accuracy: 92.03%\n",
      "Model 10, Validation Loss: 0.2447, Validation Accuracy: 91.95%\n",
      "\n",
      "Epoch 21/100\n",
      "Model 1, Validation Loss: 0.2436, Validation Accuracy: 91.96%\n",
      "Model 2, Validation Loss: 0.2451, Validation Accuracy: 91.96%\n",
      "Model 3, Validation Loss: 0.2436, Validation Accuracy: 92.00%\n",
      "Model 4, Validation Loss: 0.2440, Validation Accuracy: 92.04%\n",
      "Model 5, Validation Loss: 0.2431, Validation Accuracy: 91.93%\n",
      "Model 6, Validation Loss: 0.2447, Validation Accuracy: 91.92%\n",
      "Model 7, Validation Loss: 0.2437, Validation Accuracy: 92.15%\n",
      "Model 8, Validation Loss: 0.2422, Validation Accuracy: 92.07%\n",
      "Model 9, Validation Loss: 0.2444, Validation Accuracy: 91.95%\n",
      "Model 10, Validation Loss: 0.2444, Validation Accuracy: 92.09%\n",
      "\n",
      "Epoch 22/100\n",
      "Model 1, Validation Loss: 0.2442, Validation Accuracy: 92.08%\n",
      "Model 2, Validation Loss: 0.2460, Validation Accuracy: 92.05%\n",
      "Model 3, Validation Loss: 0.2445, Validation Accuracy: 92.07%\n",
      "Model 4, Validation Loss: 0.2448, Validation Accuracy: 92.14%\n",
      "Model 5, Validation Loss: 0.2438, Validation Accuracy: 92.03%\n",
      "Model 6, Validation Loss: 0.2457, Validation Accuracy: 91.93%\n",
      "Model 7, Validation Loss: 0.2445, Validation Accuracy: 91.99%\n",
      "Model 8, Validation Loss: 0.2431, Validation Accuracy: 92.05%\n",
      "Model 9, Validation Loss: 0.2453, Validation Accuracy: 92.12%\n",
      "Model 10, Validation Loss: 0.2451, Validation Accuracy: 92.03%\n",
      "\n",
      "Epoch 23/100\n",
      "Model 1, Validation Loss: 0.2472, Validation Accuracy: 92.02%\n",
      "Model 2, Validation Loss: 0.2487, Validation Accuracy: 91.95%\n",
      "Model 3, Validation Loss: 0.2474, Validation Accuracy: 92.12%\n",
      "Model 4, Validation Loss: 0.2476, Validation Accuracy: 92.08%\n",
      "Model 5, Validation Loss: 0.2467, Validation Accuracy: 92.00%\n",
      "Model 6, Validation Loss: 0.2483, Validation Accuracy: 91.95%\n",
      "Model 7, Validation Loss: 0.2475, Validation Accuracy: 92.03%\n",
      "Model 8, Validation Loss: 0.2459, Validation Accuracy: 91.98%\n",
      "Model 9, Validation Loss: 0.2482, Validation Accuracy: 92.09%\n",
      "Model 10, Validation Loss: 0.2480, Validation Accuracy: 92.07%\n",
      "\n",
      "Epoch 24/100\n",
      "Model 1, Validation Loss: 0.2468, Validation Accuracy: 92.05%\n",
      "Model 2, Validation Loss: 0.2482, Validation Accuracy: 91.92%\n",
      "Model 3, Validation Loss: 0.2468, Validation Accuracy: 92.08%\n",
      "Model 4, Validation Loss: 0.2470, Validation Accuracy: 92.07%\n",
      "Model 5, Validation Loss: 0.2461, Validation Accuracy: 92.00%\n",
      "Model 6, Validation Loss: 0.2479, Validation Accuracy: 91.93%\n",
      "Model 7, Validation Loss: 0.2469, Validation Accuracy: 92.00%\n",
      "Model 8, Validation Loss: 0.2454, Validation Accuracy: 92.00%\n",
      "Model 9, Validation Loss: 0.2476, Validation Accuracy: 92.02%\n",
      "Model 10, Validation Loss: 0.2475, Validation Accuracy: 92.01%\n",
      "\n",
      "Epoch 25/100\n",
      "Model 1, Validation Loss: 0.2481, Validation Accuracy: 92.06%\n",
      "Model 2, Validation Loss: 0.2495, Validation Accuracy: 91.97%\n",
      "Model 3, Validation Loss: 0.2481, Validation Accuracy: 92.08%\n",
      "Model 4, Validation Loss: 0.2484, Validation Accuracy: 92.11%\n",
      "Model 5, Validation Loss: 0.2474, Validation Accuracy: 92.01%\n",
      "Model 6, Validation Loss: 0.2493, Validation Accuracy: 92.00%\n",
      "Model 7, Validation Loss: 0.2482, Validation Accuracy: 92.07%\n",
      "Model 8, Validation Loss: 0.2467, Validation Accuracy: 92.02%\n",
      "Model 9, Validation Loss: 0.2490, Validation Accuracy: 91.93%\n",
      "Model 10, Validation Loss: 0.2489, Validation Accuracy: 92.02%\n",
      "\n",
      "Epoch 26/100\n",
      "Model 1, Validation Loss: 0.2492, Validation Accuracy: 92.01%\n",
      "Model 2, Validation Loss: 0.2506, Validation Accuracy: 92.00%\n",
      "Model 3, Validation Loss: 0.2491, Validation Accuracy: 92.16%\n",
      "Model 4, Validation Loss: 0.2494, Validation Accuracy: 92.05%\n",
      "Model 5, Validation Loss: 0.2486, Validation Accuracy: 91.99%\n",
      "Model 6, Validation Loss: 0.2504, Validation Accuracy: 91.97%\n",
      "Model 7, Validation Loss: 0.2494, Validation Accuracy: 92.05%\n",
      "Model 8, Validation Loss: 0.2478, Validation Accuracy: 91.97%\n",
      "Model 9, Validation Loss: 0.2501, Validation Accuracy: 92.03%\n",
      "Model 10, Validation Loss: 0.2499, Validation Accuracy: 92.08%\n",
      "\n",
      "Epoch 27/100\n",
      "Model 1, Validation Loss: 0.2494, Validation Accuracy: 92.05%\n",
      "Model 2, Validation Loss: 0.2509, Validation Accuracy: 91.97%\n",
      "Model 3, Validation Loss: 0.2494, Validation Accuracy: 92.12%\n",
      "Model 4, Validation Loss: 0.2496, Validation Accuracy: 92.09%\n",
      "Model 5, Validation Loss: 0.2489, Validation Accuracy: 92.07%\n",
      "Model 6, Validation Loss: 0.2506, Validation Accuracy: 92.00%\n",
      "Model 7, Validation Loss: 0.2495, Validation Accuracy: 92.05%\n",
      "Model 8, Validation Loss: 0.2481, Validation Accuracy: 92.06%\n",
      "Model 9, Validation Loss: 0.2504, Validation Accuracy: 92.06%\n",
      "Model 10, Validation Loss: 0.2502, Validation Accuracy: 91.99%\n",
      "\n",
      "Epoch 28/100\n",
      "Model 1, Validation Loss: 0.2497, Validation Accuracy: 92.09%\n",
      "Model 2, Validation Loss: 0.2512, Validation Accuracy: 92.02%\n",
      "Model 3, Validation Loss: 0.2498, Validation Accuracy: 92.09%\n",
      "Model 4, Validation Loss: 0.2500, Validation Accuracy: 92.05%\n",
      "Model 5, Validation Loss: 0.2492, Validation Accuracy: 91.97%\n",
      "Model 6, Validation Loss: 0.2509, Validation Accuracy: 91.96%\n",
      "Model 7, Validation Loss: 0.2498, Validation Accuracy: 92.00%\n",
      "Model 8, Validation Loss: 0.2484, Validation Accuracy: 92.06%\n",
      "Model 9, Validation Loss: 0.2506, Validation Accuracy: 92.09%\n",
      "Model 10, Validation Loss: 0.2505, Validation Accuracy: 92.07%\n",
      "\n",
      "Epoch 29/100\n",
      "Model 1, Validation Loss: 0.2514, Validation Accuracy: 92.09%\n",
      "Model 2, Validation Loss: 0.2528, Validation Accuracy: 91.92%\n",
      "Model 3, Validation Loss: 0.2514, Validation Accuracy: 92.15%\n",
      "Model 4, Validation Loss: 0.2517, Validation Accuracy: 92.12%\n",
      "Model 5, Validation Loss: 0.2507, Validation Accuracy: 92.08%\n",
      "Model 6, Validation Loss: 0.2526, Validation Accuracy: 91.99%\n",
      "Model 7, Validation Loss: 0.2514, Validation Accuracy: 92.09%\n",
      "Model 8, Validation Loss: 0.2501, Validation Accuracy: 92.05%\n",
      "Model 9, Validation Loss: 0.2523, Validation Accuracy: 92.06%\n",
      "Model 10, Validation Loss: 0.2522, Validation Accuracy: 92.03%\n",
      "\n",
      "Epoch 30/100\n",
      "Model 1, Validation Loss: 0.2515, Validation Accuracy: 92.06%\n",
      "Model 2, Validation Loss: 0.2529, Validation Accuracy: 91.94%\n",
      "Model 3, Validation Loss: 0.2515, Validation Accuracy: 92.18%\n",
      "Model 4, Validation Loss: 0.2518, Validation Accuracy: 92.12%\n",
      "Model 5, Validation Loss: 0.2508, Validation Accuracy: 92.03%\n",
      "Model 6, Validation Loss: 0.2527, Validation Accuracy: 92.02%\n",
      "Model 7, Validation Loss: 0.2516, Validation Accuracy: 92.03%\n",
      "Model 8, Validation Loss: 0.2502, Validation Accuracy: 92.05%\n",
      "Model 9, Validation Loss: 0.2524, Validation Accuracy: 92.03%\n",
      "Model 10, Validation Loss: 0.2523, Validation Accuracy: 92.09%\n",
      "\n",
      "Epoch 31/100\n",
      "Model 1, Validation Loss: 0.2521, Validation Accuracy: 92.05%\n",
      "Model 2, Validation Loss: 0.2536, Validation Accuracy: 91.92%\n",
      "Model 3, Validation Loss: 0.2521, Validation Accuracy: 92.11%\n",
      "Model 4, Validation Loss: 0.2525, Validation Accuracy: 92.08%\n",
      "Model 5, Validation Loss: 0.2516, Validation Accuracy: 92.01%\n",
      "Model 6, Validation Loss: 0.2534, Validation Accuracy: 92.00%\n",
      "Model 7, Validation Loss: 0.2522, Validation Accuracy: 92.04%\n",
      "Model 8, Validation Loss: 0.2508, Validation Accuracy: 92.00%\n",
      "Model 9, Validation Loss: 0.2531, Validation Accuracy: 92.02%\n",
      "Model 10, Validation Loss: 0.2530, Validation Accuracy: 92.06%\n",
      "\n",
      "Epoch 32/100\n",
      "Model 1, Validation Loss: 0.2527, Validation Accuracy: 92.06%\n",
      "Model 2, Validation Loss: 0.2541, Validation Accuracy: 92.04%\n",
      "Model 3, Validation Loss: 0.2527, Validation Accuracy: 92.15%\n",
      "Model 4, Validation Loss: 0.2530, Validation Accuracy: 92.15%\n",
      "Model 5, Validation Loss: 0.2520, Validation Accuracy: 91.97%\n",
      "Model 6, Validation Loss: 0.2539, Validation Accuracy: 92.00%\n",
      "Model 7, Validation Loss: 0.2528, Validation Accuracy: 92.07%\n",
      "Model 8, Validation Loss: 0.2514, Validation Accuracy: 92.02%\n",
      "Model 9, Validation Loss: 0.2536, Validation Accuracy: 92.00%\n",
      "Model 10, Validation Loss: 0.2534, Validation Accuracy: 92.11%\n",
      "\n",
      "Epoch 33/100\n",
      "Model 1, Validation Loss: 0.2528, Validation Accuracy: 92.03%\n",
      "Model 2, Validation Loss: 0.2542, Validation Accuracy: 91.99%\n",
      "Model 3, Validation Loss: 0.2529, Validation Accuracy: 92.12%\n",
      "Model 4, Validation Loss: 0.2532, Validation Accuracy: 92.08%\n",
      "Model 5, Validation Loss: 0.2522, Validation Accuracy: 91.99%\n",
      "Model 6, Validation Loss: 0.2541, Validation Accuracy: 91.98%\n",
      "Model 7, Validation Loss: 0.2530, Validation Accuracy: 92.04%\n",
      "Model 8, Validation Loss: 0.2515, Validation Accuracy: 92.00%\n",
      "Model 9, Validation Loss: 0.2538, Validation Accuracy: 92.01%\n",
      "Model 10, Validation Loss: 0.2536, Validation Accuracy: 92.14%\n",
      "\n",
      "Epoch 34/100\n",
      "Model 1, Validation Loss: 0.2536, Validation Accuracy: 92.14%\n",
      "Model 2, Validation Loss: 0.2551, Validation Accuracy: 92.00%\n",
      "Model 3, Validation Loss: 0.2537, Validation Accuracy: 92.11%\n",
      "Model 4, Validation Loss: 0.2541, Validation Accuracy: 92.09%\n",
      "Model 5, Validation Loss: 0.2530, Validation Accuracy: 92.06%\n",
      "Model 6, Validation Loss: 0.2550, Validation Accuracy: 92.00%\n",
      "Model 7, Validation Loss: 0.2538, Validation Accuracy: 92.03%\n",
      "Model 8, Validation Loss: 0.2524, Validation Accuracy: 92.07%\n",
      "Model 9, Validation Loss: 0.2547, Validation Accuracy: 92.07%\n",
      "Model 10, Validation Loss: 0.2545, Validation Accuracy: 92.10%\n",
      "\n",
      "Epoch 35/100\n",
      "Model 1, Validation Loss: 0.2537, Validation Accuracy: 92.09%\n",
      "Model 2, Validation Loss: 0.2552, Validation Accuracy: 91.92%\n",
      "Model 3, Validation Loss: 0.2537, Validation Accuracy: 92.14%\n",
      "Model 4, Validation Loss: 0.2541, Validation Accuracy: 92.12%\n",
      "Model 5, Validation Loss: 0.2531, Validation Accuracy: 92.01%\n",
      "Model 6, Validation Loss: 0.2550, Validation Accuracy: 92.06%\n",
      "Model 7, Validation Loss: 0.2538, Validation Accuracy: 92.08%\n",
      "Model 8, Validation Loss: 0.2524, Validation Accuracy: 92.05%\n",
      "Model 9, Validation Loss: 0.2547, Validation Accuracy: 92.02%\n",
      "Model 10, Validation Loss: 0.2546, Validation Accuracy: 92.08%\n",
      "\n",
      "Epoch 36/100\n",
      "Model 1, Validation Loss: 0.2538, Validation Accuracy: 92.13%\n",
      "Model 2, Validation Loss: 0.2553, Validation Accuracy: 91.96%\n",
      "Model 3, Validation Loss: 0.2539, Validation Accuracy: 92.17%\n",
      "Model 4, Validation Loss: 0.2543, Validation Accuracy: 92.14%\n",
      "Model 5, Validation Loss: 0.2532, Validation Accuracy: 92.03%\n",
      "Model 6, Validation Loss: 0.2552, Validation Accuracy: 92.02%\n",
      "Model 7, Validation Loss: 0.2540, Validation Accuracy: 92.03%\n",
      "Model 8, Validation Loss: 0.2526, Validation Accuracy: 92.05%\n",
      "Model 9, Validation Loss: 0.2548, Validation Accuracy: 92.06%\n",
      "Model 10, Validation Loss: 0.2547, Validation Accuracy: 92.14%\n",
      "\n",
      "Epoch 37/100\n",
      "Model 1, Validation Loss: 0.2541, Validation Accuracy: 92.11%\n",
      "Model 2, Validation Loss: 0.2556, Validation Accuracy: 91.99%\n",
      "Model 3, Validation Loss: 0.2541, Validation Accuracy: 92.12%\n",
      "Model 4, Validation Loss: 0.2545, Validation Accuracy: 92.17%\n",
      "Model 5, Validation Loss: 0.2536, Validation Accuracy: 92.03%\n",
      "Model 6, Validation Loss: 0.2554, Validation Accuracy: 92.02%\n",
      "Model 7, Validation Loss: 0.2542, Validation Accuracy: 92.06%\n",
      "Model 8, Validation Loss: 0.2528, Validation Accuracy: 92.08%\n",
      "Model 9, Validation Loss: 0.2551, Validation Accuracy: 92.08%\n",
      "Model 10, Validation Loss: 0.2550, Validation Accuracy: 92.10%\n",
      "\n",
      "Epoch 38/100\n",
      "Model 1, Validation Loss: 0.2541, Validation Accuracy: 92.09%\n",
      "Model 2, Validation Loss: 0.2556, Validation Accuracy: 92.02%\n",
      "Model 3, Validation Loss: 0.2541, Validation Accuracy: 92.12%\n",
      "Model 4, Validation Loss: 0.2545, Validation Accuracy: 92.09%\n",
      "Model 5, Validation Loss: 0.2535, Validation Accuracy: 92.03%\n",
      "Model 6, Validation Loss: 0.2554, Validation Accuracy: 92.03%\n",
      "Model 7, Validation Loss: 0.2542, Validation Accuracy: 92.03%\n",
      "Model 8, Validation Loss: 0.2528, Validation Accuracy: 92.07%\n",
      "Model 9, Validation Loss: 0.2551, Validation Accuracy: 92.06%\n",
      "Model 10, Validation Loss: 0.2550, Validation Accuracy: 92.13%\n",
      "\n",
      "Epoch 39/100\n",
      "Model 1, Validation Loss: 0.2547, Validation Accuracy: 92.09%\n",
      "Model 2, Validation Loss: 0.2562, Validation Accuracy: 91.95%\n",
      "Model 3, Validation Loss: 0.2547, Validation Accuracy: 92.12%\n",
      "Model 4, Validation Loss: 0.2551, Validation Accuracy: 92.12%\n",
      "Model 5, Validation Loss: 0.2541, Validation Accuracy: 92.03%\n",
      "Model 6, Validation Loss: 0.2561, Validation Accuracy: 92.01%\n",
      "Model 7, Validation Loss: 0.2549, Validation Accuracy: 92.04%\n",
      "Model 8, Validation Loss: 0.2534, Validation Accuracy: 92.04%\n",
      "Model 9, Validation Loss: 0.2557, Validation Accuracy: 92.07%\n",
      "Model 10, Validation Loss: 0.2556, Validation Accuracy: 92.14%\n",
      "\n",
      "Epoch 40/100\n",
      "Model 1, Validation Loss: 0.2549, Validation Accuracy: 92.09%\n",
      "Model 2, Validation Loss: 0.2564, Validation Accuracy: 91.99%\n",
      "Model 3, Validation Loss: 0.2549, Validation Accuracy: 92.12%\n",
      "Model 4, Validation Loss: 0.2553, Validation Accuracy: 92.12%\n",
      "Model 5, Validation Loss: 0.2544, Validation Accuracy: 92.02%\n",
      "Model 6, Validation Loss: 0.2562, Validation Accuracy: 91.99%\n",
      "Model 7, Validation Loss: 0.2550, Validation Accuracy: 92.03%\n",
      "Model 8, Validation Loss: 0.2536, Validation Accuracy: 92.07%\n",
      "Model 9, Validation Loss: 0.2559, Validation Accuracy: 92.04%\n",
      "Model 10, Validation Loss: 0.2558, Validation Accuracy: 92.09%\n",
      "\n",
      "Epoch 41/100\n",
      "Model 1, Validation Loss: 0.2552, Validation Accuracy: 92.06%\n",
      "Model 2, Validation Loss: 0.2567, Validation Accuracy: 91.99%\n",
      "Model 3, Validation Loss: 0.2552, Validation Accuracy: 92.11%\n",
      "Model 4, Validation Loss: 0.2556, Validation Accuracy: 92.11%\n",
      "Model 5, Validation Loss: 0.2547, Validation Accuracy: 91.99%\n",
      "Model 6, Validation Loss: 0.2565, Validation Accuracy: 92.01%\n",
      "Model 7, Validation Loss: 0.2554, Validation Accuracy: 92.04%\n",
      "Model 8, Validation Loss: 0.2540, Validation Accuracy: 92.07%\n",
      "Model 9, Validation Loss: 0.2563, Validation Accuracy: 92.08%\n",
      "Model 10, Validation Loss: 0.2561, Validation Accuracy: 92.15%\n",
      "\n",
      "Epoch 42/100\n",
      "Model 1, Validation Loss: 0.2552, Validation Accuracy: 92.07%\n",
      "Model 2, Validation Loss: 0.2567, Validation Accuracy: 91.99%\n",
      "Model 3, Validation Loss: 0.2553, Validation Accuracy: 92.09%\n",
      "Model 4, Validation Loss: 0.2557, Validation Accuracy: 92.11%\n",
      "Model 5, Validation Loss: 0.2547, Validation Accuracy: 92.02%\n",
      "Model 6, Validation Loss: 0.2566, Validation Accuracy: 92.00%\n",
      "Model 7, Validation Loss: 0.2554, Validation Accuracy: 92.04%\n",
      "Model 8, Validation Loss: 0.2540, Validation Accuracy: 92.09%\n",
      "Model 9, Validation Loss: 0.2563, Validation Accuracy: 92.04%\n",
      "Model 10, Validation Loss: 0.2561, Validation Accuracy: 92.13%\n",
      "\n",
      "Epoch 43/100\n",
      "Model 1, Validation Loss: 0.2553, Validation Accuracy: 92.11%\n",
      "Model 2, Validation Loss: 0.2568, Validation Accuracy: 92.00%\n",
      "Model 3, Validation Loss: 0.2553, Validation Accuracy: 92.12%\n",
      "Model 4, Validation Loss: 0.2557, Validation Accuracy: 92.12%\n",
      "Model 5, Validation Loss: 0.2547, Validation Accuracy: 91.99%\n",
      "Model 6, Validation Loss: 0.2566, Validation Accuracy: 92.04%\n",
      "Model 7, Validation Loss: 0.2554, Validation Accuracy: 92.06%\n",
      "Model 8, Validation Loss: 0.2540, Validation Accuracy: 92.08%\n",
      "Model 9, Validation Loss: 0.2563, Validation Accuracy: 92.04%\n",
      "Model 10, Validation Loss: 0.2562, Validation Accuracy: 92.12%\n",
      "\n",
      "Epoch 44/100\n",
      "Model 1, Validation Loss: 0.2554, Validation Accuracy: 92.09%\n",
      "Model 2, Validation Loss: 0.2569, Validation Accuracy: 91.95%\n",
      "Model 3, Validation Loss: 0.2554, Validation Accuracy: 92.12%\n",
      "Model 4, Validation Loss: 0.2558, Validation Accuracy: 92.09%\n",
      "Model 5, Validation Loss: 0.2548, Validation Accuracy: 92.04%\n",
      "Model 6, Validation Loss: 0.2567, Validation Accuracy: 92.01%\n",
      "Model 7, Validation Loss: 0.2555, Validation Accuracy: 92.04%\n",
      "Model 8, Validation Loss: 0.2541, Validation Accuracy: 92.07%\n",
      "Model 9, Validation Loss: 0.2564, Validation Accuracy: 92.06%\n",
      "Model 10, Validation Loss: 0.2562, Validation Accuracy: 92.15%\n",
      "\n",
      "Epoch 45/100\n",
      "Model 1, Validation Loss: 0.2557, Validation Accuracy: 92.07%\n",
      "Model 2, Validation Loss: 0.2571, Validation Accuracy: 91.96%\n",
      "Model 3, Validation Loss: 0.2557, Validation Accuracy: 92.12%\n",
      "Model 4, Validation Loss: 0.2561, Validation Accuracy: 92.10%\n",
      "Model 5, Validation Loss: 0.2550, Validation Accuracy: 92.02%\n",
      "Model 6, Validation Loss: 0.2570, Validation Accuracy: 92.01%\n",
      "Model 7, Validation Loss: 0.2558, Validation Accuracy: 92.02%\n",
      "Model 8, Validation Loss: 0.2544, Validation Accuracy: 92.06%\n",
      "Model 9, Validation Loss: 0.2567, Validation Accuracy: 92.08%\n",
      "Model 10, Validation Loss: 0.2565, Validation Accuracy: 92.11%\n",
      "\n",
      "Epoch 46/100\n",
      "Model 1, Validation Loss: 0.2558, Validation Accuracy: 92.08%\n",
      "Model 2, Validation Loss: 0.2573, Validation Accuracy: 91.99%\n",
      "Model 3, Validation Loss: 0.2558, Validation Accuracy: 92.12%\n",
      "Model 4, Validation Loss: 0.2562, Validation Accuracy: 92.12%\n",
      "Model 5, Validation Loss: 0.2552, Validation Accuracy: 92.03%\n",
      "Model 6, Validation Loss: 0.2571, Validation Accuracy: 92.05%\n",
      "Model 7, Validation Loss: 0.2559, Validation Accuracy: 92.03%\n",
      "Model 8, Validation Loss: 0.2545, Validation Accuracy: 92.08%\n",
      "Model 9, Validation Loss: 0.2568, Validation Accuracy: 92.06%\n",
      "Model 10, Validation Loss: 0.2567, Validation Accuracy: 92.15%\n",
      "\n",
      "Epoch 47/100\n",
      "Model 1, Validation Loss: 0.2558, Validation Accuracy: 92.11%\n",
      "Model 2, Validation Loss: 0.2573, Validation Accuracy: 92.00%\n",
      "Model 3, Validation Loss: 0.2558, Validation Accuracy: 92.09%\n",
      "Model 4, Validation Loss: 0.2562, Validation Accuracy: 92.12%\n",
      "Model 5, Validation Loss: 0.2552, Validation Accuracy: 92.03%\n",
      "Model 6, Validation Loss: 0.2571, Validation Accuracy: 92.04%\n",
      "Model 7, Validation Loss: 0.2559, Validation Accuracy: 92.05%\n",
      "Model 8, Validation Loss: 0.2545, Validation Accuracy: 92.09%\n",
      "Model 9, Validation Loss: 0.2568, Validation Accuracy: 92.03%\n",
      "Model 10, Validation Loss: 0.2566, Validation Accuracy: 92.13%\n",
      "\n",
      "Epoch 48/100\n",
      "Model 1, Validation Loss: 0.2560, Validation Accuracy: 92.10%\n",
      "Model 2, Validation Loss: 0.2575, Validation Accuracy: 91.97%\n",
      "Model 3, Validation Loss: 0.2560, Validation Accuracy: 92.12%\n",
      "Model 4, Validation Loss: 0.2564, Validation Accuracy: 92.12%\n",
      "Model 5, Validation Loss: 0.2554, Validation Accuracy: 92.02%\n",
      "Model 6, Validation Loss: 0.2573, Validation Accuracy: 92.03%\n",
      "Model 7, Validation Loss: 0.2561, Validation Accuracy: 92.05%\n",
      "Model 8, Validation Loss: 0.2547, Validation Accuracy: 92.07%\n",
      "Model 9, Validation Loss: 0.2570, Validation Accuracy: 92.08%\n",
      "Model 10, Validation Loss: 0.2569, Validation Accuracy: 92.17%\n",
      "\n",
      "Epoch 49/100\n",
      "Model 1, Validation Loss: 0.2560, Validation Accuracy: 92.09%\n",
      "Model 2, Validation Loss: 0.2575, Validation Accuracy: 91.97%\n",
      "Model 3, Validation Loss: 0.2560, Validation Accuracy: 92.13%\n",
      "Model 4, Validation Loss: 0.2565, Validation Accuracy: 92.11%\n",
      "Model 5, Validation Loss: 0.2554, Validation Accuracy: 92.04%\n",
      "Model 6, Validation Loss: 0.2574, Validation Accuracy: 92.03%\n",
      "Model 7, Validation Loss: 0.2561, Validation Accuracy: 92.03%\n",
      "Model 8, Validation Loss: 0.2548, Validation Accuracy: 92.05%\n",
      "Model 9, Validation Loss: 0.2571, Validation Accuracy: 92.06%\n",
      "Model 10, Validation Loss: 0.2569, Validation Accuracy: 92.14%\n",
      "\n",
      "Epoch 50/100\n",
      "Model 1, Validation Loss: 0.2561, Validation Accuracy: 92.11%\n",
      "Model 2, Validation Loss: 0.2576, Validation Accuracy: 91.98%\n",
      "Model 3, Validation Loss: 0.2561, Validation Accuracy: 92.14%\n",
      "Model 4, Validation Loss: 0.2565, Validation Accuracy: 92.11%\n",
      "Model 5, Validation Loss: 0.2555, Validation Accuracy: 92.05%\n",
      "Model 6, Validation Loss: 0.2574, Validation Accuracy: 92.03%\n",
      "Model 7, Validation Loss: 0.2562, Validation Accuracy: 92.05%\n",
      "Model 8, Validation Loss: 0.2548, Validation Accuracy: 92.09%\n",
      "Model 9, Validation Loss: 0.2571, Validation Accuracy: 92.06%\n",
      "Model 10, Validation Loss: 0.2570, Validation Accuracy: 92.15%\n",
      "\n",
      "Epoch 51/100\n",
      "Model 1, Validation Loss: 0.2562, Validation Accuracy: 92.10%\n",
      "Model 2, Validation Loss: 0.2577, Validation Accuracy: 91.99%\n",
      "Model 3, Validation Loss: 0.2562, Validation Accuracy: 92.12%\n",
      "Model 4, Validation Loss: 0.2566, Validation Accuracy: 92.12%\n",
      "Model 5, Validation Loss: 0.2556, Validation Accuracy: 92.01%\n",
      "Model 6, Validation Loss: 0.2575, Validation Accuracy: 92.04%\n",
      "Model 7, Validation Loss: 0.2563, Validation Accuracy: 92.03%\n",
      "Model 8, Validation Loss: 0.2549, Validation Accuracy: 92.09%\n",
      "Model 9, Validation Loss: 0.2572, Validation Accuracy: 92.06%\n",
      "Model 10, Validation Loss: 0.2571, Validation Accuracy: 92.12%\n",
      "\n",
      "Epoch 52/100\n",
      "Model 1, Validation Loss: 0.2563, Validation Accuracy: 92.09%\n",
      "Model 2, Validation Loss: 0.2578, Validation Accuracy: 91.96%\n",
      "Model 3, Validation Loss: 0.2563, Validation Accuracy: 92.13%\n",
      "Model 4, Validation Loss: 0.2567, Validation Accuracy: 92.11%\n",
      "Model 5, Validation Loss: 0.2557, Validation Accuracy: 92.04%\n",
      "Model 6, Validation Loss: 0.2576, Validation Accuracy: 92.02%\n",
      "Model 7, Validation Loss: 0.2564, Validation Accuracy: 92.06%\n",
      "Model 8, Validation Loss: 0.2550, Validation Accuracy: 92.05%\n",
      "Model 9, Validation Loss: 0.2573, Validation Accuracy: 92.07%\n",
      "Model 10, Validation Loss: 0.2571, Validation Accuracy: 92.15%\n",
      "\n",
      "Epoch 53/100\n",
      "Model 1, Validation Loss: 0.2563, Validation Accuracy: 92.10%\n",
      "Model 2, Validation Loss: 0.2578, Validation Accuracy: 91.98%\n",
      "Model 3, Validation Loss: 0.2563, Validation Accuracy: 92.13%\n",
      "Model 4, Validation Loss: 0.2567, Validation Accuracy: 92.12%\n",
      "Model 5, Validation Loss: 0.2557, Validation Accuracy: 92.05%\n",
      "Model 6, Validation Loss: 0.2577, Validation Accuracy: 92.06%\n",
      "Model 7, Validation Loss: 0.2564, Validation Accuracy: 92.06%\n",
      "Model 8, Validation Loss: 0.2550, Validation Accuracy: 92.06%\n",
      "Model 9, Validation Loss: 0.2573, Validation Accuracy: 92.05%\n",
      "Model 10, Validation Loss: 0.2572, Validation Accuracy: 92.14%\n",
      "\n",
      "Epoch 54/100\n",
      "Model 1, Validation Loss: 0.2564, Validation Accuracy: 92.09%\n",
      "Model 2, Validation Loss: 0.2579, Validation Accuracy: 91.96%\n",
      "Model 3, Validation Loss: 0.2564, Validation Accuracy: 92.13%\n",
      "Model 4, Validation Loss: 0.2568, Validation Accuracy: 92.11%\n",
      "Model 5, Validation Loss: 0.2558, Validation Accuracy: 92.06%\n",
      "Model 6, Validation Loss: 0.2577, Validation Accuracy: 92.03%\n",
      "Model 7, Validation Loss: 0.2565, Validation Accuracy: 92.04%\n",
      "Model 8, Validation Loss: 0.2551, Validation Accuracy: 92.06%\n",
      "Model 9, Validation Loss: 0.2574, Validation Accuracy: 92.06%\n",
      "Model 10, Validation Loss: 0.2573, Validation Accuracy: 92.14%\n",
      "\n",
      "Epoch 55/100\n",
      "Model 1, Validation Loss: 0.2564, Validation Accuracy: 92.10%\n",
      "Model 2, Validation Loss: 0.2579, Validation Accuracy: 91.99%\n",
      "Model 3, Validation Loss: 0.2564, Validation Accuracy: 92.13%\n",
      "Model 4, Validation Loss: 0.2568, Validation Accuracy: 92.10%\n",
      "Model 5, Validation Loss: 0.2558, Validation Accuracy: 92.05%\n",
      "Model 6, Validation Loss: 0.2578, Validation Accuracy: 92.05%\n",
      "Model 7, Validation Loss: 0.2565, Validation Accuracy: 92.06%\n",
      "Model 8, Validation Loss: 0.2552, Validation Accuracy: 92.06%\n",
      "Model 9, Validation Loss: 0.2574, Validation Accuracy: 92.06%\n",
      "Model 10, Validation Loss: 0.2573, Validation Accuracy: 92.15%\n",
      "\n",
      "Epoch 56/100\n",
      "Model 1, Validation Loss: 0.2565, Validation Accuracy: 92.12%\n",
      "Model 2, Validation Loss: 0.2580, Validation Accuracy: 91.99%\n",
      "Model 3, Validation Loss: 0.2565, Validation Accuracy: 92.13%\n",
      "Model 4, Validation Loss: 0.2569, Validation Accuracy: 92.12%\n",
      "Model 5, Validation Loss: 0.2559, Validation Accuracy: 92.05%\n",
      "Model 6, Validation Loss: 0.2578, Validation Accuracy: 92.06%\n",
      "Model 7, Validation Loss: 0.2566, Validation Accuracy: 92.06%\n",
      "Model 8, Validation Loss: 0.2552, Validation Accuracy: 92.05%\n",
      "Model 9, Validation Loss: 0.2575, Validation Accuracy: 92.07%\n",
      "Model 10, Validation Loss: 0.2573, Validation Accuracy: 92.13%\n",
      "\n",
      "Epoch 57/100\n",
      "Model 1, Validation Loss: 0.2565, Validation Accuracy: 92.11%\n",
      "Model 2, Validation Loss: 0.2580, Validation Accuracy: 91.96%\n",
      "Model 3, Validation Loss: 0.2565, Validation Accuracy: 92.13%\n",
      "Model 4, Validation Loss: 0.2570, Validation Accuracy: 92.10%\n",
      "Model 5, Validation Loss: 0.2559, Validation Accuracy: 92.04%\n",
      "Model 6, Validation Loss: 0.2579, Validation Accuracy: 92.03%\n",
      "Model 7, Validation Loss: 0.2567, Validation Accuracy: 92.03%\n",
      "Model 8, Validation Loss: 0.2553, Validation Accuracy: 92.06%\n",
      "Model 9, Validation Loss: 0.2576, Validation Accuracy: 92.06%\n",
      "Model 10, Validation Loss: 0.2574, Validation Accuracy: 92.15%\n",
      "\n",
      "Epoch 58/100\n",
      "Model 1, Validation Loss: 0.2566, Validation Accuracy: 92.09%\n",
      "Model 2, Validation Loss: 0.2581, Validation Accuracy: 91.98%\n",
      "Model 3, Validation Loss: 0.2566, Validation Accuracy: 92.13%\n",
      "Model 4, Validation Loss: 0.2570, Validation Accuracy: 92.11%\n",
      "Model 5, Validation Loss: 0.2560, Validation Accuracy: 92.06%\n",
      "Model 6, Validation Loss: 0.2579, Validation Accuracy: 92.05%\n",
      "Model 7, Validation Loss: 0.2567, Validation Accuracy: 92.05%\n",
      "Model 8, Validation Loss: 0.2553, Validation Accuracy: 92.06%\n",
      "Model 9, Validation Loss: 0.2576, Validation Accuracy: 92.06%\n",
      "Model 10, Validation Loss: 0.2575, Validation Accuracy: 92.15%\n",
      "\n",
      "Epoch 59/100\n",
      "Model 1, Validation Loss: 0.2566, Validation Accuracy: 92.09%\n",
      "Model 2, Validation Loss: 0.2581, Validation Accuracy: 91.99%\n",
      "Model 3, Validation Loss: 0.2566, Validation Accuracy: 92.12%\n",
      "Model 4, Validation Loss: 0.2570, Validation Accuracy: 92.10%\n",
      "Model 5, Validation Loss: 0.2560, Validation Accuracy: 92.05%\n",
      "Model 6, Validation Loss: 0.2580, Validation Accuracy: 92.04%\n",
      "Model 7, Validation Loss: 0.2567, Validation Accuracy: 92.03%\n",
      "Model 8, Validation Loss: 0.2554, Validation Accuracy: 92.07%\n",
      "Model 9, Validation Loss: 0.2576, Validation Accuracy: 92.06%\n",
      "Model 10, Validation Loss: 0.2575, Validation Accuracy: 92.12%\n",
      "\n",
      "Epoch 60/100\n",
      "Model 1, Validation Loss: 0.2566, Validation Accuracy: 92.10%\n",
      "Model 2, Validation Loss: 0.2581, Validation Accuracy: 92.00%\n",
      "Model 3, Validation Loss: 0.2566, Validation Accuracy: 92.12%\n",
      "Model 4, Validation Loss: 0.2571, Validation Accuracy: 92.11%\n",
      "Model 5, Validation Loss: 0.2561, Validation Accuracy: 92.05%\n",
      "Model 6, Validation Loss: 0.2580, Validation Accuracy: 92.05%\n",
      "Model 7, Validation Loss: 0.2568, Validation Accuracy: 92.06%\n",
      "Model 8, Validation Loss: 0.2554, Validation Accuracy: 92.06%\n",
      "Model 9, Validation Loss: 0.2577, Validation Accuracy: 92.06%\n",
      "Model 10, Validation Loss: 0.2575, Validation Accuracy: 92.13%\n",
      "\n",
      "Epoch 61/100\n",
      "Model 1, Validation Loss: 0.2567, Validation Accuracy: 92.09%\n",
      "Model 2, Validation Loss: 0.2581, Validation Accuracy: 91.99%\n",
      "Model 3, Validation Loss: 0.2567, Validation Accuracy: 92.13%\n",
      "Model 4, Validation Loss: 0.2571, Validation Accuracy: 92.11%\n",
      "Model 5, Validation Loss: 0.2561, Validation Accuracy: 92.06%\n",
      "Model 6, Validation Loss: 0.2580, Validation Accuracy: 92.05%\n",
      "Model 7, Validation Loss: 0.2568, Validation Accuracy: 92.06%\n",
      "Model 8, Validation Loss: 0.2554, Validation Accuracy: 92.06%\n",
      "Model 9, Validation Loss: 0.2577, Validation Accuracy: 92.06%\n",
      "Model 10, Validation Loss: 0.2575, Validation Accuracy: 92.14%\n",
      "\n",
      "Epoch 62/100\n",
      "Model 1, Validation Loss: 0.2567, Validation Accuracy: 92.09%\n",
      "Model 2, Validation Loss: 0.2582, Validation Accuracy: 91.97%\n",
      "Model 3, Validation Loss: 0.2567, Validation Accuracy: 92.12%\n",
      "Model 4, Validation Loss: 0.2571, Validation Accuracy: 92.10%\n",
      "Model 5, Validation Loss: 0.2561, Validation Accuracy: 92.05%\n",
      "Model 6, Validation Loss: 0.2580, Validation Accuracy: 92.04%\n",
      "Model 7, Validation Loss: 0.2568, Validation Accuracy: 92.06%\n",
      "Model 8, Validation Loss: 0.2554, Validation Accuracy: 92.07%\n",
      "Model 9, Validation Loss: 0.2577, Validation Accuracy: 92.06%\n",
      "Model 10, Validation Loss: 0.2576, Validation Accuracy: 92.15%\n",
      "\n",
      "Epoch 63/100\n",
      "Model 1, Validation Loss: 0.2567, Validation Accuracy: 92.09%\n",
      "Model 2, Validation Loss: 0.2582, Validation Accuracy: 92.00%\n",
      "Model 3, Validation Loss: 0.2567, Validation Accuracy: 92.13%\n",
      "Model 4, Validation Loss: 0.2571, Validation Accuracy: 92.11%\n",
      "Model 5, Validation Loss: 0.2561, Validation Accuracy: 92.06%\n",
      "Model 6, Validation Loss: 0.2580, Validation Accuracy: 92.05%\n",
      "Model 7, Validation Loss: 0.2568, Validation Accuracy: 92.05%\n",
      "Model 8, Validation Loss: 0.2554, Validation Accuracy: 92.09%\n",
      "Model 9, Validation Loss: 0.2577, Validation Accuracy: 92.05%\n",
      "Model 10, Validation Loss: 0.2576, Validation Accuracy: 92.15%\n",
      "\n",
      "Epoch 64/100\n",
      "Model 1, Validation Loss: 0.2567, Validation Accuracy: 92.09%\n",
      "Model 2, Validation Loss: 0.2582, Validation Accuracy: 92.00%\n",
      "Model 3, Validation Loss: 0.2567, Validation Accuracy: 92.13%\n",
      "Model 4, Validation Loss: 0.2571, Validation Accuracy: 92.11%\n",
      "Model 5, Validation Loss: 0.2561, Validation Accuracy: 92.05%\n",
      "Model 6, Validation Loss: 0.2581, Validation Accuracy: 92.05%\n",
      "Model 7, Validation Loss: 0.2568, Validation Accuracy: 92.06%\n",
      "Model 8, Validation Loss: 0.2555, Validation Accuracy: 92.06%\n",
      "Model 9, Validation Loss: 0.2578, Validation Accuracy: 92.06%\n",
      "Model 10, Validation Loss: 0.2576, Validation Accuracy: 92.15%\n",
      "\n",
      "Epoch 65/100\n",
      "Model 1, Validation Loss: 0.2568, Validation Accuracy: 92.09%\n",
      "Model 2, Validation Loss: 0.2583, Validation Accuracy: 91.98%\n",
      "Model 3, Validation Loss: 0.2568, Validation Accuracy: 92.12%\n",
      "Model 4, Validation Loss: 0.2572, Validation Accuracy: 92.12%\n",
      "Model 5, Validation Loss: 0.2562, Validation Accuracy: 92.06%\n",
      "Model 6, Validation Loss: 0.2581, Validation Accuracy: 92.05%\n",
      "Model 7, Validation Loss: 0.2569, Validation Accuracy: 92.05%\n",
      "Model 8, Validation Loss: 0.2555, Validation Accuracy: 92.06%\n",
      "Model 9, Validation Loss: 0.2578, Validation Accuracy: 92.05%\n",
      "Model 10, Validation Loss: 0.2576, Validation Accuracy: 92.15%\n",
      "\n",
      "Epoch 66/100\n",
      "Model 1, Validation Loss: 0.2568, Validation Accuracy: 92.09%\n",
      "Model 2, Validation Loss: 0.2583, Validation Accuracy: 91.99%\n",
      "Model 3, Validation Loss: 0.2568, Validation Accuracy: 92.12%\n",
      "Model 4, Validation Loss: 0.2572, Validation Accuracy: 92.11%\n",
      "Model 5, Validation Loss: 0.2562, Validation Accuracy: 92.06%\n",
      "Model 6, Validation Loss: 0.2581, Validation Accuracy: 92.05%\n",
      "Model 7, Validation Loss: 0.2569, Validation Accuracy: 92.06%\n",
      "Model 8, Validation Loss: 0.2555, Validation Accuracy: 92.09%\n",
      "Model 9, Validation Loss: 0.2578, Validation Accuracy: 92.05%\n",
      "Model 10, Validation Loss: 0.2576, Validation Accuracy: 92.14%\n",
      "\n",
      "Epoch 67/100\n",
      "Model 1, Validation Loss: 0.2568, Validation Accuracy: 92.09%\n",
      "Model 2, Validation Loss: 0.2583, Validation Accuracy: 91.99%\n",
      "Model 3, Validation Loss: 0.2568, Validation Accuracy: 92.12%\n",
      "Model 4, Validation Loss: 0.2572, Validation Accuracy: 92.11%\n",
      "Model 5, Validation Loss: 0.2562, Validation Accuracy: 92.06%\n",
      "Model 6, Validation Loss: 0.2581, Validation Accuracy: 92.05%\n",
      "Model 7, Validation Loss: 0.2569, Validation Accuracy: 92.06%\n",
      "Model 8, Validation Loss: 0.2555, Validation Accuracy: 92.07%\n",
      "Model 9, Validation Loss: 0.2578, Validation Accuracy: 92.06%\n",
      "Model 10, Validation Loss: 0.2577, Validation Accuracy: 92.14%\n",
      "\n",
      "Epoch 68/100\n",
      "Model 1, Validation Loss: 0.2568, Validation Accuracy: 92.09%\n",
      "Model 2, Validation Loss: 0.2583, Validation Accuracy: 91.99%\n",
      "Model 3, Validation Loss: 0.2568, Validation Accuracy: 92.12%\n",
      "Model 4, Validation Loss: 0.2572, Validation Accuracy: 92.11%\n",
      "Model 5, Validation Loss: 0.2562, Validation Accuracy: 92.06%\n",
      "Model 6, Validation Loss: 0.2581, Validation Accuracy: 92.05%\n",
      "Model 7, Validation Loss: 0.2569, Validation Accuracy: 92.07%\n",
      "Model 8, Validation Loss: 0.2555, Validation Accuracy: 92.08%\n",
      "Model 9, Validation Loss: 0.2578, Validation Accuracy: 92.05%\n",
      "Model 10, Validation Loss: 0.2577, Validation Accuracy: 92.14%\n",
      "\n",
      "Epoch 69/100\n",
      "Model 1, Validation Loss: 0.2568, Validation Accuracy: 92.10%\n",
      "Model 2, Validation Loss: 0.2583, Validation Accuracy: 91.99%\n",
      "Model 3, Validation Loss: 0.2568, Validation Accuracy: 92.12%\n",
      "Model 4, Validation Loss: 0.2572, Validation Accuracy: 92.12%\n",
      "Model 5, Validation Loss: 0.2562, Validation Accuracy: 92.06%\n",
      "Model 6, Validation Loss: 0.2582, Validation Accuracy: 92.05%\n",
      "Model 7, Validation Loss: 0.2569, Validation Accuracy: 92.07%\n",
      "Model 8, Validation Loss: 0.2555, Validation Accuracy: 92.08%\n",
      "Model 9, Validation Loss: 0.2578, Validation Accuracy: 92.05%\n",
      "Model 10, Validation Loss: 0.2577, Validation Accuracy: 92.15%\n",
      "\n",
      "Epoch 70/100\n",
      "Model 1, Validation Loss: 0.2568, Validation Accuracy: 92.09%\n",
      "Model 2, Validation Loss: 0.2583, Validation Accuracy: 92.00%\n",
      "Model 3, Validation Loss: 0.2568, Validation Accuracy: 92.12%\n",
      "Model 4, Validation Loss: 0.2572, Validation Accuracy: 92.12%\n",
      "Model 5, Validation Loss: 0.2562, Validation Accuracy: 92.06%\n",
      "Model 6, Validation Loss: 0.2582, Validation Accuracy: 92.05%\n",
      "Model 7, Validation Loss: 0.2569, Validation Accuracy: 92.06%\n",
      "Model 8, Validation Loss: 0.2556, Validation Accuracy: 92.09%\n",
      "Model 9, Validation Loss: 0.2578, Validation Accuracy: 92.05%\n",
      "Model 10, Validation Loss: 0.2577, Validation Accuracy: 92.14%\n",
      "\n",
      "Epoch 71/100\n",
      "Model 1, Validation Loss: 0.2568, Validation Accuracy: 92.10%\n",
      "Model 2, Validation Loss: 0.2583, Validation Accuracy: 91.99%\n",
      "Model 3, Validation Loss: 0.2568, Validation Accuracy: 92.12%\n",
      "Model 4, Validation Loss: 0.2573, Validation Accuracy: 92.12%\n",
      "Model 5, Validation Loss: 0.2562, Validation Accuracy: 92.06%\n",
      "Model 6, Validation Loss: 0.2582, Validation Accuracy: 92.05%\n",
      "Model 7, Validation Loss: 0.2570, Validation Accuracy: 92.06%\n",
      "Model 8, Validation Loss: 0.2556, Validation Accuracy: 92.06%\n",
      "Model 9, Validation Loss: 0.2579, Validation Accuracy: 92.05%\n",
      "Model 10, Validation Loss: 0.2577, Validation Accuracy: 92.14%\n",
      "\n",
      "Epoch 72/100\n",
      "Model 1, Validation Loss: 0.2568, Validation Accuracy: 92.10%\n",
      "Model 2, Validation Loss: 0.2583, Validation Accuracy: 91.99%\n",
      "Model 3, Validation Loss: 0.2568, Validation Accuracy: 92.12%\n",
      "Model 4, Validation Loss: 0.2573, Validation Accuracy: 92.12%\n",
      "Model 5, Validation Loss: 0.2563, Validation Accuracy: 92.06%\n",
      "Model 6, Validation Loss: 0.2582, Validation Accuracy: 92.05%\n",
      "Model 7, Validation Loss: 0.2570, Validation Accuracy: 92.06%\n",
      "Model 8, Validation Loss: 0.2556, Validation Accuracy: 92.08%\n",
      "Model 9, Validation Loss: 0.2579, Validation Accuracy: 92.05%\n",
      "Model 10, Validation Loss: 0.2577, Validation Accuracy: 92.15%\n",
      "\n",
      "Epoch 73/100\n",
      "Model 1, Validation Loss: 0.2569, Validation Accuracy: 92.11%\n",
      "Model 2, Validation Loss: 0.2583, Validation Accuracy: 91.99%\n",
      "Model 3, Validation Loss: 0.2569, Validation Accuracy: 92.12%\n",
      "Model 4, Validation Loss: 0.2573, Validation Accuracy: 92.12%\n",
      "Model 5, Validation Loss: 0.2563, Validation Accuracy: 92.06%\n",
      "Model 6, Validation Loss: 0.2582, Validation Accuracy: 92.05%\n",
      "Model 7, Validation Loss: 0.2570, Validation Accuracy: 92.06%\n",
      "Model 8, Validation Loss: 0.2556, Validation Accuracy: 92.07%\n",
      "Model 9, Validation Loss: 0.2579, Validation Accuracy: 92.05%\n",
      "Model 10, Validation Loss: 0.2577, Validation Accuracy: 92.14%\n",
      "\n",
      "Epoch 74/100\n",
      "Model 1, Validation Loss: 0.2569, Validation Accuracy: 92.11%\n",
      "Model 2, Validation Loss: 0.2584, Validation Accuracy: 91.99%\n",
      "Model 3, Validation Loss: 0.2569, Validation Accuracy: 92.13%\n",
      "Model 4, Validation Loss: 0.2573, Validation Accuracy: 92.11%\n",
      "Model 5, Validation Loss: 0.2563, Validation Accuracy: 92.06%\n",
      "Model 6, Validation Loss: 0.2582, Validation Accuracy: 92.05%\n",
      "Model 7, Validation Loss: 0.2570, Validation Accuracy: 92.06%\n",
      "Model 8, Validation Loss: 0.2556, Validation Accuracy: 92.06%\n",
      "Model 9, Validation Loss: 0.2579, Validation Accuracy: 92.05%\n",
      "Model 10, Validation Loss: 0.2577, Validation Accuracy: 92.14%\n",
      "\n",
      "Epoch 75/100\n",
      "Model 1, Validation Loss: 0.2569, Validation Accuracy: 92.10%\n",
      "Model 2, Validation Loss: 0.2584, Validation Accuracy: 91.98%\n",
      "Model 3, Validation Loss: 0.2569, Validation Accuracy: 92.12%\n",
      "Model 4, Validation Loss: 0.2573, Validation Accuracy: 92.11%\n",
      "Model 5, Validation Loss: 0.2563, Validation Accuracy: 92.06%\n",
      "Model 6, Validation Loss: 0.2582, Validation Accuracy: 92.05%\n",
      "Model 7, Validation Loss: 0.2570, Validation Accuracy: 92.06%\n",
      "Model 8, Validation Loss: 0.2556, Validation Accuracy: 92.06%\n",
      "Model 9, Validation Loss: 0.2579, Validation Accuracy: 92.05%\n",
      "Model 10, Validation Loss: 0.2577, Validation Accuracy: 92.15%\n",
      "\n",
      "Epoch 76/100\n",
      "Model 1, Validation Loss: 0.2569, Validation Accuracy: 92.10%\n",
      "Model 2, Validation Loss: 0.2584, Validation Accuracy: 91.99%\n",
      "Model 3, Validation Loss: 0.2569, Validation Accuracy: 92.12%\n",
      "Model 4, Validation Loss: 0.2573, Validation Accuracy: 92.12%\n",
      "Model 5, Validation Loss: 0.2563, Validation Accuracy: 92.06%\n",
      "Model 6, Validation Loss: 0.2582, Validation Accuracy: 92.05%\n",
      "Model 7, Validation Loss: 0.2570, Validation Accuracy: 92.07%\n",
      "Model 8, Validation Loss: 0.2556, Validation Accuracy: 92.07%\n",
      "Model 9, Validation Loss: 0.2579, Validation Accuracy: 92.05%\n",
      "Model 10, Validation Loss: 0.2577, Validation Accuracy: 92.15%\n",
      "\n",
      "Epoch 77/100\n",
      "Model 1, Validation Loss: 0.2569, Validation Accuracy: 92.11%\n",
      "Model 2, Validation Loss: 0.2584, Validation Accuracy: 91.99%\n",
      "Model 3, Validation Loss: 0.2569, Validation Accuracy: 92.12%\n",
      "Model 4, Validation Loss: 0.2573, Validation Accuracy: 92.12%\n",
      "Model 5, Validation Loss: 0.2563, Validation Accuracy: 92.06%\n",
      "Model 6, Validation Loss: 0.2582, Validation Accuracy: 92.05%\n",
      "Model 7, Validation Loss: 0.2570, Validation Accuracy: 92.06%\n",
      "Model 8, Validation Loss: 0.2556, Validation Accuracy: 92.07%\n",
      "Model 9, Validation Loss: 0.2579, Validation Accuracy: 92.05%\n",
      "Model 10, Validation Loss: 0.2577, Validation Accuracy: 92.15%\n",
      "\n",
      "Epoch 78/100\n",
      "Model 1, Validation Loss: 0.2569, Validation Accuracy: 92.10%\n",
      "Model 2, Validation Loss: 0.2584, Validation Accuracy: 91.99%\n",
      "Model 3, Validation Loss: 0.2569, Validation Accuracy: 92.12%\n",
      "Model 4, Validation Loss: 0.2573, Validation Accuracy: 92.12%\n",
      "Model 5, Validation Loss: 0.2563, Validation Accuracy: 92.06%\n",
      "Model 6, Validation Loss: 0.2582, Validation Accuracy: 92.05%\n",
      "Model 7, Validation Loss: 0.2570, Validation Accuracy: 92.06%\n",
      "Model 8, Validation Loss: 0.2556, Validation Accuracy: 92.07%\n",
      "Model 9, Validation Loss: 0.2579, Validation Accuracy: 92.05%\n",
      "Model 10, Validation Loss: 0.2578, Validation Accuracy: 92.15%\n",
      "\n",
      "Epoch 79/100\n",
      "Model 1, Validation Loss: 0.2569, Validation Accuracy: 92.10%\n",
      "Model 2, Validation Loss: 0.2584, Validation Accuracy: 91.99%\n",
      "Model 3, Validation Loss: 0.2569, Validation Accuracy: 92.12%\n",
      "Model 4, Validation Loss: 0.2573, Validation Accuracy: 92.12%\n",
      "Model 5, Validation Loss: 0.2563, Validation Accuracy: 92.06%\n",
      "Model 6, Validation Loss: 0.2582, Validation Accuracy: 92.05%\n",
      "Model 7, Validation Loss: 0.2570, Validation Accuracy: 92.07%\n",
      "Model 8, Validation Loss: 0.2556, Validation Accuracy: 92.07%\n",
      "Model 9, Validation Loss: 0.2579, Validation Accuracy: 92.05%\n",
      "Model 10, Validation Loss: 0.2578, Validation Accuracy: 92.15%\n",
      "\n",
      "Epoch 80/100\n",
      "Model 1, Validation Loss: 0.2569, Validation Accuracy: 92.11%\n",
      "Model 2, Validation Loss: 0.2584, Validation Accuracy: 91.99%\n",
      "Model 3, Validation Loss: 0.2569, Validation Accuracy: 92.12%\n",
      "Model 4, Validation Loss: 0.2573, Validation Accuracy: 92.12%\n",
      "Model 5, Validation Loss: 0.2563, Validation Accuracy: 92.06%\n",
      "Model 6, Validation Loss: 0.2582, Validation Accuracy: 92.05%\n",
      "Model 7, Validation Loss: 0.2570, Validation Accuracy: 92.06%\n",
      "Model 8, Validation Loss: 0.2556, Validation Accuracy: 92.07%\n",
      "Model 9, Validation Loss: 0.2579, Validation Accuracy: 92.05%\n",
      "Model 10, Validation Loss: 0.2578, Validation Accuracy: 92.15%\n",
      "\n",
      "Epoch 81/100\n",
      "Model 1, Validation Loss: 0.2569, Validation Accuracy: 92.10%\n",
      "Model 2, Validation Loss: 0.2584, Validation Accuracy: 91.99%\n",
      "Model 3, Validation Loss: 0.2569, Validation Accuracy: 92.12%\n",
      "Model 4, Validation Loss: 0.2573, Validation Accuracy: 92.12%\n",
      "Model 5, Validation Loss: 0.2563, Validation Accuracy: 92.06%\n",
      "Model 6, Validation Loss: 0.2582, Validation Accuracy: 92.05%\n",
      "Model 7, Validation Loss: 0.2570, Validation Accuracy: 92.06%\n",
      "Model 8, Validation Loss: 0.2556, Validation Accuracy: 92.07%\n",
      "Model 9, Validation Loss: 0.2579, Validation Accuracy: 92.05%\n",
      "Model 10, Validation Loss: 0.2578, Validation Accuracy: 92.15%\n",
      "\n",
      "Epoch 82/100\n",
      "Model 1, Validation Loss: 0.2569, Validation Accuracy: 92.10%\n",
      "Model 2, Validation Loss: 0.2584, Validation Accuracy: 91.99%\n",
      "Model 3, Validation Loss: 0.2569, Validation Accuracy: 92.12%\n",
      "Model 4, Validation Loss: 0.2573, Validation Accuracy: 92.12%\n",
      "Model 5, Validation Loss: 0.2563, Validation Accuracy: 92.06%\n",
      "Model 6, Validation Loss: 0.2583, Validation Accuracy: 92.05%\n",
      "Model 7, Validation Loss: 0.2570, Validation Accuracy: 92.07%\n",
      "Model 8, Validation Loss: 0.2556, Validation Accuracy: 92.07%\n",
      "Model 9, Validation Loss: 0.2579, Validation Accuracy: 92.05%\n",
      "Model 10, Validation Loss: 0.2578, Validation Accuracy: 92.15%\n",
      "\n",
      "Epoch 83/100\n",
      "Model 1, Validation Loss: 0.2569, Validation Accuracy: 92.10%\n",
      "Model 2, Validation Loss: 0.2584, Validation Accuracy: 91.99%\n",
      "Model 3, Validation Loss: 0.2569, Validation Accuracy: 92.12%\n",
      "Model 4, Validation Loss: 0.2573, Validation Accuracy: 92.12%\n",
      "Model 5, Validation Loss: 0.2563, Validation Accuracy: 92.06%\n",
      "Model 6, Validation Loss: 0.2583, Validation Accuracy: 92.05%\n",
      "Model 7, Validation Loss: 0.2570, Validation Accuracy: 92.06%\n",
      "Model 8, Validation Loss: 0.2556, Validation Accuracy: 92.08%\n",
      "Model 9, Validation Loss: 0.2579, Validation Accuracy: 92.05%\n",
      "Model 10, Validation Loss: 0.2578, Validation Accuracy: 92.15%\n",
      "\n",
      "Epoch 84/100\n",
      "Model 1, Validation Loss: 0.2569, Validation Accuracy: 92.10%\n",
      "Model 2, Validation Loss: 0.2584, Validation Accuracy: 91.99%\n",
      "Model 3, Validation Loss: 0.2569, Validation Accuracy: 92.12%\n",
      "Model 4, Validation Loss: 0.2573, Validation Accuracy: 92.12%\n",
      "Model 5, Validation Loss: 0.2563, Validation Accuracy: 92.06%\n",
      "Model 6, Validation Loss: 0.2583, Validation Accuracy: 92.05%\n",
      "Model 7, Validation Loss: 0.2570, Validation Accuracy: 92.06%\n",
      "Model 8, Validation Loss: 0.2556, Validation Accuracy: 92.07%\n",
      "Model 9, Validation Loss: 0.2579, Validation Accuracy: 92.05%\n",
      "Model 10, Validation Loss: 0.2578, Validation Accuracy: 92.15%\n",
      "\n",
      "Epoch 85/100\n",
      "Model 1, Validation Loss: 0.2569, Validation Accuracy: 92.10%\n",
      "Model 2, Validation Loss: 0.2584, Validation Accuracy: 91.99%\n",
      "Model 3, Validation Loss: 0.2569, Validation Accuracy: 92.12%\n",
      "Model 4, Validation Loss: 0.2573, Validation Accuracy: 92.12%\n",
      "Model 5, Validation Loss: 0.2563, Validation Accuracy: 92.06%\n",
      "Model 6, Validation Loss: 0.2583, Validation Accuracy: 92.05%\n",
      "Model 7, Validation Loss: 0.2570, Validation Accuracy: 92.06%\n",
      "Model 8, Validation Loss: 0.2556, Validation Accuracy: 92.08%\n",
      "Model 9, Validation Loss: 0.2579, Validation Accuracy: 92.05%\n",
      "Model 10, Validation Loss: 0.2578, Validation Accuracy: 92.15%\n",
      "\n",
      "Epoch 86/100\n",
      "Model 1, Validation Loss: 0.2569, Validation Accuracy: 92.10%\n",
      "Model 2, Validation Loss: 0.2584, Validation Accuracy: 91.99%\n",
      "Model 3, Validation Loss: 0.2569, Validation Accuracy: 92.12%\n",
      "Model 4, Validation Loss: 0.2573, Validation Accuracy: 92.12%\n",
      "Model 5, Validation Loss: 0.2563, Validation Accuracy: 92.06%\n",
      "Model 6, Validation Loss: 0.2583, Validation Accuracy: 92.05%\n",
      "Model 7, Validation Loss: 0.2570, Validation Accuracy: 92.07%\n",
      "Model 8, Validation Loss: 0.2556, Validation Accuracy: 92.08%\n",
      "Model 9, Validation Loss: 0.2579, Validation Accuracy: 92.05%\n",
      "Model 10, Validation Loss: 0.2578, Validation Accuracy: 92.15%\n",
      "\n",
      "Epoch 87/100\n",
      "Model 1, Validation Loss: 0.2569, Validation Accuracy: 92.10%\n",
      "Model 2, Validation Loss: 0.2584, Validation Accuracy: 91.99%\n",
      "Model 3, Validation Loss: 0.2569, Validation Accuracy: 92.12%\n",
      "Model 4, Validation Loss: 0.2573, Validation Accuracy: 92.12%\n",
      "Model 5, Validation Loss: 0.2563, Validation Accuracy: 92.06%\n",
      "Model 6, Validation Loss: 0.2583, Validation Accuracy: 92.05%\n",
      "Model 7, Validation Loss: 0.2570, Validation Accuracy: 92.06%\n",
      "Model 8, Validation Loss: 0.2557, Validation Accuracy: 92.07%\n",
      "Model 9, Validation Loss: 0.2579, Validation Accuracy: 92.05%\n",
      "Model 10, Validation Loss: 0.2578, Validation Accuracy: 92.15%\n",
      "\n",
      "Epoch 88/100\n",
      "Model 1, Validation Loss: 0.2569, Validation Accuracy: 92.10%\n",
      "Model 2, Validation Loss: 0.2584, Validation Accuracy: 91.99%\n",
      "Model 3, Validation Loss: 0.2569, Validation Accuracy: 92.12%\n",
      "Model 4, Validation Loss: 0.2573, Validation Accuracy: 92.12%\n",
      "Model 5, Validation Loss: 0.2563, Validation Accuracy: 92.06%\n",
      "Model 6, Validation Loss: 0.2583, Validation Accuracy: 92.05%\n",
      "Model 7, Validation Loss: 0.2570, Validation Accuracy: 92.06%\n",
      "Model 8, Validation Loss: 0.2557, Validation Accuracy: 92.07%\n",
      "Model 9, Validation Loss: 0.2579, Validation Accuracy: 92.05%\n",
      "Model 10, Validation Loss: 0.2578, Validation Accuracy: 92.15%\n",
      "\n",
      "Epoch 89/100\n",
      "Model 1, Validation Loss: 0.2569, Validation Accuracy: 92.10%\n",
      "Model 2, Validation Loss: 0.2584, Validation Accuracy: 91.99%\n",
      "Model 3, Validation Loss: 0.2569, Validation Accuracy: 92.12%\n",
      "Model 4, Validation Loss: 0.2573, Validation Accuracy: 92.12%\n",
      "Model 5, Validation Loss: 0.2563, Validation Accuracy: 92.06%\n",
      "Model 6, Validation Loss: 0.2583, Validation Accuracy: 92.05%\n",
      "Model 7, Validation Loss: 0.2570, Validation Accuracy: 92.06%\n",
      "Model 8, Validation Loss: 0.2557, Validation Accuracy: 92.08%\n",
      "Model 9, Validation Loss: 0.2579, Validation Accuracy: 92.05%\n",
      "Model 10, Validation Loss: 0.2578, Validation Accuracy: 92.15%\n",
      "\n",
      "Epoch 90/100\n",
      "Model 1, Validation Loss: 0.2569, Validation Accuracy: 92.10%\n",
      "Model 2, Validation Loss: 0.2584, Validation Accuracy: 91.99%\n",
      "Model 3, Validation Loss: 0.2569, Validation Accuracy: 92.12%\n",
      "Model 4, Validation Loss: 0.2573, Validation Accuracy: 92.12%\n",
      "Model 5, Validation Loss: 0.2563, Validation Accuracy: 92.06%\n",
      "Model 6, Validation Loss: 0.2583, Validation Accuracy: 92.05%\n",
      "Model 7, Validation Loss: 0.2570, Validation Accuracy: 92.06%\n",
      "Model 8, Validation Loss: 0.2557, Validation Accuracy: 92.07%\n",
      "Model 9, Validation Loss: 0.2579, Validation Accuracy: 92.05%\n",
      "Model 10, Validation Loss: 0.2578, Validation Accuracy: 92.15%\n",
      "\n",
      "Epoch 91/100\n",
      "Model 1, Validation Loss: 0.2569, Validation Accuracy: 92.10%\n",
      "Model 2, Validation Loss: 0.2584, Validation Accuracy: 91.99%\n",
      "Model 3, Validation Loss: 0.2569, Validation Accuracy: 92.12%\n",
      "Model 4, Validation Loss: 0.2573, Validation Accuracy: 92.12%\n",
      "Model 5, Validation Loss: 0.2563, Validation Accuracy: 92.06%\n",
      "Model 6, Validation Loss: 0.2583, Validation Accuracy: 92.05%\n",
      "Model 7, Validation Loss: 0.2570, Validation Accuracy: 92.06%\n",
      "Model 8, Validation Loss: 0.2557, Validation Accuracy: 92.07%\n",
      "Model 9, Validation Loss: 0.2579, Validation Accuracy: 92.05%\n",
      "Model 10, Validation Loss: 0.2578, Validation Accuracy: 92.15%\n",
      "\n",
      "Epoch 92/100\n",
      "Model 1, Validation Loss: 0.2569, Validation Accuracy: 92.10%\n",
      "Model 2, Validation Loss: 0.2584, Validation Accuracy: 91.99%\n",
      "Model 3, Validation Loss: 0.2569, Validation Accuracy: 92.12%\n",
      "Model 4, Validation Loss: 0.2574, Validation Accuracy: 92.12%\n",
      "Model 5, Validation Loss: 0.2563, Validation Accuracy: 92.06%\n",
      "Model 6, Validation Loss: 0.2583, Validation Accuracy: 92.05%\n",
      "Model 7, Validation Loss: 0.2570, Validation Accuracy: 92.06%\n",
      "Model 8, Validation Loss: 0.2557, Validation Accuracy: 92.07%\n",
      "Model 9, Validation Loss: 0.2580, Validation Accuracy: 92.05%\n",
      "Model 10, Validation Loss: 0.2578, Validation Accuracy: 92.15%\n",
      "\n",
      "Epoch 93/100\n",
      "Model 1, Validation Loss: 0.2569, Validation Accuracy: 92.10%\n",
      "Model 2, Validation Loss: 0.2584, Validation Accuracy: 91.99%\n",
      "Model 3, Validation Loss: 0.2569, Validation Accuracy: 92.12%\n",
      "Model 4, Validation Loss: 0.2574, Validation Accuracy: 92.12%\n",
      "Model 5, Validation Loss: 0.2563, Validation Accuracy: 92.06%\n",
      "Model 6, Validation Loss: 0.2583, Validation Accuracy: 92.05%\n",
      "Model 7, Validation Loss: 0.2570, Validation Accuracy: 92.06%\n",
      "Model 8, Validation Loss: 0.2557, Validation Accuracy: 92.08%\n",
      "Model 9, Validation Loss: 0.2580, Validation Accuracy: 92.05%\n",
      "Model 10, Validation Loss: 0.2578, Validation Accuracy: 92.15%\n",
      "\n",
      "Epoch 94/100\n",
      "Model 1, Validation Loss: 0.2569, Validation Accuracy: 92.10%\n",
      "Model 2, Validation Loss: 0.2584, Validation Accuracy: 91.99%\n",
      "Model 3, Validation Loss: 0.2569, Validation Accuracy: 92.12%\n",
      "Model 4, Validation Loss: 0.2574, Validation Accuracy: 92.12%\n",
      "Model 5, Validation Loss: 0.2563, Validation Accuracy: 92.06%\n",
      "Model 6, Validation Loss: 0.2583, Validation Accuracy: 92.05%\n",
      "Model 7, Validation Loss: 0.2570, Validation Accuracy: 92.06%\n",
      "Model 8, Validation Loss: 0.2557, Validation Accuracy: 92.08%\n",
      "Model 9, Validation Loss: 0.2580, Validation Accuracy: 92.05%\n",
      "Model 10, Validation Loss: 0.2578, Validation Accuracy: 92.15%\n",
      "\n",
      "Epoch 95/100\n",
      "Model 1, Validation Loss: 0.2569, Validation Accuracy: 92.11%\n",
      "Model 2, Validation Loss: 0.2584, Validation Accuracy: 91.99%\n",
      "Model 3, Validation Loss: 0.2569, Validation Accuracy: 92.12%\n",
      "Model 4, Validation Loss: 0.2574, Validation Accuracy: 92.12%\n",
      "Model 5, Validation Loss: 0.2563, Validation Accuracy: 92.06%\n",
      "Model 6, Validation Loss: 0.2583, Validation Accuracy: 92.05%\n",
      "Model 7, Validation Loss: 0.2570, Validation Accuracy: 92.06%\n",
      "Model 8, Validation Loss: 0.2557, Validation Accuracy: 92.07%\n",
      "Model 9, Validation Loss: 0.2580, Validation Accuracy: 92.05%\n",
      "Model 10, Validation Loss: 0.2578, Validation Accuracy: 92.15%\n",
      "\n",
      "Epoch 96/100\n",
      "Model 1, Validation Loss: 0.2569, Validation Accuracy: 92.10%\n",
      "Model 2, Validation Loss: 0.2584, Validation Accuracy: 91.99%\n",
      "Model 3, Validation Loss: 0.2569, Validation Accuracy: 92.12%\n",
      "Model 4, Validation Loss: 0.2574, Validation Accuracy: 92.12%\n",
      "Model 5, Validation Loss: 0.2563, Validation Accuracy: 92.06%\n",
      "Model 6, Validation Loss: 0.2583, Validation Accuracy: 92.05%\n",
      "Model 7, Validation Loss: 0.2571, Validation Accuracy: 92.06%\n",
      "Model 8, Validation Loss: 0.2557, Validation Accuracy: 92.07%\n",
      "Model 9, Validation Loss: 0.2580, Validation Accuracy: 92.05%\n",
      "Model 10, Validation Loss: 0.2578, Validation Accuracy: 92.15%\n",
      "\n",
      "Epoch 97/100\n",
      "Model 1, Validation Loss: 0.2569, Validation Accuracy: 92.10%\n",
      "Model 2, Validation Loss: 0.2584, Validation Accuracy: 91.99%\n",
      "Model 3, Validation Loss: 0.2569, Validation Accuracy: 92.12%\n",
      "Model 4, Validation Loss: 0.2574, Validation Accuracy: 92.12%\n",
      "Model 5, Validation Loss: 0.2563, Validation Accuracy: 92.06%\n",
      "Model 6, Validation Loss: 0.2583, Validation Accuracy: 92.05%\n",
      "Model 7, Validation Loss: 0.2571, Validation Accuracy: 92.07%\n",
      "Model 8, Validation Loss: 0.2557, Validation Accuracy: 92.08%\n",
      "Model 9, Validation Loss: 0.2580, Validation Accuracy: 92.05%\n",
      "Model 10, Validation Loss: 0.2578, Validation Accuracy: 92.15%\n",
      "\n",
      "Epoch 98/100\n",
      "Model 1, Validation Loss: 0.2569, Validation Accuracy: 92.11%\n",
      "Model 2, Validation Loss: 0.2584, Validation Accuracy: 91.99%\n",
      "Model 3, Validation Loss: 0.2569, Validation Accuracy: 92.12%\n",
      "Model 4, Validation Loss: 0.2574, Validation Accuracy: 92.12%\n",
      "Model 5, Validation Loss: 0.2563, Validation Accuracy: 92.06%\n",
      "Model 6, Validation Loss: 0.2583, Validation Accuracy: 92.05%\n",
      "Model 7, Validation Loss: 0.2571, Validation Accuracy: 92.06%\n",
      "Model 8, Validation Loss: 0.2557, Validation Accuracy: 92.07%\n",
      "Model 9, Validation Loss: 0.2580, Validation Accuracy: 92.05%\n",
      "Model 10, Validation Loss: 0.2578, Validation Accuracy: 92.15%\n",
      "\n",
      "Epoch 99/100\n",
      "Model 1, Validation Loss: 0.2569, Validation Accuracy: 92.11%\n",
      "Model 2, Validation Loss: 0.2584, Validation Accuracy: 91.99%\n",
      "Model 3, Validation Loss: 0.2569, Validation Accuracy: 92.12%\n",
      "Model 4, Validation Loss: 0.2574, Validation Accuracy: 92.12%\n",
      "Model 5, Validation Loss: 0.2563, Validation Accuracy: 92.06%\n",
      "Model 6, Validation Loss: 0.2583, Validation Accuracy: 92.05%\n",
      "Model 7, Validation Loss: 0.2571, Validation Accuracy: 92.07%\n",
      "Model 8, Validation Loss: 0.2557, Validation Accuracy: 92.08%\n",
      "Model 9, Validation Loss: 0.2580, Validation Accuracy: 92.05%\n",
      "Model 10, Validation Loss: 0.2578, Validation Accuracy: 92.15%\n",
      "\n",
      "Epoch 100/100\n",
      "Model 1, Validation Loss: 0.2569, Validation Accuracy: 92.11%\n",
      "Model 2, Validation Loss: 0.2584, Validation Accuracy: 91.99%\n",
      "Model 3, Validation Loss: 0.2569, Validation Accuracy: 92.12%\n",
      "Model 4, Validation Loss: 0.2574, Validation Accuracy: 92.12%\n",
      "Model 5, Validation Loss: 0.2563, Validation Accuracy: 92.06%\n",
      "Model 6, Validation Loss: 0.2583, Validation Accuracy: 92.05%\n",
      "Model 7, Validation Loss: 0.2571, Validation Accuracy: 92.07%\n",
      "Model 8, Validation Loss: 0.2557, Validation Accuracy: 92.07%\n",
      "Model 9, Validation Loss: 0.2580, Validation Accuracy: 92.05%\n",
      "Model 10, Validation Loss: 0.2578, Validation Accuracy: 92.15%\n"
     ]
    }
   ],
   "source": [
    "# Define the MLP architecture\n",
    "class MLPClassifier(nn.Module):\n",
    "    def __init__(self, input_size, hidden_size, output_size):\n",
    "        super(MLPClassifier, self).__init__()\n",
    "        self.layer1 = nn.Linear(input_size, hidden_size)\n",
    "        self.relu = nn.ReLU()\n",
    "        self.layer2 = nn.Linear(hidden_size, output_size)\n",
    "    \n",
    "    def forward(self, x):\n",
    "        x = self.layer1(x)\n",
    "        x = self.relu(x)\n",
    "        x = self.layer2(x)\n",
    "        return x  \n",
    "\n",
    "# Hyperparameters\n",
    "ensemble_size = 10\n",
    "input_size = train_embeddings.shape[1]\n",
    "hidden_sizes = 2048\n",
    "output_size = 2\n",
    "num_epochs = 100\n",
    "batch_size = 1024\n",
    "learning_rate = 0.0001\n",
    "weight_decay = 1e-4\n",
    "\n",
    "# Create an ensemble of MLPs\n",
    "ensemble = [MLPClassifier(input_size, hidden_sizes, output_size).to(device) for _ in range(ensemble_size)]\n",
    "\n",
    "# Split training data into new training and stacking (meta-training) sets\n",
    "X_train_new, X_meta, y_train_new, y_meta = train_test_split(\n",
    "    train_embeddings, train_labels, test_size=0.2, random_state=42, stratify=train_labels)\n",
    "\n",
    "# Convert to tensors\n",
    "X_train_new_tensor = torch.tensor(X_train_new, dtype=torch.float32).to(device)\n",
    "y_train_new_tensor = torch.tensor(y_train_new, dtype=torch.long).to(device)\n",
    "X_meta_tensor = torch.tensor(X_meta, dtype=torch.float32).to(device)\n",
    "y_meta_tensor = torch.tensor(y_meta, dtype=torch.long).to(device)\n",
    "validation_embeddings_tensor = torch.tensor(validation_embeddings, dtype=torch.float32).to(device)\n",
    "validation_labels_tensor = torch.tensor(validation_labels, dtype=torch.long).to(device)\n",
    "\n",
    "# Prepare criterion and optimizer for each model\n",
    "criterions = [nn.CrossEntropyLoss() for _ in ensemble]\n",
    "optimizers = [optim.Adam(model.parameters(), lr=learning_rate, weight_decay=weight_decay) for model in ensemble]\n",
    "schedulers = [optim.lr_scheduler.ReduceLROnPlateau(optimizer, mode='min', factor=0.5, patience=5) for optimizer in optimizers]\n",
    "\n",
    "# Lists to store losses and accuracies\n",
    "model_training_losses = [[] for _ in ensemble]\n",
    "model_validation_losses = [[] for _ in ensemble]\n",
    "model_training_accuracies = [[] for _ in ensemble]\n",
    "model_validation_accuracies = [[] for _ in ensemble]\n",
    "\n",
    "# Training the base models on new training set\n",
    "num_samples = X_train_new_tensor.size(0)\n",
    "for epoch in range(num_epochs):\n",
    "    print(f\"\\nEpoch {epoch+1}/{num_epochs}\")\n",
    "    \n",
    "    # Shuffle the data\n",
    "    permutation = torch.randperm(num_samples)\n",
    "    X_train_shuffled = X_train_new_tensor[permutation]\n",
    "    y_train_shuffled = y_train_new_tensor[permutation]\n",
    "    \n",
    "    epoch_loss = [0.0 for _ in ensemble]\n",
    "    \n",
    "    # Split into batches\n",
    "    for i in range(0, num_samples, batch_size):\n",
    "        batch_embeddings = X_train_shuffled[i:i+batch_size]\n",
    "        batch_labels = y_train_shuffled[i:i+batch_size]\n",
    "        \n",
    "        # For each model in ensemble\n",
    "        for idx, model in enumerate(ensemble):\n",
    "            model.train()\n",
    "            optimizer = optimizers[idx]\n",
    "            criterion = criterions[idx]\n",
    "            \n",
    "            optimizer.zero_grad()\n",
    "            outputs = model(batch_embeddings)\n",
    "            loss = criterion(outputs, batch_labels)\n",
    "            loss.backward()\n",
    "            optimizer.step()\n",
    "            model_training_losses[idx].append(loss.item())\n",
    "            \n",
    "            epoch_loss[idx] += loss.item()\n",
    "            # Calculate training accuracy\n",
    "            _, predicted = torch.max(outputs, 1)\n",
    "            accuracy = (predicted == batch_labels).float().mean().item()\n",
    "            model_training_accuracies[idx].append(accuracy)\n",
    "    \n",
    "    # After epoch, evaluate each model on stacking set\n",
    "    for idx, model in enumerate(ensemble):\n",
    "        model.eval()\n",
    "        with torch.no_grad():\n",
    "            outputs = model(X_meta_tensor)\n",
    "            val_loss = criterions[idx](outputs, y_meta_tensor).item()\n",
    "            model_validation_losses[idx].append(val_loss)\n",
    "            _, predicted = torch.max(outputs, 1)\n",
    "            accuracy = (predicted == y_meta_tensor).float().mean().item()\n",
    "            model_validation_accuracies[idx].append(accuracy)\n",
    "            print(f\"Model {idx+1}, Validation Loss: {val_loss:.4f}, Validation Accuracy: {accuracy*100:.2f}%\")\n",
    "            # Step the scheduler\n",
    "            schedulers[idx].step(val_loss)\n",
    "\n",
    "# Generate base model predictions on stacking set (X_meta)\n",
    "meta_features = []\n",
    "for idx, model in enumerate(ensemble):\n",
    "    model.eval()\n",
    "    with torch.no_grad():\n",
    "        outputs = model(X_meta_tensor)\n",
    "        probs = nn.functional.softmax(outputs, dim=1)  # Get probabilities\n",
    "        # Use either probabilities or logits as features\n",
    "        meta_features.append(probs.cpu().numpy())\n",
    "\n",
    "# Stack the features\n",
    "meta_features = np.hstack(meta_features)  # Shape: (num_samples, ensemble_size * num_classes)\n"
   ]
  },
  {
   "cell_type": "code",
   "execution_count": 112,
   "metadata": {},
   "outputs": [
    {
     "name": "stdout",
     "output_type": "stream",
     "text": [
      "[LightGBM] [Info] Number of positive: 7514, number of negative: 5956\n",
      "[LightGBM] [Info] Auto-choosing col-wise multi-threading, the overhead of testing was 0.000476 seconds.\n",
      "You can set `force_col_wise=true` to remove the overhead.\n",
      "[LightGBM] [Info] Total Bins 5078\n",
      "[LightGBM] [Info] Number of data points in the train set: 13470, number of used features: 20\n",
      "[LightGBM] [Info] [binary:BoostFromScore]: pavg=0.557832 -> initscore=0.232369\n",
      "[LightGBM] [Info] Start training from score 0.232369\n",
      "[LightGBM] [Warning] No further splits with positive gain, best gain: -inf\n",
      "[LightGBM] [Warning] No further splits with positive gain, best gain: -inf\n",
      "[LightGBM] [Warning] No further splits with positive gain, best gain: -inf\n",
      "[LightGBM] [Warning] No further splits with positive gain, best gain: -inf\n",
      "[LightGBM] [Warning] No further splits with positive gain, best gain: -inf\n",
      "[LightGBM] [Warning] No further splits with positive gain, best gain: -inf\n",
      "[LightGBM] [Warning] No further splits with positive gain, best gain: -inf\n",
      "[LightGBM] [Warning] No further splits with positive gain, best gain: -inf\n",
      "[LightGBM] [Warning] No further splits with positive gain, best gain: -inf\n",
      "[LightGBM] [Warning] No further splits with positive gain, best gain: -inf\n",
      "[LightGBM] [Warning] No further splits with positive gain, best gain: -inf\n",
      "[LightGBM] [Warning] No further splits with positive gain, best gain: -inf\n",
      "[LightGBM] [Warning] No further splits with positive gain, best gain: -inf\n",
      "[LightGBM] [Warning] No further splits with positive gain, best gain: -inf\n",
      "[LightGBM] [Warning] No further splits with positive gain, best gain: -inf\n",
      "[LightGBM] [Warning] No further splits with positive gain, best gain: -inf\n",
      "[LightGBM] [Warning] No further splits with positive gain, best gain: -inf\n",
      "[LightGBM] [Warning] No further splits with positive gain, best gain: -inf\n",
      "[LightGBM] [Warning] No further splits with positive gain, best gain: -inf\n",
      "[LightGBM] [Warning] No further splits with positive gain, best gain: -inf\n",
      "[LightGBM] [Warning] No further splits with positive gain, best gain: -inf\n",
      "[LightGBM] [Warning] No further splits with positive gain, best gain: -inf\n",
      "[LightGBM] [Warning] No further splits with positive gain, best gain: -inf\n",
      "[LightGBM] [Warning] No further splits with positive gain, best gain: -inf\n",
      "[LightGBM] [Warning] No further splits with positive gain, best gain: -inf\n",
      "[LightGBM] [Warning] No further splits with positive gain, best gain: -inf\n",
      "[LightGBM] [Warning] No further splits with positive gain, best gain: -inf\n",
      "[LightGBM] [Warning] No further splits with positive gain, best gain: -inf\n",
      "[LightGBM] [Warning] No further splits with positive gain, best gain: -inf\n",
      "[LightGBM] [Warning] No further splits with positive gain, best gain: -inf\n",
      "[LightGBM] [Warning] No further splits with positive gain, best gain: -inf\n",
      "[LightGBM] [Warning] No further splits with positive gain, best gain: -inf\n",
      "[LightGBM] [Warning] No further splits with positive gain, best gain: -inf\n",
      "[LightGBM] [Warning] No further splits with positive gain, best gain: -inf\n",
      "[LightGBM] [Warning] No further splits with positive gain, best gain: -inf\n",
      "[LightGBM] [Warning] No further splits with positive gain, best gain: -inf\n",
      "[LightGBM] [Warning] No further splits with positive gain, best gain: -inf\n",
      "[LightGBM] [Warning] No further splits with positive gain, best gain: -inf\n",
      "[LightGBM] [Warning] No further splits with positive gain, best gain: -inf\n",
      "[LightGBM] [Warning] No further splits with positive gain, best gain: -inf\n",
      "[LightGBM] [Warning] No further splits with positive gain, best gain: -inf\n",
      "[LightGBM] [Warning] No further splits with positive gain, best gain: -inf\n",
      "[LightGBM] [Warning] No further splits with positive gain, best gain: -inf\n",
      "[LightGBM] [Warning] No further splits with positive gain, best gain: -inf\n",
      "[LightGBM] [Warning] No further splits with positive gain, best gain: -inf\n",
      "[LightGBM] [Warning] No further splits with positive gain, best gain: -inf\n",
      "[LightGBM] [Warning] No further splits with positive gain, best gain: -inf\n",
      "[LightGBM] [Warning] No further splits with positive gain, best gain: -inf\n",
      "[LightGBM] [Warning] No further splits with positive gain, best gain: -inf\n",
      "[LightGBM] [Warning] No further splits with positive gain, best gain: -inf\n",
      "[LightGBM] [Warning] No further splits with positive gain, best gain: -inf\n",
      "[LightGBM] [Warning] No further splits with positive gain, best gain: -inf\n",
      "[LightGBM] [Warning] No further splits with positive gain, best gain: -inf\n",
      "[LightGBM] [Warning] No further splits with positive gain, best gain: -inf\n",
      "[LightGBM] [Warning] No further splits with positive gain, best gain: -inf\n",
      "[LightGBM] [Warning] No further splits with positive gain, best gain: -inf\n",
      "[LightGBM] [Warning] No further splits with positive gain, best gain: -inf\n",
      "[LightGBM] [Warning] No further splits with positive gain, best gain: -inf\n",
      "[LightGBM] [Warning] No further splits with positive gain, best gain: -inf\n",
      "[LightGBM] [Warning] No further splits with positive gain, best gain: -inf\n",
      "[LightGBM] [Warning] No further splits with positive gain, best gain: -inf\n",
      "[LightGBM] [Warning] No further splits with positive gain, best gain: -inf\n",
      "[LightGBM] [Warning] No further splits with positive gain, best gain: -inf\n",
      "[LightGBM] [Warning] No further splits with positive gain, best gain: -inf\n",
      "[LightGBM] [Warning] No further splits with positive gain, best gain: -inf\n",
      "[LightGBM] [Warning] No further splits with positive gain, best gain: -inf\n",
      "[LightGBM] [Warning] No further splits with positive gain, best gain: -inf\n",
      "[LightGBM] [Warning] No further splits with positive gain, best gain: -inf\n",
      "[LightGBM] [Warning] No further splits with positive gain, best gain: -inf\n",
      "[LightGBM] [Warning] No further splits with positive gain, best gain: -inf\n",
      "[LightGBM] [Warning] No further splits with positive gain, best gain: -inf\n",
      "[LightGBM] [Warning] No further splits with positive gain, best gain: -inf\n",
      "[LightGBM] [Warning] No further splits with positive gain, best gain: -inf\n",
      "[LightGBM] [Warning] No further splits with positive gain, best gain: -inf\n",
      "[LightGBM] [Warning] No further splits with positive gain, best gain: -inf\n",
      "[LightGBM] [Warning] No further splits with positive gain, best gain: -inf\n",
      "[LightGBM] [Warning] No further splits with positive gain, best gain: -inf\n",
      "[LightGBM] [Warning] No further splits with positive gain, best gain: -inf\n",
      "[LightGBM] [Warning] No further splits with positive gain, best gain: -inf\n",
      "[LightGBM] [Warning] No further splits with positive gain, best gain: -inf\n",
      "[LightGBM] [Warning] No further splits with positive gain, best gain: -inf\n",
      "[LightGBM] [Warning] No further splits with positive gain, best gain: -inf\n",
      "[LightGBM] [Warning] No further splits with positive gain, best gain: -inf\n",
      "[LightGBM] [Warning] No further splits with positive gain, best gain: -inf\n",
      "[LightGBM] [Warning] No further splits with positive gain, best gain: -inf\n",
      "[LightGBM] [Warning] No further splits with positive gain, best gain: -inf\n",
      "[LightGBM] [Warning] No further splits with positive gain, best gain: -inf\n",
      "[LightGBM] [Warning] No further splits with positive gain, best gain: -inf\n",
      "[LightGBM] [Warning] No further splits with positive gain, best gain: -inf\n",
      "[LightGBM] [Warning] No further splits with positive gain, best gain: -inf\n",
      "[LightGBM] [Warning] No further splits with positive gain, best gain: -inf\n",
      "[LightGBM] [Warning] No further splits with positive gain, best gain: -inf\n",
      "[LightGBM] [Warning] No further splits with positive gain, best gain: -inf\n",
      "[LightGBM] [Warning] No further splits with positive gain, best gain: -inf\n",
      "[LightGBM] [Warning] No further splits with positive gain, best gain: -inf\n",
      "[LightGBM] [Warning] No further splits with positive gain, best gain: -inf\n",
      "[LightGBM] [Warning] No further splits with positive gain, best gain: -inf\n",
      "[LightGBM] [Warning] No further splits with positive gain, best gain: -inf\n",
      "[LightGBM] [Warning] No further splits with positive gain, best gain: -inf\n",
      "[LightGBM] [Warning] No further splits with positive gain, best gain: -inf\n",
      "[LightGBM] [Warning] No further splits with positive gain, best gain: -inf\n",
      "[LightGBM] [Warning] No further splits with positive gain, best gain: -inf\n",
      "[LightGBM] [Warning] No further splits with positive gain, best gain: -inf\n",
      "[LightGBM] [Warning] No further splits with positive gain, best gain: -inf\n",
      "[LightGBM] [Warning] No further splits with positive gain, best gain: -inf\n",
      "[LightGBM] [Warning] No further splits with positive gain, best gain: -inf\n",
      "[LightGBM] [Warning] No further splits with positive gain, best gain: -inf\n",
      "[LightGBM] [Warning] No further splits with positive gain, best gain: -inf\n",
      "[LightGBM] [Warning] No further splits with positive gain, best gain: -inf\n",
      "[LightGBM] [Warning] No further splits with positive gain, best gain: -inf\n",
      "[LightGBM] [Warning] No further splits with positive gain, best gain: -inf\n",
      "[LightGBM] [Warning] No further splits with positive gain, best gain: -inf\n",
      "[LightGBM] [Warning] No further splits with positive gain, best gain: -inf\n",
      "[LightGBM] [Warning] No further splits with positive gain, best gain: -inf\n",
      "[LightGBM] [Warning] No further splits with positive gain, best gain: -inf\n",
      "[LightGBM] [Warning] No further splits with positive gain, best gain: -inf\n",
      "[LightGBM] [Warning] No further splits with positive gain, best gain: -inf\n",
      "[LightGBM] [Warning] No further splits with positive gain, best gain: -inf\n",
      "[LightGBM] [Warning] No further splits with positive gain, best gain: -inf\n",
      "[LightGBM] [Warning] No further splits with positive gain, best gain: -inf\n",
      "[LightGBM] [Warning] No further splits with positive gain, best gain: -inf\n",
      "[LightGBM] [Warning] No further splits with positive gain, best gain: -inf\n",
      "[LightGBM] [Warning] No further splits with positive gain, best gain: -inf\n",
      "[LightGBM] [Warning] No further splits with positive gain, best gain: -inf\n",
      "[LightGBM] [Warning] No further splits with positive gain, best gain: -inf\n",
      "[LightGBM] [Warning] No further splits with positive gain, best gain: -inf\n",
      "[LightGBM] [Warning] No further splits with positive gain, best gain: -inf\n",
      "[LightGBM] [Warning] No further splits with positive gain, best gain: -inf\n",
      "[LightGBM] [Warning] No further splits with positive gain, best gain: -inf\n",
      "[LightGBM] [Warning] No further splits with positive gain, best gain: -inf\n",
      "[LightGBM] [Warning] No further splits with positive gain, best gain: -inf\n",
      "[LightGBM] [Warning] No further splits with positive gain, best gain: -inf\n",
      "[LightGBM] [Warning] No further splits with positive gain, best gain: -inf\n",
      "[LightGBM] [Warning] No further splits with positive gain, best gain: -inf\n",
      "[LightGBM] [Warning] No further splits with positive gain, best gain: -inf\n",
      "[LightGBM] [Warning] No further splits with positive gain, best gain: -inf\n",
      "[LightGBM] [Warning] No further splits with positive gain, best gain: -inf\n",
      "[LightGBM] [Warning] No further splits with positive gain, best gain: -inf\n",
      "[LightGBM] [Warning] No further splits with positive gain, best gain: -inf\n",
      "[LightGBM] [Warning] No further splits with positive gain, best gain: -inf\n",
      "[LightGBM] [Warning] No further splits with positive gain, best gain: -inf\n",
      "[LightGBM] [Warning] No further splits with positive gain, best gain: -inf\n",
      "[LightGBM] [Warning] No further splits with positive gain, best gain: -inf\n",
      "[LightGBM] [Warning] No further splits with positive gain, best gain: -inf\n",
      "[LightGBM] [Warning] No further splits with positive gain, best gain: -inf\n",
      "[LightGBM] [Warning] No further splits with positive gain, best gain: -inf\n",
      "[LightGBM] [Warning] No further splits with positive gain, best gain: -inf\n",
      "[LightGBM] [Warning] No further splits with positive gain, best gain: -inf\n",
      "[LightGBM] [Warning] No further splits with positive gain, best gain: -inf\n",
      "[LightGBM] [Warning] No further splits with positive gain, best gain: -inf\n",
      "[LightGBM] [Warning] No further splits with positive gain, best gain: -inf\n",
      "[LightGBM] [Warning] No further splits with positive gain, best gain: -inf\n",
      "[LightGBM] [Warning] No further splits with positive gain, best gain: -inf\n",
      "[LightGBM] [Warning] No further splits with positive gain, best gain: -inf\n",
      "[LightGBM] [Warning] No further splits with positive gain, best gain: -inf\n",
      "[LightGBM] [Warning] No further splits with positive gain, best gain: -inf\n",
      "[LightGBM] [Warning] No further splits with positive gain, best gain: -inf\n",
      "[LightGBM] [Warning] No further splits with positive gain, best gain: -inf\n",
      "[LightGBM] [Warning] No further splits with positive gain, best gain: -inf\n",
      "[LightGBM] [Warning] No further splits with positive gain, best gain: -inf\n",
      "[LightGBM] [Warning] No further splits with positive gain, best gain: -inf\n",
      "[LightGBM] [Warning] No further splits with positive gain, best gain: -inf\n",
      "[LightGBM] [Warning] No further splits with positive gain, best gain: -inf\n",
      "[LightGBM] [Warning] No further splits with positive gain, best gain: -inf\n",
      "[LightGBM] [Warning] No further splits with positive gain, best gain: -inf\n",
      "[LightGBM] [Warning] No further splits with positive gain, best gain: -inf\n",
      "[LightGBM] [Warning] No further splits with positive gain, best gain: -inf\n",
      "[LightGBM] [Warning] No further splits with positive gain, best gain: -inf\n",
      "[LightGBM] [Warning] No further splits with positive gain, best gain: -inf\n",
      "[LightGBM] [Warning] No further splits with positive gain, best gain: -inf\n",
      "[LightGBM] [Warning] No further splits with positive gain, best gain: -inf\n",
      "[LightGBM] [Warning] No further splits with positive gain, best gain: -inf\n",
      "[LightGBM] [Warning] No further splits with positive gain, best gain: -inf\n",
      "[LightGBM] [Warning] No further splits with positive gain, best gain: -inf\n",
      "[LightGBM] [Warning] No further splits with positive gain, best gain: -inf\n",
      "[LightGBM] [Warning] No further splits with positive gain, best gain: -inf\n",
      "[LightGBM] [Warning] No further splits with positive gain, best gain: -inf\n",
      "[LightGBM] [Warning] No further splits with positive gain, best gain: -inf\n",
      "[LightGBM] [Warning] No further splits with positive gain, best gain: -inf\n",
      "[LightGBM] [Warning] No further splits with positive gain, best gain: -inf\n",
      "[LightGBM] [Warning] No further splits with positive gain, best gain: -inf\n",
      "[LightGBM] [Warning] No further splits with positive gain, best gain: -inf\n",
      "[LightGBM] [Warning] No further splits with positive gain, best gain: -inf\n",
      "[LightGBM] [Warning] No further splits with positive gain, best gain: -inf\n",
      "[LightGBM] [Warning] No further splits with positive gain, best gain: -inf\n",
      "[LightGBM] [Warning] No further splits with positive gain, best gain: -inf\n",
      "[LightGBM] [Warning] No further splits with positive gain, best gain: -inf\n",
      "[LightGBM] [Warning] No further splits with positive gain, best gain: -inf\n",
      "[LightGBM] [Warning] No further splits with positive gain, best gain: -inf\n",
      "[LightGBM] [Warning] No further splits with positive gain, best gain: -inf\n",
      "[LightGBM] [Warning] No further splits with positive gain, best gain: -inf\n",
      "[LightGBM] [Warning] No further splits with positive gain, best gain: -inf\n",
      "[LightGBM] [Warning] No further splits with positive gain, best gain: -inf\n",
      "[LightGBM] [Warning] No further splits with positive gain, best gain: -inf\n",
      "[LightGBM] [Warning] No further splits with positive gain, best gain: -inf\n",
      "[LightGBM] [Warning] No further splits with positive gain, best gain: -inf\n",
      "[LightGBM] [Warning] No further splits with positive gain, best gain: -inf\n",
      "[LightGBM] [Warning] No further splits with positive gain, best gain: -inf\n",
      "[LightGBM] [Warning] No further splits with positive gain, best gain: -inf\n",
      "[LightGBM] [Warning] No further splits with positive gain, best gain: -inf\n",
      "\n",
      "Stacked Ensemble Validation Accuracy: 86.93%\n",
      "\n",
      "Classification Report:\n",
      "              precision    recall  f1-score   support\n",
      "\n",
      "    Negative       0.87      0.86      0.87       428\n",
      "    Positive       0.87      0.88      0.87       444\n",
      "\n",
      "    accuracy                           0.87       872\n",
      "   macro avg       0.87      0.87      0.87       872\n",
      "weighted avg       0.87      0.87      0.87       872\n",
      "\n",
      "\n",
      "Confusion Matrix:\n",
      "[[368  60]\n",
      " [ 54 390]]\n",
      "\n",
      "Base Ensemble Validation Accuracy: 86.70%\n"
     ]
    }
   ],
   "source": [
    "# Train the meta-model\n",
    "meta_model = lgb.LGBMClassifier(\n",
    "    boosting_type='gbdt',\n",
    "    objective='binary',\n",
    "    n_estimators=200,\n",
    "    reg_lambda=0.1,\n",
    "    learning_rate=0.01,\n",
    "    num_leaves=200,\n",
    "    max_depth=10,\n",
    "    min_child_samples=30,\n",
    "    subsample=0.8,\n",
    "    colsample_bytree=0.9,\n",
    "    random_state=50\n",
    ")\n",
    "meta_model.fit(meta_features, y_meta)\n",
    "\n",
    "# Generate base model predictions on validation set\n",
    "validation_meta_features = []\n",
    "for idx, model in enumerate(ensemble):\n",
    "    model.eval()\n",
    "    with torch.no_grad():\n",
    "        outputs = model(validation_embeddings_tensor)\n",
    "        probs = nn.functional.softmax(outputs, dim=1)\n",
    "        validation_meta_features.append(probs.cpu().numpy())\n",
    "\n",
    "# Stack the features\n",
    "validation_meta_features = np.hstack(validation_meta_features)\n",
    "\n",
    "# Predict using the meta-model\n",
    "validation_preds = meta_model.predict(validation_meta_features)\n",
    "validation_probs = meta_model.predict_proba(validation_meta_features)[:, 1]  # Probability of positive class\n",
    "validation_accuracy = accuracy_score(validation_labels, validation_preds)\n",
    "print(f\"\\nStacked Ensemble Validation Accuracy: {validation_accuracy * 100:.2f}%\")\n",
    "\n",
    "# Classification report\n",
    "print(\"\\nClassification Report:\")\n",
    "print(classification_report(validation_labels, validation_preds, target_names=['Negative', 'Positive']))\n",
    "\n",
    "# Confusion matrix\n",
    "print(\"\\nConfusion Matrix:\")\n",
    "print(confusion_matrix(validation_labels, validation_preds))\n",
    "\n",
    "# Evaluate the base ensemble (without stacking) for comparison\n",
    "# Generate average probabilities from base models\n",
    "ensemble_outputs = torch.zeros((validation_embeddings_tensor.size(0), output_size)).to(device)\n",
    "for model in ensemble:\n",
    "    model.eval()\n",
    "    with torch.no_grad():\n",
    "        outputs = model(validation_embeddings_tensor)\n",
    "        probs = nn.functional.softmax(outputs, dim=1)\n",
    "        ensemble_outputs += probs\n",
    "\n",
    "ensemble_outputs /= ensemble_size  # Average the probabilities\n",
    "_, ensemble_predicted = torch.max(ensemble_outputs, 1)\n",
    "ensemble_accuracy = (ensemble_predicted.cpu() == validation_labels_tensor.cpu()).float().mean().item()\n",
    "print(f\"\\nBase Ensemble Validation Accuracy: {ensemble_accuracy * 100:.2f}%\")"
   ]
  },
  {
   "cell_type": "code",
   "execution_count": 113,
   "metadata": {},
   "outputs": [
    {
     "name": "stdout",
     "output_type": "stream",
     "text": [
      "Base Ensemble Validation Loss: 0.4355\n",
      "\n",
      "Stacked Ensemble Validation Accuracy: 86.93%\n",
      "Expected Calibration Error (ECE): 36.02%\n",
      "\n",
      "Classification Report:\n",
      "              precision    recall  f1-score   support\n",
      "\n",
      "    Negative       0.87      0.86      0.87       428\n",
      "    Positive       0.87      0.88      0.87       444\n",
      "\n",
      "    accuracy                           0.87       872\n",
      "   macro avg       0.87      0.87      0.87       872\n",
      "weighted avg       0.87      0.87      0.87       872\n",
      "\n",
      "\n",
      "Confusion Matrix:\n",
      "[[368  60]\n",
      " [ 54 390]]\n"
     ]
    },
    {
     "data": {
      "image/png": "[encoded data removed]",
      "text/plain": [
       "<Figure size 800x600 with 1 Axes>"
      ]
     },
     "metadata": {},
     "output_type": "display_data"
    },
    {
     "data": {
      "image/png": "[encoded data removed]",
      "text/plain": [
       "<Figure size 1200x600 with 1 Axes>"
      ]
     },
     "metadata": {},
     "output_type": "display_data"
    }
   ],
   "source": [
    "# Negative log likelihood loss\n",
    "ensemble_loss = nn.functional.cross_entropy(ensemble_outputs, validation_labels_tensor)\n",
    "print(f\"Base Ensemble Validation Loss: {ensemble_loss.item():.4f}\")\n",
    "\n",
    "# Expected calibration error\n",
    "def compute_ece(y_true, y_probs, n_bins=10):\n",
    "    \"\"\"\n",
    "    Compute the Expected Calibration Error (ECE).\n",
    "    \n",
    "    Parameters:\n",
    "    - y_true: True labels (numpy array of shape (n_samples,))\n",
    "    - y_probs: Predicted probabilities for the positive class (numpy array of shape (n_samples,))\n",
    "    - n_bins: Number of bins to use for calibration\n",
    "    \n",
    "    Returns:\n",
    "    - ece: Expected Calibration Error\n",
    "    \"\"\"\n",
    "    bin_edges = np.linspace(0.0, 1.0, n_bins + 1)\n",
    "    bin_indices = np.digitize(y_probs, bin_edges, right=True) - 1  # Bin indices start from 0\n",
    "\n",
    "    ece = 0.0\n",
    "    for i in range(n_bins):\n",
    "        # Indices of samples in bin i\n",
    "        bin_mask = bin_indices == i\n",
    "        bin_size = np.sum(bin_mask)\n",
    "        if bin_size > 0:\n",
    "            # Average confidence in bin i\n",
    "            avg_confidence_in_bin = np.mean(y_probs[bin_mask])\n",
    "            # Average accuracy in bin i\n",
    "            avg_accuracy_in_bin = np.mean(y_true[bin_mask] == (y_probs[bin_mask] >= 0.5))\n",
    "            # Proportion of samples in bin i\n",
    "            prop_in_bin = bin_size / y_probs.shape[0]\n",
    "            # Accumulate ECE\n",
    "            ece += np.abs(avg_confidence_in_bin - avg_accuracy_in_bin) * prop_in_bin\n",
    "    return ece\n",
    "\n",
    "# Accuracy\n",
    "validation_accuracy = accuracy_score(validation_labels, validation_preds)\n",
    "print(f\"\\nStacked Ensemble Validation Accuracy: {validation_accuracy * 100:.2f}%\")\n",
    "\n",
    "# Expected Calibration Error\n",
    "ece = compute_ece(validation_labels, validation_probs, n_bins=10)\n",
    "print(f\"Expected Calibration Error (ECE): {ece * 100:.2f}%\")\n",
    "\n",
    "# Classification report\n",
    "print(\"\\nClassification Report:\")\n",
    "print(classification_report(validation_labels, validation_preds, target_names=['Negative', 'Positive']))\n",
    "\n",
    "# Confusion matrix\n",
    "print(\"\\nConfusion Matrix:\")\n",
    "print(confusion_matrix(validation_labels, validation_preds))\n",
    "\n",
    "# Compute calibration curve\n",
    "prob_true, prob_pred = calibration_curve(validation_labels, validation_probs, n_bins=10, strategy='uniform')\n",
    "\n",
    "# Plot calibration curve\n",
    "plt.figure(figsize=(8, 6))\n",
    "plt.plot(prob_pred, prob_true, marker='o', linewidth=1, label='Stacked Ensemble')\n",
    "plt.plot([0, 1], [0, 1], linestyle='--', label='Perfect Calibration')\n",
    "plt.title('Reliability Diagram')\n",
    "plt.xlabel('Predicted Probability')\n",
    "plt.ylabel('True Probability')\n",
    "plt.legend()\n",
    "plt.grid()\n",
    "plt.show()\n",
    "\n",
    "# Get feature importances\n",
    "feature_importances = meta_model.feature_importances_\n",
    "\n",
    "# Plot feature importances\n",
    "plt.figure(figsize=(12, 6))\n",
    "plt.bar(range(len(feature_importances)), feature_importances)\n",
    "plt.xlabel('Feature Index')\n",
    "plt.ylabel('Importance')\n",
    "plt.title('Feature Importances from LightGBM Meta-Model')\n",
    "plt.show()"
   ]
  },
  {
   "cell_type": "code",
   "execution_count": 92,
   "metadata": {},
   "outputs": [
    {
     "name": "stdout",
     "output_type": "stream",
     "text": [
      "Calibrated Expected Calibration Error (ECE): 20.99%\n"
     ]
    }
   ],
   "source": [
    "# Calibrate the model using the meta set\n",
    "calibrated_meta_model = CalibratedClassifierCV(estimator=meta_model, method='isotonic', cv='prefit')\n",
    "calibrated_meta_model.fit(validation_meta_features, validation_labels)\n",
    "\n",
    "# Predict probabilities with the calibrated model\n",
    "validation_probs_calibrated = calibrated_meta_model.predict_proba(validation_meta_features)[:, 1]\n",
    "\n",
    "# Recalculate ECE\n",
    "ece_calibrated = compute_ece(validation_labels, validation_probs_calibrated, n_bins=10)\n",
    "print(f\"Calibrated Expected Calibration Error (ECE): {ece_calibrated * 100:.2f}%\")"
   ]
  },
  {
   "cell_type": "code",
   "execution_count": 72,
   "metadata": {},
   "outputs": [
    {
     "data": {
      "image/png": "[encoded data removed]",
      "text/plain": [
       "<Figure size 800x600 with 1 Axes>"
      ]
     },
     "metadata": {},
     "output_type": "display_data"
    }
   ],
   "source": [
    "def plot_predicted_probabilities(y_probs, title='Predicted Probabilities Histogram'):\n",
    "    plt.figure(figsize=(8, 6))\n",
    "    plt.hist(y_probs, bins=20, edgecolor='k', alpha=0.7)\n",
    "    plt.xlabel('Predicted Probability')\n",
    "    plt.ylabel('Number of Samples')\n",
    "    plt.title(title)\n",
    "    plt.grid(True)\n",
    "    plt.show()\n",
    "\n",
    "# For validation set probabilities\n",
    "plot_predicted_probabilities(validation_probs, title='Validation Set Predicted Probabilities')\n"
   ]
  },
  {
   "cell_type": "code",
   "execution_count": 49,
   "metadata": {},
   "outputs": [
    {
     "data": {
      "image/png": "[encoded data removed]",
      "text/plain": [
       "<Figure size 800x600 with 1 Axes>"
      ]
     },
     "metadata": {},
     "output_type": "display_data"
    }
   ],
   "source": [
    "def plot_prediction_confidence(y_probs, title='Prediction Confidence Histogram'):\n",
    "    # For binary classification, y_probs is sufficient\n",
    "    confidence = y_probs\n",
    "    plt.figure(figsize=(8, 6))\n",
    "    plt.hist(confidence, bins=20, edgecolor='k', alpha=0.7)\n",
    "    plt.xlabel('Prediction Confidence')\n",
    "    plt.ylabel('Number of Samples')\n",
    "    plt.title(title)\n",
    "    plt.grid(True)\n",
    "    plt.show()\n",
    "\n",
    "# For validation set probabilities\n",
    "plot_prediction_confidence(validation_probs, title='Validation Set Prediction Confidence')\n"
   ]
  },
  {
   "cell_type": "code",
   "execution_count": 51,
   "metadata": {},
   "outputs": [
    {
     "data": {
      "image/png": "[encoded data removed]",
      "text/plain": [
       "<Figure size 800x600 with 1 Axes>"
      ]
     },
     "metadata": {},
     "output_type": "display_data"
    }
   ],
   "source": [
    "def plot_model_training_losses(model_losses, model_index):\n",
    "    plt.figure(figsize=(8, 6))\n",
    "    plt.plot(model_losses, label=f'Model {model_index + 1}')\n",
    "    plt.xlabel('Iteration')\n",
    "    plt.ylabel('Loss')\n",
    "    plt.title(f'Model {model_index + 1} Training Loss Over Time')\n",
    "    plt.legend()\n",
    "    plt.grid(True)\n",
    "    plt.show()\n",
    "\n",
    "# Example: Plot training losses for the first model\n",
    "plot_model_training_losses(model_training_losses[9], model_index=9)\n"
   ]
  },
  {
   "cell_type": "code",
   "execution_count": 52,
   "metadata": {},
   "outputs": [
    {
     "data": {
      "image/png": "[encoded data removed]",
      "text/plain": [
       "<Figure size 800x600 with 1 Axes>"
      ]
     },
     "metadata": {},
     "output_type": "display_data"
    }
   ],
   "source": [
    "def plot_base_model_predictions(ensemble, X_data, y_true, sample_size=1000):\n",
    "    import random\n",
    "    num_models = len(ensemble)\n",
    "    # Randomly select a subset of samples if data is large\n",
    "    indices = random.sample(range(X_data.size(0)), min(sample_size, X_data.size(0)))\n",
    "    X_sample = X_data[indices]\n",
    "    y_true_sample = y_true[indices].cpu().numpy()\n",
    "    \n",
    "    predictions = []\n",
    "    for idx, model in enumerate(ensemble):\n",
    "        model.eval()\n",
    "        with torch.no_grad():\n",
    "            outputs = model(X_sample)\n",
    "            probs = nn.functional.softmax(outputs, dim=1)\n",
    "            preds = torch.argmax(probs, dim=1).cpu().numpy()\n",
    "            predictions.append(preds)\n",
    "    \n",
    "    predictions = np.array(predictions)  # Shape: (num_models, num_samples)\n",
    "    \n",
    "    # For each class, count the number of models predicting that class for each sample\n",
    "    counts = np.sum(predictions == 1, axis=0)  # Assuming class '1' is positive\n",
    "    \n",
    "    plt.figure(figsize=(8, 6))\n",
    "    plt.hist(counts, bins=range(0, num_models + 1), edgecolor='k', alpha=0.7)\n",
    "    plt.xlabel('Number of Models Predicting Positive Class')\n",
    "    plt.ylabel('Number of Samples')\n",
    "    plt.title('Distribution of Positive Predictions Across Ensemble')\n",
    "    plt.grid(True)\n",
    "    plt.show()\n",
    "    \n",
    "# Example usage\n",
    "plot_base_model_predictions(ensemble, validation_embeddings_tensor, validation_labels_tensor)\n"
   ]
  },
  {
   "cell_type": "code",
   "execution_count": 53,
   "metadata": {},
   "outputs": [
    {
     "data": {
      "image/png": "[encoded data removed]",
      "text/plain": [
       "<Figure size 1000x600 with 1 Axes>"
      ]
     },
     "metadata": {},
     "output_type": "display_data"
    }
   ],
   "source": [
    "def plot_feature_importances(meta_model, num_top_features=20):\n",
    "    import pandas as pd\n",
    "    importances = meta_model.feature_importances_\n",
    "    feature_indices = np.argsort(importances)[::-1][:num_top_features]\n",
    "    sorted_importances = importances[feature_indices]\n",
    "    feature_names = [f'Feature {i}' for i in feature_indices]\n",
    "    \n",
    "    plt.figure(figsize=(10, 6))\n",
    "    plt.barh(feature_names[::-1], sorted_importances[::-1], color='skyblue')\n",
    "    plt.xlabel('Importance')\n",
    "    plt.title('Top Feature Importances from LightGBM Meta-Model')\n",
    "    plt.grid(True)\n",
    "    plt.show()\n",
    "\n",
    "# Plot top 20 feature importances\n",
    "plot_feature_importances(meta_model, num_top_features=20)\n"
   ]
  },
  {
   "cell_type": "code",
   "execution_count": 54,
   "metadata": {},
   "outputs": [
    {
     "data": {
      "image/png": "[encoded data removed]",
      "text/plain": [
       "<Figure size 800x600 with 1 Axes>"
      ]
     },
     "metadata": {},
     "output_type": "display_data"
    }
   ],
   "source": [
    "def plot_calibration_error_per_bin(y_true, y_probs, n_bins=10):\n",
    "    bin_edges = np.linspace(0.0, 1.0, n_bins + 1)\n",
    "    bin_indices = np.digitize(y_probs, bin_edges, right=True) - 1  # Bin indices start from 0\n",
    "\n",
    "    bin_errors = []\n",
    "    bin_centers = []\n",
    "    for i in range(n_bins):\n",
    "        bin_mask = bin_indices == i\n",
    "        bin_size = np.sum(bin_mask)\n",
    "        if bin_size > 0:\n",
    "            avg_confidence_in_bin = np.mean(y_probs[bin_mask])\n",
    "            avg_accuracy_in_bin = np.mean(y_true[bin_mask] == (y_probs[bin_mask] >= 0.5))\n",
    "            bin_error = np.abs(avg_confidence_in_bin - avg_accuracy_in_bin)\n",
    "            bin_errors.append(bin_error)\n",
    "            bin_centers.append((bin_edges[i] + bin_edges[i+1]) / 2)\n",
    "\n",
    "    plt.figure(figsize=(8, 6))\n",
    "    plt.bar(bin_centers, bin_errors, width=1/n_bins, edgecolor='k', alpha=0.7)\n",
    "    plt.xlabel('Predicted Probability Bin Center')\n",
    "    plt.ylabel('Calibration Error')\n",
    "    plt.title('Calibration Error per Probability Bin')\n",
    "    plt.grid(True)\n",
    "    plt.show()\n",
    "\n",
    "# Example usage\n",
    "plot_calibration_error_per_bin(validation_labels, validation_probs, n_bins=10)\n"
   ]
  },
  {
   "cell_type": "code",
   "execution_count": 57,
   "metadata": {},
   "outputs": [
    {
     "data": {
      "image/png": "[encoded data removed]",
      "text/plain": [
       "<Figure size 800x600 with 1 Axes>"
      ]
     },
     "metadata": {},
     "output_type": "display_data"
    }
   ],
   "source": [
    "def plot_true_vs_predicted_labels(y_true, y_pred, class_names=['Negative', 'Positive']):\n",
    "    plt.figure(figsize=(8, 6))\n",
    "    # True labels histogram\n",
    "    plt.hist(y_true, bins=np.arange(len(class_names)+1)-0.5, alpha=0.8, label='True Labels', edgecolor='k')\n",
    "    # Predicted labels histogram\n",
    "    plt.hist(y_pred, bins=np.arange(len(class_names)+1)-0.5, alpha=0.5, label='Predicted Labels', edgecolor='k')\n",
    "    plt.xticks(range(len(class_names)), class_names)\n",
    "    plt.xlabel('Class')\n",
    "    plt.ylabel('Number of Samples')\n",
    "    plt.title('True vs. Predicted Labels')\n",
    "    plt.legend()\n",
    "    plt.grid(True)\n",
    "    plt.show()\n",
    "\n",
    "# Example usage\n",
    "plot_true_vs_predicted_labels(validation_labels, validation_preds, class_names=['Negative', 'Positive'])\n"
   ]
  },
  {
   "cell_type": "code",
   "execution_count": 58,
   "metadata": {},
   "outputs": [
    {
     "data": {
      "image/png": "[encoded data removed]",
      "text/plain": [
       "<Figure size 800x600 with 1 Axes>"
      ]
     },
     "metadata": {},
     "output_type": "display_data"
    }
   ],
   "source": [
    "def plot_prediction_entropy(y_probs, title='Prediction Entropy Histogram'):\n",
    "    from scipy.stats import entropy\n",
    "    # For binary classification, compute entropy for each sample\n",
    "    y_probs_2d = np.vstack([1 - y_probs, y_probs]).T  # Shape: (n_samples, 2)\n",
    "    entropies = entropy(y_probs_2d.T)  # Entropy along the class axis\n",
    "    plt.figure(figsize=(8, 6))\n",
    "    plt.hist(entropies, bins=20, edgecolor='k', alpha=0.7)\n",
    "    plt.xlabel('Entropy')\n",
    "    plt.ylabel('Number of Samples')\n",
    "    plt.title(title)\n",
    "    plt.grid(True)\n",
    "    plt.show()\n",
    "\n",
    "# Example usage\n",
    "plot_prediction_entropy(validation_probs, title='Validation Set Prediction Entropy')\n"
   ]
  },
  {
   "cell_type": "code",
   "execution_count": 59,
   "metadata": {},
   "outputs": [
    {
     "data": {
      "image/png": "[encoded data removed]",
      "text/plain": [
       "<Figure size 800x600 with 1 Axes>"
      ]
     },
     "metadata": {},
     "output_type": "display_data"
    }
   ],
   "source": [
    "def plot_epoch_wise_validation_accuracy(model_validation_accuracies, model_index):\n",
    "    plt.figure(figsize=(8, 6))\n",
    "    plt.plot(model_validation_accuracies, label=f'Model {model_index + 1}')\n",
    "    plt.xlabel('Epoch')\n",
    "    plt.ylabel('Validation Accuracy')\n",
    "    plt.title(f'Model {model_index + 1} Validation Accuracy Over Epochs')\n",
    "    plt.legend()\n",
    "    plt.grid(True)\n",
    "    plt.show()\n",
    "\n",
    "# Example: Plot validation accuracies for the first model\n",
    "plot_epoch_wise_validation_accuracy(model_validation_accuracies[0], model_index=0)\n"
   ]
  },
  {
   "cell_type": "code",
   "execution_count": 93,
   "metadata": {},
   "outputs": [
    {
     "name": "stdout",
     "output_type": "stream",
     "text": [
      "Ensemble Validation Accuracy with Majority Voting: 86.58%\n"
     ]
    },
    {
     "data": {
      "image/png": "[encoded data removed]",
      "text/plain": [
       "<Figure size 640x480 with 2 Axes>"
      ]
     },
     "metadata": {},
     "output_type": "display_data"
    }
   ],
   "source": [
    "# Function to perform majority voting\n",
    "def majority_voting(ensemble, embeddings):\n",
    "    predictions = []\n",
    "    for model in ensemble:\n",
    "        model.eval()\n",
    "        with torch.no_grad():\n",
    "            outputs = model(embeddings)\n",
    "            _, predicted = torch.max(outputs, 1)\n",
    "            predictions.append(predicted.cpu().numpy())\n",
    "    # Stack predictions from all models\n",
    "    predictions = np.stack(predictions, axis=1)\n",
    "    # Perform majority voting\n",
    "    from scipy.stats import mode\n",
    "    majority_votes, _ = mode(predictions, axis=1)\n",
    "    return majority_votes.flatten()\n",
    "\n",
    "# Get ensemble predictions using majority voting on validation set\n",
    "validation_predictions = majority_voting(ensemble, validation_embeddings_tensor)\n",
    "accuracy = accuracy_score(validation_labels_tensor.cpu().numpy(), validation_predictions)\n",
    "print(f'Ensemble Validation Accuracy with Majority Voting: {accuracy*100:.2f}%')\n",
    "\n",
    "# Compute confusion matrix\n",
    "cm = confusion_matrix(validation_labels_tensor.cpu().numpy(), validation_predictions)\n",
    "\n",
    "# Plot confusion matrix\n",
    "disp = ConfusionMatrixDisplay(confusion_matrix=cm)\n",
    "disp.plot(cmap=plt.cm.Blues)\n",
    "plt.title('Confusion Matrix - Ensemble Majority Voting')\n",
    "plt.show()"
   ]
  },
  {
   "cell_type": "markdown",
   "metadata": {},
   "source": [
    "# Distillation"
   ]
  },
  {
   "cell_type": "code",
   "execution_count": 7,
   "metadata": {},
   "outputs": [],
   "source": [
    "# Define the student model with dropout to capture uncertainty\n",
    "class StudentModel(nn.Module):\n",
    "    def __init__(self, input_dim, num_classes):\n",
    "        super(StudentModel, self).__init__()\n",
    "        self.fc1 = nn.Linear(input_dim, 512)\n",
    "        self.bn1 = nn.BatchNorm1d(512)\n",
    "        self.fc2 = nn.Linear(512, 256)\n",
    "        self.bn2 = nn.BatchNorm1d(256)\n",
    "        self.fc3 = nn.Linear(256, 128)\n",
    "        self.bn3 = nn.BatchNorm1d(128)\n",
    "        self.fc4 = nn.Linear(128, num_classes)\n",
    "        self.dropout = nn.Dropout(p=0.5)\n",
    "        self.relu = nn.ReLU()\n",
    "\n",
    "    def forward(self, x):\n",
    "        x = self.fc1(x)\n",
    "        x = self.bn1(x)\n",
    "        x = self.relu(x)\n",
    "        x = self.dropout(x)\n",
    "        \n",
    "        x = self.fc2(x)\n",
    "        x = self.bn2(x)\n",
    "        x = self.relu(x)\n",
    "        x = self.dropout(x)\n",
    "        \n",
    "        x = self.fc3(x)\n",
    "        x = self.bn3(x)\n",
    "        x = self.relu(x)\n",
    "        x = self.dropout(x)\n",
    "        \n",
    "        x = self.fc4(x)\n",
    "        return x  # Logits\n",
    "\n",
    "# Initialize the student model\n",
    "student_model = StudentModel(input_dim=embeddings.shape[1], num_classes=2).to(device)\n",
    "\n",
    "# Define the distillation loss function\n",
    "def distillation_loss_function(student_outputs, teacher_outputs, true_labels, temperature=1.0, alpha=0.5):\n",
    "    \"\"\"\n",
    "    Compute the distillation loss given student outputs, teacher outputs, and true labels.\n",
    "    \"\"\"\n",
    "    # Convert logits to probabilities with temperature scaling\n",
    "    student_soft_logits = student_outputs / temperature\n",
    "    teacher_soft_probs = teacher_outputs  # Already probabilities\n",
    "\n",
    "    # Compute soft targets: apply softmax with temperature\n",
    "    student_soft_probs = torch.softmax(student_soft_logits, dim=1)\n",
    "    # teacher_soft_probs is numpy array, convert to tensor\n",
    "    teacher_soft_probs = torch.tensor(teacher_soft_probs, dtype=torch.float32).to(device)\n",
    "    \n",
    "    # Compute KL divergence loss between student and teacher outputs\n",
    "    kl_loss = nn.KLDivLoss(reduction='batchmean')(torch.log(student_soft_probs + 1e-9), teacher_soft_probs)\n",
    "    \n",
    "    # Compute cross-entropy loss with hard labels\n",
    "    ce_loss = nn.CrossEntropyLoss()(student_outputs, true_labels)\n",
    "    \n",
    "    # Total loss\n",
    "    loss = alpha * ce_loss + (1 - alpha) * kl_loss * (temperature ** 2)\n",
    "    return loss\n"
   ]
  },
  {
   "cell_type": "code",
   "execution_count": 8,
   "metadata": {},
   "outputs": [
    {
     "name": "stdout",
     "output_type": "stream",
     "text": [
      "\n",
      "Training the student model with distillation...\n",
      "embeddings shape: (67349, 2048)\n",
      "labels shape: (67349,)\n",
      "ensemble_predictions shape: (67349,)\n",
      "num_classes: 1\n"
     ]
    },
    {
     "name": "stderr",
     "output_type": "stream",
     "text": [
      "  0%|          | 0/100 [00:00<?, ?it/s]C:\\Users\\wsten\\AppData\\Local\\Temp\\ipykernel_87532\\1951624959.py:49: UserWarning: To copy construct from a tensor, it is recommended to use sourceTensor.clone().detach() or sourceTensor.clone().detach().requires_grad_(True), rather than torch.tensor(sourceTensor).\n",
      "  teacher_soft_probs = torch.tensor(teacher_soft_probs, dtype=torch.float32).to(device)\n",
      "  1%|          | 1/100 [00:05<08:30,  5.16s/it]"
     ]
    },
    {
     "name": "stdout",
     "output_type": "stream",
     "text": [
      "Epoch 1/100, Loss: 0.6582\n"
     ]
    },
    {
     "name": "stderr",
     "output_type": "stream",
     "text": [
      "  2%|▏         | 2/100 [00:10<08:18,  5.09s/it]"
     ]
    },
    {
     "name": "stdout",
     "output_type": "stream",
     "text": [
      "Epoch 2/100, Loss: 0.6399\n"
     ]
    },
    {
     "name": "stderr",
     "output_type": "stream",
     "text": [
      "  3%|▎         | 3/100 [00:15<08:17,  5.13s/it]"
     ]
    },
    {
     "name": "stdout",
     "output_type": "stream",
     "text": [
      "Epoch 3/100, Loss: 0.6330\n"
     ]
    },
    {
     "name": "stderr",
     "output_type": "stream",
     "text": [
      "  4%|▍         | 4/100 [00:20<08:11,  5.12s/it]"
     ]
    },
    {
     "name": "stdout",
     "output_type": "stream",
     "text": [
      "Epoch 4/100, Loss: 0.6271\n"
     ]
    },
    {
     "name": "stderr",
     "output_type": "stream",
     "text": [
      "  5%|▌         | 5/100 [00:25<08:12,  5.18s/it]"
     ]
    },
    {
     "name": "stdout",
     "output_type": "stream",
     "text": [
      "Epoch 5/100, Loss: 0.6214\n"
     ]
    },
    {
     "name": "stderr",
     "output_type": "stream",
     "text": [
      "  6%|▌         | 6/100 [00:30<07:58,  5.10s/it]"
     ]
    },
    {
     "name": "stdout",
     "output_type": "stream",
     "text": [
      "Epoch 6/100, Loss: 0.6182\n"
     ]
    },
    {
     "name": "stderr",
     "output_type": "stream",
     "text": [
      "  7%|▋         | 7/100 [00:35<07:50,  5.06s/it]"
     ]
    },
    {
     "name": "stdout",
     "output_type": "stream",
     "text": [
      "Epoch 7/100, Loss: 0.6126\n"
     ]
    },
    {
     "name": "stderr",
     "output_type": "stream",
     "text": [
      "  8%|▊         | 8/100 [00:40<07:44,  5.04s/it]"
     ]
    },
    {
     "name": "stdout",
     "output_type": "stream",
     "text": [
      "Epoch 8/100, Loss: 0.6082\n"
     ]
    },
    {
     "name": "stderr",
     "output_type": "stream",
     "text": [
      "  9%|▉         | 9/100 [00:45<07:37,  5.02s/it]"
     ]
    },
    {
     "name": "stdout",
     "output_type": "stream",
     "text": [
      "Epoch 9/100, Loss: 0.6053\n"
     ]
    },
    {
     "name": "stderr",
     "output_type": "stream",
     "text": [
      " 10%|█         | 10/100 [00:50<07:30,  5.01s/it]"
     ]
    },
    {
     "name": "stdout",
     "output_type": "stream",
     "text": [
      "Epoch 10/100, Loss: 0.6020\n"
     ]
    },
    {
     "name": "stderr",
     "output_type": "stream",
     "text": [
      " 11%|█         | 11/100 [00:55<07:23,  4.99s/it]"
     ]
    },
    {
     "name": "stdout",
     "output_type": "stream",
     "text": [
      "Epoch 11/100, Loss: 0.5979\n"
     ]
    },
    {
     "name": "stderr",
     "output_type": "stream",
     "text": [
      " 12%|█▏        | 12/100 [01:00<07:21,  5.02s/it]"
     ]
    },
    {
     "name": "stdout",
     "output_type": "stream",
     "text": [
      "Epoch 12/100, Loss: 0.5964\n"
     ]
    },
    {
     "name": "stderr",
     "output_type": "stream",
     "text": [
      " 13%|█▎        | 13/100 [01:05<07:17,  5.03s/it]"
     ]
    },
    {
     "name": "stdout",
     "output_type": "stream",
     "text": [
      "Epoch 13/100, Loss: 0.5925\n"
     ]
    },
    {
     "name": "stderr",
     "output_type": "stream",
     "text": [
      " 14%|█▍        | 14/100 [01:10<07:12,  5.03s/it]"
     ]
    },
    {
     "name": "stdout",
     "output_type": "stream",
     "text": [
      "Epoch 14/100, Loss: 0.5923\n"
     ]
    },
    {
     "name": "stderr",
     "output_type": "stream",
     "text": [
      " 15%|█▌        | 15/100 [01:15<07:07,  5.03s/it]"
     ]
    },
    {
     "name": "stdout",
     "output_type": "stream",
     "text": [
      "Epoch 15/100, Loss: 0.5896\n"
     ]
    },
    {
     "name": "stderr",
     "output_type": "stream",
     "text": [
      " 16%|█▌        | 16/100 [01:20<07:00,  5.00s/it]"
     ]
    },
    {
     "name": "stdout",
     "output_type": "stream",
     "text": [
      "Epoch 16/100, Loss: 0.5874\n"
     ]
    },
    {
     "name": "stderr",
     "output_type": "stream",
     "text": [
      " 17%|█▋        | 17/100 [01:25<06:53,  4.98s/it]"
     ]
    },
    {
     "name": "stdout",
     "output_type": "stream",
     "text": [
      "Epoch 17/100, Loss: 0.5858\n"
     ]
    },
    {
     "name": "stderr",
     "output_type": "stream",
     "text": [
      " 18%|█▊        | 18/100 [01:30<06:51,  5.02s/it]"
     ]
    },
    {
     "name": "stdout",
     "output_type": "stream",
     "text": [
      "Epoch 18/100, Loss: 0.5836\n"
     ]
    },
    {
     "name": "stderr",
     "output_type": "stream",
     "text": [
      " 19%|█▉        | 19/100 [01:35<06:46,  5.02s/it]"
     ]
    },
    {
     "name": "stdout",
     "output_type": "stream",
     "text": [
      "Epoch 19/100, Loss: 0.5810\n"
     ]
    },
    {
     "name": "stderr",
     "output_type": "stream",
     "text": [
      " 20%|██        | 20/100 [01:40<06:40,  5.01s/it]"
     ]
    },
    {
     "name": "stdout",
     "output_type": "stream",
     "text": [
      "Epoch 20/100, Loss: 0.5819\n"
     ]
    },
    {
     "name": "stderr",
     "output_type": "stream",
     "text": [
      " 21%|██        | 21/100 [01:45<06:38,  5.05s/it]"
     ]
    },
    {
     "name": "stdout",
     "output_type": "stream",
     "text": [
      "Epoch 21/100, Loss: 0.5794\n"
     ]
    },
    {
     "name": "stderr",
     "output_type": "stream",
     "text": [
      " 22%|██▏       | 22/100 [01:50<06:32,  5.03s/it]"
     ]
    },
    {
     "name": "stdout",
     "output_type": "stream",
     "text": [
      "Epoch 22/100, Loss: 0.5781\n"
     ]
    },
    {
     "name": "stderr",
     "output_type": "stream",
     "text": [
      " 23%|██▎       | 23/100 [01:55<06:26,  5.02s/it]"
     ]
    },
    {
     "name": "stdout",
     "output_type": "stream",
     "text": [
      "Epoch 23/100, Loss: 0.5772\n"
     ]
    },
    {
     "name": "stderr",
     "output_type": "stream",
     "text": [
      " 24%|██▍       | 24/100 [02:00<06:18,  4.99s/it]"
     ]
    },
    {
     "name": "stdout",
     "output_type": "stream",
     "text": [
      "Epoch 24/100, Loss: 0.5764\n"
     ]
    },
    {
     "name": "stderr",
     "output_type": "stream",
     "text": [
      " 25%|██▌       | 25/100 [02:05<06:12,  4.96s/it]"
     ]
    },
    {
     "name": "stdout",
     "output_type": "stream",
     "text": [
      "Epoch 25/100, Loss: 0.5761\n"
     ]
    },
    {
     "name": "stderr",
     "output_type": "stream",
     "text": [
      " 26%|██▌       | 26/100 [02:10<06:06,  4.95s/it]"
     ]
    },
    {
     "name": "stdout",
     "output_type": "stream",
     "text": [
      "Epoch 26/100, Loss: 0.5746\n"
     ]
    },
    {
     "name": "stderr",
     "output_type": "stream",
     "text": [
      " 27%|██▋       | 27/100 [02:15<06:00,  4.94s/it]"
     ]
    },
    {
     "name": "stdout",
     "output_type": "stream",
     "text": [
      "Epoch 27/100, Loss: 0.5739\n"
     ]
    },
    {
     "name": "stderr",
     "output_type": "stream",
     "text": [
      " 28%|██▊       | 28/100 [02:20<05:55,  4.94s/it]"
     ]
    },
    {
     "name": "stdout",
     "output_type": "stream",
     "text": [
      "Epoch 28/100, Loss: 0.5725\n"
     ]
    },
    {
     "name": "stderr",
     "output_type": "stream",
     "text": [
      " 29%|██▉       | 29/100 [02:25<05:49,  4.92s/it]"
     ]
    },
    {
     "name": "stdout",
     "output_type": "stream",
     "text": [
      "Epoch 29/100, Loss: 0.5714\n"
     ]
    },
    {
     "name": "stderr",
     "output_type": "stream",
     "text": [
      " 30%|███       | 30/100 [02:30<05:44,  4.92s/it]"
     ]
    },
    {
     "name": "stdout",
     "output_type": "stream",
     "text": [
      "Epoch 30/100, Loss: 0.5717\n"
     ]
    },
    {
     "name": "stderr",
     "output_type": "stream",
     "text": [
      " 31%|███       | 31/100 [02:35<05:39,  4.93s/it]"
     ]
    },
    {
     "name": "stdout",
     "output_type": "stream",
     "text": [
      "Epoch 31/100, Loss: 0.5706\n"
     ]
    },
    {
     "name": "stderr",
     "output_type": "stream",
     "text": [
      " 32%|███▏      | 32/100 [02:40<05:35,  4.94s/it]"
     ]
    },
    {
     "name": "stdout",
     "output_type": "stream",
     "text": [
      "Epoch 32/100, Loss: 0.5706\n"
     ]
    },
    {
     "name": "stderr",
     "output_type": "stream",
     "text": [
      " 33%|███▎      | 33/100 [02:45<05:30,  4.93s/it]"
     ]
    },
    {
     "name": "stdout",
     "output_type": "stream",
     "text": [
      "Epoch 33/100, Loss: 0.5700\n"
     ]
    },
    {
     "name": "stderr",
     "output_type": "stream",
     "text": [
      " 34%|███▍      | 34/100 [02:50<05:25,  4.94s/it]"
     ]
    },
    {
     "name": "stdout",
     "output_type": "stream",
     "text": [
      "Epoch 34/100, Loss: 0.5691\n"
     ]
    },
    {
     "name": "stderr",
     "output_type": "stream",
     "text": [
      " 35%|███▌      | 35/100 [02:55<05:22,  4.96s/it]"
     ]
    },
    {
     "name": "stdout",
     "output_type": "stream",
     "text": [
      "Epoch 35/100, Loss: 0.5683\n"
     ]
    },
    {
     "name": "stderr",
     "output_type": "stream",
     "text": [
      " 36%|███▌      | 36/100 [03:00<05:17,  4.96s/it]"
     ]
    },
    {
     "name": "stdout",
     "output_type": "stream",
     "text": [
      "Epoch 36/100, Loss: 0.5685\n"
     ]
    },
    {
     "name": "stderr",
     "output_type": "stream",
     "text": [
      " 37%|███▋      | 37/100 [03:05<05:12,  4.97s/it]"
     ]
    },
    {
     "name": "stdout",
     "output_type": "stream",
     "text": [
      "Epoch 37/100, Loss: 0.5680\n"
     ]
    },
    {
     "name": "stderr",
     "output_type": "stream",
     "text": [
      " 38%|███▊      | 38/100 [03:09<05:06,  4.94s/it]"
     ]
    },
    {
     "name": "stdout",
     "output_type": "stream",
     "text": [
      "Epoch 38/100, Loss: 0.5658\n"
     ]
    },
    {
     "name": "stderr",
     "output_type": "stream",
     "text": [
      " 39%|███▉      | 39/100 [03:14<05:01,  4.94s/it]"
     ]
    },
    {
     "name": "stdout",
     "output_type": "stream",
     "text": [
      "Epoch 39/100, Loss: 0.5666\n"
     ]
    },
    {
     "name": "stderr",
     "output_type": "stream",
     "text": [
      " 40%|████      | 40/100 [03:19<04:57,  4.96s/it]"
     ]
    },
    {
     "name": "stdout",
     "output_type": "stream",
     "text": [
      "Epoch 40/100, Loss: 0.5652\n"
     ]
    },
    {
     "name": "stderr",
     "output_type": "stream",
     "text": [
      " 41%|████      | 41/100 [03:24<04:53,  4.97s/it]"
     ]
    },
    {
     "name": "stdout",
     "output_type": "stream",
     "text": [
      "Epoch 41/100, Loss: 0.5653\n"
     ]
    },
    {
     "name": "stderr",
     "output_type": "stream",
     "text": [
      " 42%|████▏     | 42/100 [03:29<04:47,  4.96s/it]"
     ]
    },
    {
     "name": "stdout",
     "output_type": "stream",
     "text": [
      "Epoch 42/100, Loss: 0.5645\n"
     ]
    },
    {
     "name": "stderr",
     "output_type": "stream",
     "text": [
      " 43%|████▎     | 43/100 [03:34<04:42,  4.95s/it]"
     ]
    },
    {
     "name": "stdout",
     "output_type": "stream",
     "text": [
      "Epoch 43/100, Loss: 0.5650\n"
     ]
    },
    {
     "name": "stderr",
     "output_type": "stream",
     "text": [
      " 44%|████▍     | 44/100 [03:39<04:37,  4.96s/it]"
     ]
    },
    {
     "name": "stdout",
     "output_type": "stream",
     "text": [
      "Epoch 44/100, Loss: 0.5640\n"
     ]
    },
    {
     "name": "stderr",
     "output_type": "stream",
     "text": [
      " 45%|████▌     | 45/100 [03:44<04:32,  4.95s/it]"
     ]
    },
    {
     "name": "stdout",
     "output_type": "stream",
     "text": [
      "Epoch 45/100, Loss: 0.5639\n"
     ]
    },
    {
     "name": "stderr",
     "output_type": "stream",
     "text": [
      " 46%|████▌     | 46/100 [03:49<04:27,  4.95s/it]"
     ]
    },
    {
     "name": "stdout",
     "output_type": "stream",
     "text": [
      "Epoch 46/100, Loss: 0.5635\n"
     ]
    },
    {
     "name": "stderr",
     "output_type": "stream",
     "text": [
      " 47%|████▋     | 47/100 [03:54<04:22,  4.95s/it]"
     ]
    },
    {
     "name": "stdout",
     "output_type": "stream",
     "text": [
      "Epoch 47/100, Loss: 0.5633\n"
     ]
    },
    {
     "name": "stderr",
     "output_type": "stream",
     "text": [
      " 48%|████▊     | 48/100 [03:59<04:17,  4.95s/it]"
     ]
    },
    {
     "name": "stdout",
     "output_type": "stream",
     "text": [
      "Epoch 48/100, Loss: 0.5623\n"
     ]
    },
    {
     "name": "stderr",
     "output_type": "stream",
     "text": [
      " 49%|████▉     | 49/100 [04:04<04:12,  4.95s/it]"
     ]
    },
    {
     "name": "stdout",
     "output_type": "stream",
     "text": [
      "Epoch 49/100, Loss: 0.5629\n"
     ]
    },
    {
     "name": "stderr",
     "output_type": "stream",
     "text": [
      " 50%|█████     | 50/100 [04:09<04:06,  4.93s/it]"
     ]
    },
    {
     "name": "stdout",
     "output_type": "stream",
     "text": [
      "Epoch 50/100, Loss: 0.5618\n"
     ]
    },
    {
     "name": "stderr",
     "output_type": "stream",
     "text": [
      " 51%|█████     | 51/100 [04:14<04:02,  4.94s/it]"
     ]
    },
    {
     "name": "stdout",
     "output_type": "stream",
     "text": [
      "Epoch 51/100, Loss: 0.5614\n"
     ]
    },
    {
     "name": "stderr",
     "output_type": "stream",
     "text": [
      " 52%|█████▏    | 52/100 [04:19<04:00,  5.00s/it]"
     ]
    },
    {
     "name": "stdout",
     "output_type": "stream",
     "text": [
      "Epoch 52/100, Loss: 0.5610\n"
     ]
    },
    {
     "name": "stderr",
     "output_type": "stream",
     "text": [
      " 53%|█████▎    | 53/100 [04:24<03:56,  5.03s/it]"
     ]
    },
    {
     "name": "stdout",
     "output_type": "stream",
     "text": [
      "Epoch 53/100, Loss: 0.5607\n"
     ]
    },
    {
     "name": "stderr",
     "output_type": "stream",
     "text": [
      " 54%|█████▍    | 54/100 [04:29<03:51,  5.03s/it]"
     ]
    },
    {
     "name": "stdout",
     "output_type": "stream",
     "text": [
      "Epoch 54/100, Loss: 0.5601\n"
     ]
    },
    {
     "name": "stderr",
     "output_type": "stream",
     "text": [
      " 55%|█████▌    | 55/100 [04:34<03:46,  5.04s/it]"
     ]
    },
    {
     "name": "stdout",
     "output_type": "stream",
     "text": [
      "Epoch 55/100, Loss: 0.5612\n"
     ]
    },
    {
     "name": "stderr",
     "output_type": "stream",
     "text": [
      " 56%|█████▌    | 56/100 [04:39<03:40,  5.02s/it]"
     ]
    },
    {
     "name": "stdout",
     "output_type": "stream",
     "text": [
      "Epoch 56/100, Loss: 0.5598\n"
     ]
    },
    {
     "name": "stderr",
     "output_type": "stream",
     "text": [
      " 57%|█████▋    | 57/100 [04:44<03:35,  5.01s/it]"
     ]
    },
    {
     "name": "stdout",
     "output_type": "stream",
     "text": [
      "Epoch 57/100, Loss: 0.5605\n"
     ]
    },
    {
     "name": "stderr",
     "output_type": "stream",
     "text": [
      " 58%|█████▊    | 58/100 [04:49<03:29,  4.99s/it]"
     ]
    },
    {
     "name": "stdout",
     "output_type": "stream",
     "text": [
      "Epoch 58/100, Loss: 0.5598\n"
     ]
    },
    {
     "name": "stderr",
     "output_type": "stream",
     "text": [
      " 59%|█████▉    | 59/100 [04:54<03:25,  5.00s/it]"
     ]
    },
    {
     "name": "stdout",
     "output_type": "stream",
     "text": [
      "Epoch 59/100, Loss: 0.5591\n"
     ]
    },
    {
     "name": "stderr",
     "output_type": "stream",
     "text": [
      " 60%|██████    | 60/100 [04:59<03:20,  5.00s/it]"
     ]
    },
    {
     "name": "stdout",
     "output_type": "stream",
     "text": [
      "Epoch 60/100, Loss: 0.5600\n"
     ]
    },
    {
     "name": "stderr",
     "output_type": "stream",
     "text": [
      " 61%|██████    | 61/100 [05:04<03:14,  4.98s/it]"
     ]
    },
    {
     "name": "stdout",
     "output_type": "stream",
     "text": [
      "Epoch 61/100, Loss: 0.5596\n"
     ]
    },
    {
     "name": "stderr",
     "output_type": "stream",
     "text": [
      " 62%|██████▏   | 62/100 [05:09<03:09,  4.98s/it]"
     ]
    },
    {
     "name": "stdout",
     "output_type": "stream",
     "text": [
      "Epoch 62/100, Loss: 0.5587\n"
     ]
    },
    {
     "name": "stderr",
     "output_type": "stream",
     "text": [
      " 63%|██████▎   | 63/100 [05:14<03:04,  5.00s/it]"
     ]
    },
    {
     "name": "stdout",
     "output_type": "stream",
     "text": [
      "Epoch 63/100, Loss: 0.5575\n"
     ]
    },
    {
     "name": "stderr",
     "output_type": "stream",
     "text": [
      " 64%|██████▍   | 64/100 [05:19<03:00,  5.02s/it]"
     ]
    },
    {
     "name": "stdout",
     "output_type": "stream",
     "text": [
      "Epoch 64/100, Loss: 0.5568\n"
     ]
    },
    {
     "name": "stderr",
     "output_type": "stream",
     "text": [
      " 65%|██████▌   | 65/100 [05:24<02:56,  5.05s/it]"
     ]
    },
    {
     "name": "stdout",
     "output_type": "stream",
     "text": [
      "Epoch 65/100, Loss: 0.5579\n"
     ]
    },
    {
     "name": "stderr",
     "output_type": "stream",
     "text": [
      " 66%|██████▌   | 66/100 [05:29<02:51,  5.04s/it]"
     ]
    },
    {
     "name": "stdout",
     "output_type": "stream",
     "text": [
      "Epoch 66/100, Loss: 0.5576\n"
     ]
    },
    {
     "name": "stderr",
     "output_type": "stream",
     "text": [
      " 67%|██████▋   | 67/100 [05:34<02:45,  5.02s/it]"
     ]
    },
    {
     "name": "stdout",
     "output_type": "stream",
     "text": [
      "Epoch 67/100, Loss: 0.5577\n"
     ]
    },
    {
     "name": "stderr",
     "output_type": "stream",
     "text": [
      " 68%|██████▊   | 68/100 [05:39<02:40,  5.01s/it]"
     ]
    },
    {
     "name": "stdout",
     "output_type": "stream",
     "text": [
      "Epoch 68/100, Loss: 0.5577\n"
     ]
    },
    {
     "name": "stderr",
     "output_type": "stream",
     "text": [
      " 69%|██████▉   | 69/100 [05:44<02:35,  5.02s/it]"
     ]
    },
    {
     "name": "stdout",
     "output_type": "stream",
     "text": [
      "Epoch 69/100, Loss: 0.5566\n"
     ]
    },
    {
     "name": "stderr",
     "output_type": "stream",
     "text": [
      " 70%|███████   | 70/100 [05:49<02:30,  5.01s/it]"
     ]
    },
    {
     "name": "stdout",
     "output_type": "stream",
     "text": [
      "Epoch 70/100, Loss: 0.5553\n"
     ]
    },
    {
     "name": "stderr",
     "output_type": "stream",
     "text": [
      " 71%|███████   | 71/100 [05:54<02:25,  5.00s/it]"
     ]
    },
    {
     "name": "stdout",
     "output_type": "stream",
     "text": [
      "Epoch 71/100, Loss: 0.5566\n"
     ]
    },
    {
     "name": "stderr",
     "output_type": "stream",
     "text": [
      " 72%|███████▏  | 72/100 [05:59<02:19,  5.00s/it]"
     ]
    },
    {
     "name": "stdout",
     "output_type": "stream",
     "text": [
      "Epoch 72/100, Loss: 0.5553\n"
     ]
    },
    {
     "name": "stderr",
     "output_type": "stream",
     "text": [
      " 73%|███████▎  | 73/100 [06:04<02:14,  5.00s/it]"
     ]
    },
    {
     "name": "stdout",
     "output_type": "stream",
     "text": [
      "Epoch 73/100, Loss: 0.5564\n"
     ]
    },
    {
     "name": "stderr",
     "output_type": "stream",
     "text": [
      " 74%|███████▍  | 74/100 [06:09<02:09,  4.99s/it]"
     ]
    },
    {
     "name": "stdout",
     "output_type": "stream",
     "text": [
      "Epoch 74/100, Loss: 0.5563\n"
     ]
    },
    {
     "name": "stderr",
     "output_type": "stream",
     "text": [
      " 75%|███████▌  | 75/100 [06:14<02:04,  4.99s/it]"
     ]
    },
    {
     "name": "stdout",
     "output_type": "stream",
     "text": [
      "Epoch 75/100, Loss: 0.5554\n"
     ]
    },
    {
     "name": "stderr",
     "output_type": "stream",
     "text": [
      " 76%|███████▌  | 76/100 [06:19<02:00,  5.00s/it]"
     ]
    },
    {
     "name": "stdout",
     "output_type": "stream",
     "text": [
      "Epoch 76/100, Loss: 0.5546\n"
     ]
    },
    {
     "name": "stderr",
     "output_type": "stream",
     "text": [
      " 77%|███████▋  | 77/100 [06:24<01:55,  5.01s/it]"
     ]
    },
    {
     "name": "stdout",
     "output_type": "stream",
     "text": [
      "Epoch 77/100, Loss: 0.5550\n"
     ]
    },
    {
     "name": "stderr",
     "output_type": "stream",
     "text": [
      " 78%|███████▊  | 78/100 [06:29<01:50,  5.02s/it]"
     ]
    },
    {
     "name": "stdout",
     "output_type": "stream",
     "text": [
      "Epoch 78/100, Loss: 0.5541\n"
     ]
    },
    {
     "name": "stderr",
     "output_type": "stream",
     "text": [
      " 79%|███████▉  | 79/100 [06:34<01:45,  5.01s/it]"
     ]
    },
    {
     "name": "stdout",
     "output_type": "stream",
     "text": [
      "Epoch 79/100, Loss: 0.5543\n"
     ]
    },
    {
     "name": "stderr",
     "output_type": "stream",
     "text": [
      " 80%|████████  | 80/100 [06:39<01:40,  5.01s/it]"
     ]
    },
    {
     "name": "stdout",
     "output_type": "stream",
     "text": [
      "Epoch 80/100, Loss: 0.5541\n"
     ]
    },
    {
     "name": "stderr",
     "output_type": "stream",
     "text": [
      " 81%|████████  | 81/100 [06:44<01:34,  5.00s/it]"
     ]
    },
    {
     "name": "stdout",
     "output_type": "stream",
     "text": [
      "Epoch 81/100, Loss: 0.5538\n"
     ]
    },
    {
     "name": "stderr",
     "output_type": "stream",
     "text": [
      " 82%|████████▏ | 82/100 [06:49<01:29,  5.00s/it]"
     ]
    },
    {
     "name": "stdout",
     "output_type": "stream",
     "text": [
      "Epoch 82/100, Loss: 0.5547\n"
     ]
    },
    {
     "name": "stderr",
     "output_type": "stream",
     "text": [
      " 83%|████████▎ | 83/100 [06:54<01:25,  5.00s/it]"
     ]
    },
    {
     "name": "stdout",
     "output_type": "stream",
     "text": [
      "Epoch 83/100, Loss: 0.5540\n"
     ]
    },
    {
     "name": "stderr",
     "output_type": "stream",
     "text": [
      " 84%|████████▍ | 84/100 [06:59<01:20,  5.01s/it]"
     ]
    },
    {
     "name": "stdout",
     "output_type": "stream",
     "text": [
      "Epoch 84/100, Loss: 0.5529\n"
     ]
    },
    {
     "name": "stderr",
     "output_type": "stream",
     "text": [
      " 85%|████████▌ | 85/100 [07:04<01:14,  4.99s/it]"
     ]
    },
    {
     "name": "stdout",
     "output_type": "stream",
     "text": [
      "Epoch 85/100, Loss: 0.5532\n"
     ]
    },
    {
     "name": "stderr",
     "output_type": "stream",
     "text": [
      " 86%|████████▌ | 86/100 [07:09<01:09,  4.98s/it]"
     ]
    },
    {
     "name": "stdout",
     "output_type": "stream",
     "text": [
      "Epoch 86/100, Loss: 0.5537\n"
     ]
    },
    {
     "name": "stderr",
     "output_type": "stream",
     "text": [
      " 87%|████████▋ | 87/100 [07:14<01:04,  4.99s/it]"
     ]
    },
    {
     "name": "stdout",
     "output_type": "stream",
     "text": [
      "Epoch 87/100, Loss: 0.5527\n"
     ]
    },
    {
     "name": "stderr",
     "output_type": "stream",
     "text": [
      " 88%|████████▊ | 88/100 [07:19<01:00,  5.01s/it]"
     ]
    },
    {
     "name": "stdout",
     "output_type": "stream",
     "text": [
      "Epoch 88/100, Loss: 0.5526\n"
     ]
    },
    {
     "name": "stderr",
     "output_type": "stream",
     "text": [
      " 89%|████████▉ | 89/100 [07:24<00:55,  5.01s/it]"
     ]
    },
    {
     "name": "stdout",
     "output_type": "stream",
     "text": [
      "Epoch 89/100, Loss: 0.5533\n"
     ]
    },
    {
     "name": "stderr",
     "output_type": "stream",
     "text": [
      " 90%|█████████ | 90/100 [07:29<00:49,  5.00s/it]"
     ]
    },
    {
     "name": "stdout",
     "output_type": "stream",
     "text": [
      "Epoch 90/100, Loss: 0.5530\n"
     ]
    },
    {
     "name": "stderr",
     "output_type": "stream",
     "text": [
      " 91%|█████████ | 91/100 [07:35<00:46,  5.14s/it]"
     ]
    },
    {
     "name": "stdout",
     "output_type": "stream",
     "text": [
      "Epoch 91/100, Loss: 0.5533\n"
     ]
    },
    {
     "name": "stderr",
     "output_type": "stream",
     "text": [
      " 92%|█████████▏| 92/100 [07:40<00:41,  5.15s/it]"
     ]
    },
    {
     "name": "stdout",
     "output_type": "stream",
     "text": [
      "Epoch 92/100, Loss: 0.5531\n"
     ]
    },
    {
     "name": "stderr",
     "output_type": "stream",
     "text": [
      " 93%|█████████▎| 93/100 [07:45<00:35,  5.11s/it]"
     ]
    },
    {
     "name": "stdout",
     "output_type": "stream",
     "text": [
      "Epoch 93/100, Loss: 0.5531\n"
     ]
    },
    {
     "name": "stderr",
     "output_type": "stream",
     "text": [
      " 94%|█████████▍| 94/100 [07:50<00:30,  5.07s/it]"
     ]
    },
    {
     "name": "stdout",
     "output_type": "stream",
     "text": [
      "Epoch 94/100, Loss: 0.5520\n"
     ]
    },
    {
     "name": "stderr",
     "output_type": "stream",
     "text": [
      " 95%|█████████▌| 95/100 [07:55<00:25,  5.06s/it]"
     ]
    },
    {
     "name": "stdout",
     "output_type": "stream",
     "text": [
      "Epoch 95/100, Loss: 0.5517\n"
     ]
    },
    {
     "name": "stderr",
     "output_type": "stream",
     "text": [
      " 96%|█████████▌| 96/100 [08:00<00:20,  5.06s/it]"
     ]
    },
    {
     "name": "stdout",
     "output_type": "stream",
     "text": [
      "Epoch 96/100, Loss: 0.5521\n"
     ]
    },
    {
     "name": "stderr",
     "output_type": "stream",
     "text": [
      " 97%|█████████▋| 97/100 [08:05<00:15,  5.06s/it]"
     ]
    },
    {
     "name": "stdout",
     "output_type": "stream",
     "text": [
      "Epoch 97/100, Loss: 0.5515\n"
     ]
    },
    {
     "name": "stderr",
     "output_type": "stream",
     "text": [
      " 98%|█████████▊| 98/100 [08:10<00:10,  5.04s/it]"
     ]
    },
    {
     "name": "stdout",
     "output_type": "stream",
     "text": [
      "Epoch 98/100, Loss: 0.5520\n"
     ]
    },
    {
     "name": "stderr",
     "output_type": "stream",
     "text": [
      " 99%|█████████▉| 99/100 [08:15<00:05,  5.03s/it]"
     ]
    },
    {
     "name": "stdout",
     "output_type": "stream",
     "text": [
      "Epoch 99/100, Loss: 0.5510\n"
     ]
    },
    {
     "name": "stderr",
     "output_type": "stream",
     "text": [
      "100%|██████████| 100/100 [08:20<00:00,  5.00s/it]"
     ]
    },
    {
     "name": "stdout",
     "output_type": "stream",
     "text": [
      "Epoch 100/100, Loss: 0.5513\n"
     ]
    },
    {
     "name": "stderr",
     "output_type": "stream",
     "text": [
      "\n"
     ]
    }
   ],
   "source": [
    "# Function to train the student model\n",
    "def train_student_model(student_model, embeddings, labels, ensemble_predictions, epochs=100, batch_size=128, temperature=1.0, alpha=0.5):\n",
    "    student_model.train()\n",
    "    optimizer = optim.Adam(student_model.parameters(), lr=1e-3)\n",
    "    dataset_size = embeddings.shape[0]\n",
    "    indices = np.arange(dataset_size)\n",
    "    \n",
    "    # Debugging prints\n",
    "    print(f\"embeddings shape: {embeddings.shape}\")\n",
    "    print(f\"labels shape: {labels.shape}\")\n",
    "    print(f\"ensemble_predictions shape: {ensemble_predictions.shape}\")\n",
    "    \n",
    "    # Ensure ensemble_predictions is 2D\n",
    "    if len(ensemble_predictions.shape) == 1:\n",
    "        ensemble_predictions = np.expand_dims(ensemble_predictions, axis=1)\n",
    "    \n",
    "    num_classes = ensemble_predictions.shape[1]\n",
    "    print(f\"num_classes: {num_classes}\")\n",
    "    \n",
    "    for epoch in tqdm(range(epochs)):\n",
    "        np.random.shuffle(indices)\n",
    "        epoch_loss = 0.0\n",
    "        for i in range(0, dataset_size, batch_size):\n",
    "            batch_indices = indices[i:i+batch_size]\n",
    "            batch_embeddings = torch.tensor(embeddings[batch_indices], dtype=torch.float32).to(device)\n",
    "            batch_labels = torch.tensor(labels[batch_indices], dtype=torch.long).to(device)\n",
    "            batch_teacher_outputs = torch.tensor(ensemble_predictions[batch_indices], dtype=torch.float32).to(device)  # Convert to tensor\n",
    "            \n",
    "            optimizer.zero_grad()\n",
    "            student_outputs = student_model(batch_embeddings)  # logits\n",
    "            \n",
    "            loss = distillation_loss_function(student_outputs, batch_teacher_outputs, batch_labels, temperature, alpha)\n",
    "            loss.backward()\n",
    "            optimizer.step()\n",
    "            epoch_loss += loss.item() * batch_embeddings.size(0)\n",
    "        epoch_loss /= dataset_size\n",
    "        print(f\"Epoch {epoch+1}/{epochs}, Loss: {epoch_loss:.4f}\")\n",
    "\n",
    "# Train the student model\n",
    "print(\"\\nTraining the student model with distillation...\")\n",
    "train_student_model(student_model, embeddings, labels, ensemble_predictions, epochs=100, batch_size=32, temperature=1.0, alpha=0.5)\n"
   ]
  },
  {
   "cell_type": "code",
   "execution_count": 9,
   "metadata": {},
   "outputs": [
    {
     "name": "stdout",
     "output_type": "stream",
     "text": [
      "\n",
      "Evaluating the student model...\n",
      "Accuracy: 98.71%\n"
     ]
    }
   ],
   "source": [
    "# Function to evaluate the student model\n",
    "def evaluate_model(model, embeddings, labels, batch_size=128):\n",
    "    model.eval()\n",
    "    dataset_size = embeddings.shape[0]\n",
    "    embeddings_tensor = torch.tensor(embeddings, dtype=torch.float32).to(device)\n",
    "    labels_tensor = torch.tensor(labels, dtype=torch.long).to(device)\n",
    "    correct = 0\n",
    "    total = 0\n",
    "    with torch.no_grad():\n",
    "        for i in range(0, dataset_size, batch_size):\n",
    "            batch_embeddings = embeddings_tensor[i:i+batch_size]\n",
    "            batch_labels = labels_tensor[i:i+batch_size]\n",
    "            outputs = model(batch_embeddings)\n",
    "            probabilities = torch.softmax(outputs, dim=1)\n",
    "            predicted = torch.argmax(probabilities, dim=1)\n",
    "            correct += (predicted == batch_labels).sum().item()\n",
    "            total += batch_labels.size(0)\n",
    "    accuracy = correct / total\n",
    "    print(f\"Accuracy: {accuracy * 100:.2f}%\")\n",
    "    return accuracy\n",
    "\n",
    "# Evaluate the student model\n",
    "print(\"\\nEvaluating the student model...\")\n",
    "accuracy = evaluate_model(student_model, embeddings, labels)\n"
   ]
  },
  {
   "cell_type": "code",
   "execution_count": 10,
   "metadata": {},
   "outputs": [
    {
     "name": "stdout",
     "output_type": "stream",
     "text": [
      "\n",
      "Getting student predictions with uncertainty estimates...\n",
      "Ensemble predictive entropy for first few samples: [2.0723267e-08 2.0723267e-08 2.0723267e-08 2.0723267e-08 2.0723267e-08]\n",
      "Student predictive entropy for first few samples: [0.26634264 0.04752294 0.6358984  0.6465453  0.02644987]\n",
      "Ensemble predictive entropy mean: 0.0002\n",
      "Student predictive entropy mean: 0.4028\n",
      "enemble predictive entropy std: 0.0079\n",
      "student predictive entropy std: 0.2888\n"
     ]
    },
    {
     "data": {
      "image/png": "[encoded data removed]",
      "text/plain": [
       "<Figure size 1000x600 with 1 Axes>"
      ]
     },
     "metadata": {},
     "output_type": "display_data"
    },
    {
     "data": {
      "image/png": "[encoded data removed]",
      "text/plain": [
       "<Figure size 1000x600 with 1 Axes>"
      ]
     },
     "metadata": {},
     "output_type": "display_data"
    }
   ],
   "source": [
    "# Function to get student predictions with uncertainty estimates using Monte Carlo Dropout\n",
    "def get_student_predictions_with_uncertainty(model, embeddings, T=10, batch_size=128):\n",
    "    model.train()  # Enable dropout\n",
    "    dataset_size = embeddings.shape[0]\n",
    "    embeddings_tensor = torch.tensor(embeddings, dtype=torch.float32).to(device)\n",
    "    all_predictions = []\n",
    "    with torch.no_grad():\n",
    "        for t in range(T):\n",
    "            predictions = []\n",
    "            for i in range(0, dataset_size, batch_size):\n",
    "                batch_embeddings = embeddings_tensor[i:i+batch_size]\n",
    "                outputs = model(batch_embeddings)\n",
    "                probabilities = torch.softmax(outputs, dim=1)\n",
    "                predictions.append(probabilities.cpu().numpy())\n",
    "            predictions = np.concatenate(predictions, axis=0)\n",
    "            all_predictions.append(predictions)\n",
    "    # Stack predictions: shape (T, num_samples, num_classes)\n",
    "    all_predictions = np.stack(all_predictions)\n",
    "    # Compute mean and variance\n",
    "    mean_predictions = np.mean(all_predictions, axis=0)\n",
    "    variance_predictions = np.var(all_predictions, axis=0)\n",
    "    # Compute predictive entropy\n",
    "    predictive_entropy = -np.sum(mean_predictions * np.log(mean_predictions + 1e-9), axis=1)\n",
    "    return mean_predictions, variance_predictions, predictive_entropy\n",
    "\n",
    "# Get student predictions and uncertainties\n",
    "print(\"\\nGetting student predictions with uncertainty estimates...\")\n",
    "student_mean_predictions, student_variance_predictions, student_entropy = get_student_predictions_with_uncertainty(student_model, embeddings)\n",
    "\n",
    "# Print predictive uncertainty for the first few samples\n",
    "print(f'Ensemble predictive entropy for first few samples: {predictive_entropy[:5]}')\n",
    "print(f'Student predictive entropy for first few samples: {student_entropy[:5]}')\n",
    "print(f'Ensemble predictive entropy mean: {np.mean(predictive_entropy):.4f}')\n",
    "print(f'Student predictive entropy mean: {np.mean(student_entropy):.4f}')\n",
    "print(f'enemble predictive entropy std: {np.std(predictive_entropy):.4f}')\n",
    "print(f'student predictive entropy std: {np.std(student_entropy):.4f}')\n",
    "\n",
    "# plot the predictive entropy\n",
    "plt.figure(figsize=(10, 6))\n",
    "plt.hist(predictive_entropy, bins=50, alpha=0.5, label='Ensemble Predictive Entropy')\n",
    "plt.hist(student_entropy, bins=50, alpha=0.5, label='Student Predictive Entropy')\n",
    "plt.xlabel('Predictive Entropy')\n",
    "plt.ylabel('Frequency')\n",
    "plt.legend()\n",
    "plt.show()\n",
    "\n",
    "# plot the predictive variance\n",
    "plt.figure(figsize=(10, 6))\n",
    "plt.hist(predictive_variance, bins=50, alpha=0.5, label='Ensemble Predictive Variance')\n",
    "plt.hist(student_variance_predictions, bins=50, alpha=0.5, label='Student Predictive Variance')\n",
    "plt.xlabel('Predictive Variance')\n",
    "plt.ylabel('Frequency')\n",
    "plt.legend()\n",
    "plt.show()"
   ]
  }
 ],
 "metadata": {
  "kernelspec": {
   "display_name": "diffusion",
   "language": "python",
   "name": "python3"
  },
  "language_info": {
   "codemirror_mode": {
    "name": "ipython",
    "version": 3
   },
   "file_extension": ".py",
   "mimetype": "text/x-python",
   "name": "python",
   "nbconvert_exporter": "python",
   "pygments_lexer": "ipython3",
   "version": "3.12.3"
  }
 },
 "nbformat": 4,
 "nbformat_minor": 2
}
